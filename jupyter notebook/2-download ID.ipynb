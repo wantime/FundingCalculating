{
 "cells": [
  {
   "cell_type": "code",
   "execution_count": 2,
   "id": "cd819264",
   "metadata": {},
   "outputs": [],
   "source": [
    "from typing import List,Any,Union\n",
    "import requests\n",
    "import execjs\n",
    "import pandas as pd\n",
    "import numpy as np"
   ]
  },
  {
   "cell_type": "code",
   "execution_count": 3,
   "id": "68bbbcbe",
   "metadata": {},
   "outputs": [],
   "source": [
    "url = 'http://fund.eastmoney.com/js/fundcode_search.js'\n",
    "content = requests.get(url)\n",
    "jsContent = execjs.compile(content.text)\n",
    "rawData = jsContent.eval('r')\n",
    "allInfo = list\n",
    "# allInfo: list[Union[list[str], Any]] = [[\"基金代码\", \"基金简拼\", \"基金名称\", \"基金类型\", \"基金全拼\"]]\n",
    "for code in rawData:\n",
    "    allInfo.append(code)"
   ]
  },
  {
   "cell_type": "code",
   "execution_count": 20,
   "id": "1d50def4",
   "metadata": {},
   "outputs": [],
   "source": [
    "allInfo: list[Union[list[str], Any]] = [[\"基金代码\", \"基金简拼\", \"基金名称\", \"基金类型\", \"基金全拼\"]]\n",
    "for code in rawData:\n",
    "    allInfo.append(code)"
   ]
  },
  {
   "cell_type": "code",
   "execution_count": 21,
   "id": "879a91d5",
   "metadata": {},
   "outputs": [
    {
     "data": {
      "text/plain": [
       "16563"
      ]
     },
     "execution_count": 21,
     "metadata": {},
     "output_type": "execute_result"
    }
   ],
   "source": [
    "len(allInfo)"
   ]
  },
  {
   "cell_type": "code",
   "execution_count": 22,
   "id": "9e83a868",
   "metadata": {},
   "outputs": [
    {
     "data": {
      "text/plain": [
       "(16563, 5)"
      ]
     },
     "execution_count": 22,
     "metadata": {},
     "output_type": "execute_result"
    }
   ],
   "source": [
    "info = np.zeros(shape=(len(allInfo), len(allInfo[0])))\n",
    "info.shape"
   ]
  },
  {
   "cell_type": "code",
   "execution_count": 23,
   "id": "f0e38dd0",
   "metadata": {},
   "outputs": [],
   "source": [
    "myInfo = np.array(allInfo)"
   ]
  },
  {
   "cell_type": "code",
   "execution_count": 29,
   "id": "02ef63e9",
   "metadata": {},
   "outputs": [],
   "source": [
    "myInfo = myInfo[1:-1,:]"
   ]
  },
  {
   "cell_type": "code",
   "execution_count": 34,
   "id": "7d70a8cd",
   "metadata": {},
   "outputs": [],
   "source": [
    "myData = pd.DataFrame(myInfo, columns=[\"基金代码\", \"基金简拼\", \"基金名称\", \"基金类型\", \"基金全拼\"])"
   ]
  },
  {
   "cell_type": "code",
   "execution_count": 35,
   "id": "ef42592f",
   "metadata": {},
   "outputs": [
    {
     "data": {
      "text/html": [
       "<div>\n",
       "<style scoped>\n",
       "    .dataframe tbody tr th:only-of-type {\n",
       "        vertical-align: middle;\n",
       "    }\n",
       "\n",
       "    .dataframe tbody tr th {\n",
       "        vertical-align: top;\n",
       "    }\n",
       "\n",
       "    .dataframe thead th {\n",
       "        text-align: right;\n",
       "    }\n",
       "</style>\n",
       "<table border=\"1\" class=\"dataframe\">\n",
       "  <thead>\n",
       "    <tr style=\"text-align: right;\">\n",
       "      <th></th>\n",
       "      <th>基金代码</th>\n",
       "      <th>基金简拼</th>\n",
       "      <th>基金名称</th>\n",
       "      <th>基金类型</th>\n",
       "      <th>基金全拼</th>\n",
       "    </tr>\n",
       "  </thead>\n",
       "  <tbody>\n",
       "    <tr>\n",
       "      <th>0</th>\n",
       "      <td>000001</td>\n",
       "      <td>HXCZHH</td>\n",
       "      <td>华夏成长混合</td>\n",
       "      <td>混合型-偏股</td>\n",
       "      <td>HUAXIACHENGZHANGHUNHE</td>\n",
       "    </tr>\n",
       "    <tr>\n",
       "      <th>1</th>\n",
       "      <td>000002</td>\n",
       "      <td>HXCZHH</td>\n",
       "      <td>华夏成长混合(后端)</td>\n",
       "      <td>混合型-偏股</td>\n",
       "      <td>HUAXIACHENGZHANGHUNHE</td>\n",
       "    </tr>\n",
       "    <tr>\n",
       "      <th>2</th>\n",
       "      <td>000003</td>\n",
       "      <td>ZHKZZZQA</td>\n",
       "      <td>中海可转债债券A</td>\n",
       "      <td>债券型-可转债</td>\n",
       "      <td>ZHONGHAIKEZHUANZHAIZHAIQUANA</td>\n",
       "    </tr>\n",
       "    <tr>\n",
       "      <th>3</th>\n",
       "      <td>000004</td>\n",
       "      <td>ZHKZZZQC</td>\n",
       "      <td>中海可转债债券C</td>\n",
       "      <td>债券型-可转债</td>\n",
       "      <td>ZHONGHAIKEZHUANZHAIZHAIQUANC</td>\n",
       "    </tr>\n",
       "    <tr>\n",
       "      <th>4</th>\n",
       "      <td>000005</td>\n",
       "      <td>JSZQXYDQZQ</td>\n",
       "      <td>嘉实增强信用定期债券</td>\n",
       "      <td>债券型-长债</td>\n",
       "      <td>JIASHIZENGQIANGXINYONGDINGQIZHAIQUAN</td>\n",
       "    </tr>\n",
       "    <tr>\n",
       "      <th>...</th>\n",
       "      <td>...</td>\n",
       "      <td>...</td>\n",
       "      <td>...</td>\n",
       "      <td>...</td>\n",
       "      <td>...</td>\n",
       "    </tr>\n",
       "    <tr>\n",
       "      <th>16556</th>\n",
       "      <td>970173</td>\n",
       "      <td>HAZQYYHXJ</td>\n",
       "      <td>华安证券月月红现金</td>\n",
       "      <td>货币型</td>\n",
       "      <td>HUAANZHENGQUANYUEYUEHONGXIANJIN</td>\n",
       "    </tr>\n",
       "    <tr>\n",
       "      <th>16557</th>\n",
       "      <td>970174</td>\n",
       "      <td>DZRHXJGJHB</td>\n",
       "      <td>东证融汇现金管家货币</td>\n",
       "      <td>货币型</td>\n",
       "      <td>DONGZHENGRONGHUIXIANJINGUANJIAHUOBI</td>\n",
       "    </tr>\n",
       "    <tr>\n",
       "      <th>16558</th>\n",
       "      <td>970175</td>\n",
       "      <td>GHXJB</td>\n",
       "      <td>国海现金宝</td>\n",
       "      <td>货币型</td>\n",
       "      <td>GUOHAIXIANJINBAO</td>\n",
       "    </tr>\n",
       "    <tr>\n",
       "      <th>16559</th>\n",
       "      <td>970178</td>\n",
       "      <td>NJZQSZTTLHB</td>\n",
       "      <td>南京证券神州天添利货币</td>\n",
       "      <td>货币型</td>\n",
       "      <td>NANJINGZHENGQUANSHENZHOUTIANTIANLIHUOBI</td>\n",
       "    </tr>\n",
       "    <tr>\n",
       "      <th>16560</th>\n",
       "      <td>970182</td>\n",
       "      <td>ZSZGZCXZDZZQC</td>\n",
       "      <td>招商资管招朝鑫中短债债券C</td>\n",
       "      <td>债券型-混合债</td>\n",
       "      <td>ZHAOSHANGZIGUANZHAOCHAOXINZHONGDUANZHAIZHAIQUANC</td>\n",
       "    </tr>\n",
       "  </tbody>\n",
       "</table>\n",
       "<p>16561 rows × 5 columns</p>\n",
       "</div>"
      ],
      "text/plain": [
       "         基金代码           基金简拼           基金名称     基金类型  \\\n",
       "0      000001         HXCZHH         华夏成长混合   混合型-偏股   \n",
       "1      000002         HXCZHH     华夏成长混合(后端)   混合型-偏股   \n",
       "2      000003       ZHKZZZQA       中海可转债债券A  债券型-可转债   \n",
       "3      000004       ZHKZZZQC       中海可转债债券C  债券型-可转债   \n",
       "4      000005     JSZQXYDQZQ     嘉实增强信用定期债券   债券型-长债   \n",
       "...       ...            ...            ...      ...   \n",
       "16556  970173      HAZQYYHXJ      华安证券月月红现金      货币型   \n",
       "16557  970174     DZRHXJGJHB     东证融汇现金管家货币      货币型   \n",
       "16558  970175          GHXJB          国海现金宝      货币型   \n",
       "16559  970178    NJZQSZTTLHB    南京证券神州天添利货币      货币型   \n",
       "16560  970182  ZSZGZCXZDZZQC  招商资管招朝鑫中短债债券C  债券型-混合债   \n",
       "\n",
       "                                                   基金全拼  \n",
       "0                                 HUAXIACHENGZHANGHUNHE  \n",
       "1                                 HUAXIACHENGZHANGHUNHE  \n",
       "2                          ZHONGHAIKEZHUANZHAIZHAIQUANA  \n",
       "3                          ZHONGHAIKEZHUANZHAIZHAIQUANC  \n",
       "4                  JIASHIZENGQIANGXINYONGDINGQIZHAIQUAN  \n",
       "...                                                 ...  \n",
       "16556                   HUAANZHENGQUANYUEYUEHONGXIANJIN  \n",
       "16557               DONGZHENGRONGHUIXIANJINGUANJIAHUOBI  \n",
       "16558                                  GUOHAIXIANJINBAO  \n",
       "16559           NANJINGZHENGQUANSHENZHOUTIANTIANLIHUOBI  \n",
       "16560  ZHAOSHANGZIGUANZHAOCHAOXINZHONGDUANZHAIZHAIQUANC  \n",
       "\n",
       "[16561 rows x 5 columns]"
      ]
     },
     "execution_count": 35,
     "metadata": {},
     "output_type": "execute_result"
    }
   ],
   "source": [
    "myData"
   ]
  },
  {
   "cell_type": "code",
   "execution_count": 36,
   "id": "7b797d59",
   "metadata": {},
   "outputs": [],
   "source": [
    "myData.to_csv('FundingInfo.csv', encoding=\"utf_8_sig\")"
   ]
  },
  {
   "cell_type": "code",
   "execution_count": null,
   "id": "55941ebc",
   "metadata": {},
   "outputs": [],
   "source": []
  }
 ],
 "metadata": {
  "kernelspec": {
   "display_name": "Python 3 (ipykernel)",
   "language": "python",
   "name": "python3"
  },
  "language_info": {
   "codemirror_mode": {
    "name": "ipython",
    "version": 3
   },
   "file_extension": ".py",
   "mimetype": "text/x-python",
   "name": "python",
   "nbconvert_exporter": "python",
   "pygments_lexer": "ipython3",
   "version": "3.9.7"
  }
 },
 "nbformat": 4,
 "nbformat_minor": 5
}

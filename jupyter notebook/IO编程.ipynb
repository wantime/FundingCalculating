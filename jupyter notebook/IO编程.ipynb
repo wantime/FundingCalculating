{
 "cells": [
  {
   "cell_type": "code",
   "execution_count": 4,
   "id": "a690d4ed",
   "metadata": {},
   "outputs": [
    {
     "name": "stdout",
     "output_type": "stream",
     "text": [
      "read file test\n"
     ]
    }
   ],
   "source": [
    "with open('testdata1', 'r') as f:\n",
    "    print(f.read())"
   ]
  },
  {
   "cell_type": "markdown",
   "id": "cd551e38",
   "metadata": {},
   "source": [
    "## 改变编码方式，忽略错误"
   ]
  },
  {
   "cell_type": "code",
   "execution_count": null,
   "id": "e3e503cb",
   "metadata": {},
   "outputs": [],
   "source": [
    "with open('testdata', 'r', encoding='gbk',errors='ignore') as f:\n",
    "    print(f.read())"
   ]
  },
  {
   "cell_type": "code",
   "execution_count": 17,
   "id": "b6b75e41",
   "metadata": {},
   "outputs": [],
   "source": [
    "with open('testdata1', 'a') as f:\n",
    "    f.write('hellow python IO',)"
   ]
  },
  {
   "cell_type": "code",
   "execution_count": 18,
   "id": "e376d4a0",
   "metadata": {},
   "outputs": [
    {
     "name": "stdout",
     "output_type": "stream",
     "text": [
      "hellow python IOhellow python IOhellow python IO\n"
     ]
    }
   ],
   "source": [
    "fpath = 'testdata1'\n",
    "with open(fpath, 'r') as f:\n",
    "    s = f.read()\n",
    "    print(s)"
   ]
  },
  {
   "cell_type": "markdown",
   "id": "54ad5c53",
   "metadata": {},
   "source": [
    "## 内存中读写"
   ]
  },
  {
   "cell_type": "markdown",
   "id": "20bd8916",
   "metadata": {},
   "source": [
    "### StringIO"
   ]
  },
  {
   "cell_type": "code",
   "execution_count": 23,
   "id": "9769b592",
   "metadata": {},
   "outputs": [
    {
     "data": {
      "text/plain": [
       "5"
      ]
     },
     "execution_count": 23,
     "metadata": {},
     "output_type": "execute_result"
    }
   ],
   "source": [
    "from io import StringIO\n",
    "f = StringIO()\n",
    "f.write('hello')"
   ]
  },
  {
   "cell_type": "code",
   "execution_count": 24,
   "id": "273051d9",
   "metadata": {},
   "outputs": [
    {
     "data": {
      "text/plain": [
       "1"
      ]
     },
     "execution_count": 24,
     "metadata": {},
     "output_type": "execute_result"
    }
   ],
   "source": [
    "f.write(' ')"
   ]
  },
  {
   "cell_type": "code",
   "execution_count": 25,
   "id": "1eb066cc",
   "metadata": {},
   "outputs": [
    {
     "data": {
      "text/plain": [
       "6"
      ]
     },
     "execution_count": 25,
     "metadata": {},
     "output_type": "execute_result"
    }
   ],
   "source": [
    "f.write('world!')"
   ]
  },
  {
   "cell_type": "code",
   "execution_count": 26,
   "id": "50ace33b",
   "metadata": {},
   "outputs": [
    {
     "name": "stdout",
     "output_type": "stream",
     "text": [
      "hello world!\n"
     ]
    }
   ],
   "source": [
    "print(f.getvalue())"
   ]
  },
  {
   "cell_type": "markdown",
   "id": "891f7c9b",
   "metadata": {},
   "source": [
    "## BytesIO"
   ]
  },
  {
   "cell_type": "code",
   "execution_count": 27,
   "id": "1a8368b8",
   "metadata": {},
   "outputs": [],
   "source": [
    "from io import BytesIO"
   ]
  },
  {
   "cell_type": "code",
   "execution_count": 28,
   "id": "627ef964",
   "metadata": {},
   "outputs": [
    {
     "data": {
      "text/plain": [
       "6"
      ]
     },
     "execution_count": 28,
     "metadata": {},
     "output_type": "execute_result"
    }
   ],
   "source": [
    "f = BytesIO()\n",
    "f.write('中文'.encode('utf-8'))"
   ]
  },
  {
   "cell_type": "code",
   "execution_count": 29,
   "id": "8ea7fd91",
   "metadata": {},
   "outputs": [
    {
     "name": "stdout",
     "output_type": "stream",
     "text": [
      "b'\\xe4\\xb8\\xad\\xe6\\x96\\x87'\n"
     ]
    }
   ],
   "source": [
    "print(f.getvalue())"
   ]
  },
  {
   "cell_type": "code",
   "execution_count": 30,
   "id": "0cbe9d8d",
   "metadata": {},
   "outputs": [
    {
     "data": {
      "text/plain": [
       "b'\\xe4\\xb8\\xad\\xe6\\x96\\x87'"
      ]
     },
     "execution_count": 30,
     "metadata": {},
     "output_type": "execute_result"
    }
   ],
   "source": [
    "f = BytesIO(f.getvalue())\n",
    "f.read()"
   ]
  },
  {
   "cell_type": "markdown",
   "id": "0329dad6",
   "metadata": {},
   "source": [
    "## 文件与目录"
   ]
  },
  {
   "cell_type": "code",
   "execution_count": 31,
   "id": "9ee6045b",
   "metadata": {},
   "outputs": [
    {
     "data": {
      "text/plain": [
       "'nt'"
      ]
     },
     "execution_count": 31,
     "metadata": {},
     "output_type": "execute_result"
    }
   ],
   "source": [
    "import os\n",
    "os.name"
   ]
  },
  {
   "cell_type": "code",
   "execution_count": 38,
   "id": "799b6efa",
   "metadata": {},
   "outputs": [],
   "source": [
    "x = os.path.abspath('.')"
   ]
  },
  {
   "cell_type": "code",
   "execution_count": 40,
   "id": "d09cd3e1",
   "metadata": {},
   "outputs": [
    {
     "data": {
      "text/plain": [
       "'D:\\\\Job\\\\code\\\\py\\\\FundingCalculating\\\\jupyter notebook\\\\test'"
      ]
     },
     "execution_count": 40,
     "metadata": {},
     "output_type": "execute_result"
    }
   ],
   "source": [
    "os.path.join(x,'test')"
   ]
  },
  {
   "cell_type": "code",
   "execution_count": 41,
   "id": "858b2123",
   "metadata": {},
   "outputs": [
    {
     "data": {
      "text/plain": [
       "[]"
      ]
     },
     "execution_count": 41,
     "metadata": {},
     "output_type": "execute_result"
    }
   ],
   "source": [
    "[x for x in os.listdir('.') if os.path.isfile(x) and os.path.splitext(x)[1]=='.py']"
   ]
  },
  {
   "cell_type": "code",
   "execution_count": 42,
   "id": "aad2d377",
   "metadata": {},
   "outputs": [
    {
     "data": {
      "text/plain": [
       "['1-测试区.ipynb',\n",
       " '2-download ID.ipynb',\n",
       " '3-readData-filter.ipynb',\n",
       " '4-downloadFundDataById.ipynb',\n",
       " '5-getID&CalculateIncom&draw.ipynb',\n",
       " 'fundinfo.csv',\n",
       " 'FundingInfo.csv',\n",
       " 'IO编程.ipynb',\n",
       " 'python基础-函数-高级特性-函数式编程.ipynb',\n",
       " 'testdata',\n",
       " 'testdata1',\n",
       " '模块-面向对象编程-面向对象高级编程.ipynb',\n",
       " '错误、调试和测试.ipynb']"
      ]
     },
     "execution_count": 42,
     "metadata": {},
     "output_type": "execute_result"
    }
   ],
   "source": [
    "[x for x in os.listdir('.') if os.path.isfile(x)]"
   ]
  },
  {
   "cell_type": "markdown",
   "id": "4cfde21c",
   "metadata": {},
   "source": [
    "## 实习自己的dir -l"
   ]
  },
  {
   "cell_type": "code",
   "execution_count": 46,
   "id": "16a5d254",
   "metadata": {},
   "outputs": [],
   "source": [
    "def do_dir():\n",
    "    import os\n",
    "    for x in os.listdir('.'):\n",
    "        if os.path.isfile(x):\n",
    "            print(x)"
   ]
  },
  {
   "cell_type": "code",
   "execution_count": 47,
   "id": "1f36525a",
   "metadata": {},
   "outputs": [
    {
     "name": "stdout",
     "output_type": "stream",
     "text": [
      "1-测试区.ipynb\n",
      "2-download ID.ipynb\n",
      "3-readData-filter.ipynb\n",
      "4-downloadFundDataById.ipynb\n",
      "5-getID&CalculateIncom&draw.ipynb\n",
      "fundinfo.csv\n",
      "FundingInfo.csv\n",
      "IO编程.ipynb\n",
      "python基础-函数-高级特性-函数式编程.ipynb\n",
      "testdata\n",
      "testdata1\n",
      "模块-面向对象编程-面向对象高级编程.ipynb\n",
      "错误、调试和测试.ipynb\n"
     ]
    }
   ],
   "source": [
    "do_dir()"
   ]
  },
  {
   "cell_type": "code",
   "execution_count": 5,
   "id": "ea767196",
   "metadata": {},
   "outputs": [],
   "source": [
    "import os\n",
    "def findfile(name='',s='.'):\n",
    "    # 找到所有子目录，准备递归\n",
    "    dirs = [x for x in os.listdir(s) if os.path.isdir(x)]\n",
    "\n",
    "    f = [x for x in os.listdir(s) if os.path.isfile(os.path.join(s, x)) and name in os.path.split(x)[1]]\n",
    "    for x in f:\n",
    "        print(x)\n",
    "    for x in dirs:\n",
    "        x = os.path.join(s,x)\n",
    "        findfile(name,x)"
   ]
  },
  {
   "cell_type": "code",
   "execution_count": 6,
   "id": "f31d2574",
   "metadata": {},
   "outputs": [
    {
     "name": "stdout",
     "output_type": "stream",
     "text": [
      "1-测试区.ipynb\n",
      "1-1.txt\n"
     ]
    }
   ],
   "source": [
    "findfile(name ='1-')"
   ]
  },
  {
   "cell_type": "code",
   "execution_count": null,
   "id": "b96148a0",
   "metadata": {},
   "outputs": [],
   "source": []
  }
 ],
 "metadata": {
  "kernelspec": {
   "display_name": "Python 3 (ipykernel)",
   "language": "python",
   "name": "python3"
  },
  "language_info": {
   "codemirror_mode": {
    "name": "ipython",
    "version": 3
   },
   "file_extension": ".py",
   "mimetype": "text/x-python",
   "name": "python",
   "nbconvert_exporter": "python",
   "pygments_lexer": "ipython3",
   "version": "3.9.7"
  }
 },
 "nbformat": 4,
 "nbformat_minor": 5
}

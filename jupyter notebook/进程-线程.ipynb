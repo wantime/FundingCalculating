{
 "cells": [
  {
   "cell_type": "markdown",
   "id": "94aaa07f",
   "metadata": {},
   "source": [
    "# 多进程，这块推荐用unix系统学习，window暂时没运行出结果，可能需要设置"
   ]
  },
  {
   "cell_type": "code",
   "execution_count": 1,
   "id": "45ae28d6",
   "metadata": {},
   "outputs": [],
   "source": [
    "from multiprocessing import Process\n",
    "import os"
   ]
  },
  {
   "cell_type": "code",
   "execution_count": 2,
   "id": "4579721d",
   "metadata": {},
   "outputs": [
    {
     "name": "stdout",
     "output_type": "stream",
     "text": [
      "Parent process 14004.\n",
      "Child process will start.\n",
      "Child process end.\n"
     ]
    }
   ],
   "source": [
    "def run_proc(name):\n",
    "    print('Run child process %s (%s)...' % (name, os.getpid()))\n",
    "    \n",
    "if __name__ == '__main__':\n",
    "    print('Parent process %s.' %os.getpid())\n",
    "    p = Process(target=run_proc, args=('test',))\n",
    "    print('Child process will start.')\n",
    "    p.start()\n",
    "    p.join()\n",
    "    print('Child process end.')"
   ]
  },
  {
   "cell_type": "code",
   "execution_count": 3,
   "id": "c3b5e2ba",
   "metadata": {},
   "outputs": [
    {
     "name": "stdout",
     "output_type": "stream",
     "text": [
      "Parent process 13228.\n",
      "Child process will start.\n",
      "Child process end.\n"
     ]
    }
   ],
   "source": [
    "from multiprocessing import Process\n",
    "import os\n",
    "\n",
    "# 子进程要执行的代码\n",
    "def run_proc(name):\n",
    "    print('Run child process %s (%s)...' % (name, os.getpid()))\n",
    "\n",
    "if __name__=='__main__':\n",
    "    print('Parent process %s.' % os.getpid())\n",
    "    p = Process(target=run_proc, args=('test',))\n",
    "    print('Child process will start.')\n",
    "    p.start()\n",
    "    p.join()\n",
    "    print('Child process end.')"
   ]
  },
  {
   "cell_type": "code",
   "execution_count": null,
   "id": "a984cf8e",
   "metadata": {},
   "outputs": [
    {
     "name": "stdout",
     "output_type": "stream",
     "text": [
      "Parent process 13228.\n",
      "Waiting for all subprocesses done...\n"
     ]
    }
   ],
   "source": [
    "from multiprocessing import Pool\n",
    "import os, time, random\n",
    "\n",
    "def long_time_task(name):\n",
    "    print('Run task %s (%s)...' % (name, os.getpid()))\n",
    "    start = time.time()\n",
    "    time.sleep(random.random() * 3)\n",
    "    end = time.time()\n",
    "    print('Task %s runs %0.2f seconds.' % (name, (end - start)))\n",
    "\n",
    "if __name__=='__main__':\n",
    "    print('Parent process %s.' % os.getpid())\n",
    "    p = Pool(4)\n",
    "    for i in range(5):\n",
    "        p.apply_async(long_time_task, args=(i,))\n",
    "    print('Waiting for all subprocesses done...')\n",
    "    p.close()\n",
    "    p.join()\n",
    "    print('All subprocesses done.')"
   ]
  },
  {
   "cell_type": "markdown",
   "id": "a2ba32fb",
   "metadata": {},
   "source": [
    "## 多线程"
   ]
  },
  {
   "cell_type": "code",
   "execution_count": 3,
   "id": "87a51096",
   "metadata": {},
   "outputs": [
    {
     "name": "stdout",
     "output_type": "stream",
     "text": [
      "thread MainThread is running...\n",
      "thread LoopThread is running...\n",
      "thread LoopThread >>> 1\n",
      "thread LoopThread >>> 2\n",
      "thread LoopThread >>> 3\n",
      "thread LoopThread >>> 4\n",
      "thread LoopThread >>> 5\n",
      "thread LoopThread ended.\n",
      "thread MainThread ended.\n"
     ]
    }
   ],
   "source": [
    "import time, threading\n",
    "\n",
    "def loop():\n",
    "    print('thread %s is running...' % threading.current_thread().name)\n",
    "    n = 0\n",
    "    while n < 5:\n",
    "        n = n + 1\n",
    "        print('thread %s >>> %s' % (threading.current_thread().name, n))\n",
    "        time.sleep(1)\n",
    "    print('thread %s ended.' % threading.current_thread().name)\n",
    "    \n",
    "print('thread %s is running...' % threading.current_thread().name)\n",
    "t = threading.Thread(target=loop,  name='LoopThread')\n",
    "t.start()\n",
    "t.join()\n",
    "print('thread %s ended.' % threading.current_thread().name)"
   ]
  },
  {
   "cell_type": "markdown",
   "id": "971c1b23",
   "metadata": {},
   "source": [
    "## 用银行存款说明多个线程修改同一变量"
   ]
  },
  {
   "cell_type": "code",
   "execution_count": 4,
   "id": "d2f75f7c",
   "metadata": {},
   "outputs": [
    {
     "name": "stdout",
     "output_type": "stream",
     "text": [
      "-13\n"
     ]
    }
   ],
   "source": [
    "import time, threading\n",
    "\n",
    "# 银行存款\n",
    "balance = 0\n",
    "\n",
    "def change_it(n):\n",
    "    # 先存后取，结果应该为0：\n",
    "    global balance\n",
    "    balance = balance + n\n",
    "    balance = balance - n\n",
    "    \n",
    "    \n",
    "def run_thread(n):\n",
    "    for i in range(2000000):\n",
    "        change_it(n)\n",
    "        \n",
    "t1 = threading.Thread(target=run_thread, args=(5,))\n",
    "t2 = threading.Thread(target=run_thread, args=(8,))\n",
    "t1.start()\n",
    "t2.start()\n",
    "t1.join()\n",
    "t2.join()\n",
    "print(balance)"
   ]
  },
  {
   "cell_type": "markdown",
   "id": "06337d98",
   "metadata": {},
   "source": [
    "## 给函数加上锁"
   ]
  },
  {
   "cell_type": "code",
   "execution_count": 11,
   "id": "eb279b2a",
   "metadata": {},
   "outputs": [],
   "source": [
    "balance = 0\n",
    "global balance\n",
    "lock = threading.Lock()\n",
    "\n",
    "def run_thread(n):\n",
    "    for i in range(100000):\n",
    "        # 先要获取锁\n",
    "        lock.acquire()\n",
    "        try:\n",
    "            change_it(n)\n",
    "        finally:\n",
    "            lock.release()"
   ]
  },
  {
   "cell_type": "code",
   "execution_count": 12,
   "id": "3a20351e",
   "metadata": {},
   "outputs": [
    {
     "name": "stdout",
     "output_type": "stream",
     "text": [
      "0\n"
     ]
    }
   ],
   "source": [
    "t1 = threading.Thread(target=run_thread, args=(5,))\n",
    "t2 = threading.Thread(target=run_thread, args=(8,))\n",
    "t1.start()\n",
    "t2.start()\n",
    "t1.join()\n",
    "t2.join()\n",
    "print(balance)"
   ]
  },
  {
   "cell_type": "markdown",
   "id": "f4858bf1",
   "metadata": {},
   "source": [
    "## 死循环"
   ]
  },
  {
   "cell_type": "code",
   "execution_count": 8,
   "id": "f04835b0",
   "metadata": {},
   "outputs": [],
   "source": [
    "import threading, multiprocessing\n",
    "\n",
    "def loop():\n",
    "    x = 0\n",
    "    while True:\n",
    "        x = x + 1\n",
    "\n",
    "for i in range(multiprocessing.cpu_count()):\n",
    "    t = threading.Thread(target=loop)\n",
    "    t.start()"
   ]
  },
  {
   "cell_type": "markdown",
   "id": "f2a63c37",
   "metadata": {},
   "source": [
    "## ThreadLocal"
   ]
  },
  {
   "cell_type": "code",
   "execution_count": 7,
   "id": "e9d8fe1b",
   "metadata": {},
   "outputs": [
    {
     "name": "stdout",
     "output_type": "stream",
     "text": [
      "Hello, Alice (in Thread-A)\n",
      "Hello, Bob (in Thread-B)\n"
     ]
    }
   ],
   "source": [
    "import threading\n",
    "\n",
    "# 创建全局ThreadLocal对象\n",
    "local_school = threading.local()\n",
    "\n",
    "def process_student():\n",
    "    # 获取当前线程关联的student\n",
    "    std = local_school.student\n",
    "    print('Hello, %s (in %s)' % (std, threading.current_thread().name))\n",
    "\n",
    "def process_thread(name):\n",
    "    # 绑定ThreadingLocal的student:\n",
    "    local_school.student = name\n",
    "    process_student()\n",
    "    \n",
    "t1 = threading.Thread(target=process_thread, args=('Alice',), name='Thread-A')\n",
    "t2 = threading.Thread(target=process_thread, args=('Bob',), name='Thread-B')\n",
    "t1.start()\n",
    "t2.start()\n",
    "t1.join()\n",
    "t2.join()"
   ]
  },
  {
   "cell_type": "markdown",
   "id": "49d628c6",
   "metadata": {},
   "source": [
    "## 分布式进程"
   ]
  },
  {
   "cell_type": "code",
   "execution_count": null,
   "id": "1ea7ade1",
   "metadata": {},
   "outputs": [],
   "source": [
    "# task_master.py\n",
    "\n",
    "import random, time, queue\n",
    "from multiprocessing.managers import BaseManager\n",
    "\n",
    "# 发送任务的队列：\n",
    "task_queue = queue.Queue()\n",
    "# 接收结果的队列：\n",
    "result_queue = queue.Queue()\n",
    "\n",
    "# 从BaseManager继承的QueueManager:\n",
    "class QueueManager(BaseManager):\n",
    "\tpass\n",
    "# Windows上序列化不支持lambda匿名函数\n",
    "# 定义两个函数，返回结果就是Queue队列\n",
    "def return_task_queue():\n",
    "    global task_queue # 定义成全局变量\n",
    "    return task_queue # 返回发送任务的队列\n",
    "def return_result_queue():\n",
    "    global result_queue\n",
    "    return result_queue # 返回接收结果的队列\n",
    "\n",
    "def runf():\n",
    "    # 把两个Queue都注册到网络上，callable参数关联了Queue对象\n",
    "    QueueManager.register('get_task_queue', callable=return_task_queue)\n",
    "    QueueManager.register('get_result_queue',callable=return_result_queue)\n",
    "    # 绑定端口5000, 设置验证码'abc':\n",
    "    manager = QueueManager(address=('127.0.0.1', 5000), authkey=b'abc')\n",
    "    # 启动Queue:\n",
    "    manager.start()\n",
    "    # 获得通过网络访问的Queue对象：\n",
    "    task = manager.get_task_queue()\n",
    "    result = manager.get_result_queue()\n",
    "    # 放几个任务进去：\n",
    "    for i in range(10):\n",
    "        n = random.randint(0, 10000)\n",
    "        print('Put task %d...' % n)\n",
    "        task.put(n)\n",
    "    # 从result队列读取结果：\n",
    "    print('Try get results...')\n",
    "    for i in range(10):\n",
    "        r = result.get(timeout=100)\n",
    "        print('Rsult: %s' % r)\n",
    "    # 关闭\n",
    "    manager.shutdown()\n",
    "    print('master exit.')\n",
    "\n",
    "if __name__ == '__main__':\n",
    "    freeze_support()\n",
    "    runf()"
   ]
  },
  {
   "cell_type": "code",
   "execution_count": null,
   "id": "25f4b736",
   "metadata": {},
   "outputs": [],
   "source": []
  }
 ],
 "metadata": {
  "kernelspec": {
   "display_name": "Python 3 (ipykernel)",
   "language": "python",
   "name": "python3"
  },
  "language_info": {
   "codemirror_mode": {
    "name": "ipython",
    "version": 3
   },
   "file_extension": ".py",
   "mimetype": "text/x-python",
   "name": "python",
   "nbconvert_exporter": "python",
   "pygments_lexer": "ipython3",
   "version": "3.9.7"
  }
 },
 "nbformat": 4,
 "nbformat_minor": 5
}

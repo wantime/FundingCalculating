{
 "cells": [
  {
   "cell_type": "markdown",
   "id": "c07ef410",
   "metadata": {},
   "source": [
    "# 一个模块的标准开始"
   ]
  },
  {
   "cell_type": "code",
   "execution_count": 2,
   "id": "677e52ac",
   "metadata": {},
   "outputs": [],
   "source": [
    "#!/usr/bin/env python3\n",
    "# -*- coding: utf-8 -*-\n",
    "' a test module '\n",
    "\n",
    "__author__ = 'Victor Yao'"
   ]
  },
  {
   "cell_type": "code",
   "execution_count": 1,
   "id": "f676f3b7",
   "metadata": {},
   "outputs": [],
   "source": [
    "class Student(object):\n",
    "    def __init__(self, name, score):\n",
    "        self.name = name\n",
    "        self.score = score\n",
    "\n",
    "    def get_grade(self):\n",
    "        if self.score >= 90:\n",
    "            return 'A'\n",
    "        elif self.score >= 60:\n",
    "            return 'B'\n",
    "        else:\n",
    "            return 'C'"
   ]
  },
  {
   "cell_type": "code",
   "execution_count": 2,
   "id": "fd52686f",
   "metadata": {},
   "outputs": [
    {
     "name": "stdout",
     "output_type": "stream",
     "text": [
      "Lisa A\n",
      "Bart C\n"
     ]
    }
   ],
   "source": [
    "lisa = Student('Lisa', 99)\n",
    "bart = Student('Bart', 59)\n",
    "print(lisa.name, lisa.get_grade())\n",
    "print(bart.name, bart.get_grade())"
   ]
  },
  {
   "cell_type": "markdown",
   "id": "5dc48546",
   "metadata": {},
   "source": [
    "## __name 私有变量"
   ]
  },
  {
   "cell_type": "code",
   "execution_count": 4,
   "id": "a978684e",
   "metadata": {},
   "outputs": [],
   "source": [
    "class Student(object):\n",
    "    def __init__(self, name, gender):\n",
    "        self.__name = name\n",
    "        self.__gender = gender\n",
    "    \n",
    "    def get_gender(self):\n",
    "        return self.__gender\n",
    "    \n",
    "    def set_gender(self, gender):\n",
    "        self.__gender = gender"
   ]
  },
  {
   "cell_type": "code",
   "execution_count": 5,
   "id": "e41c3684",
   "metadata": {},
   "outputs": [
    {
     "name": "stdout",
     "output_type": "stream",
     "text": [
      "测试成功!\n"
     ]
    }
   ],
   "source": [
    "# 测试:\n",
    "bart = Student('Bart', 'male')\n",
    "if bart.get_gender() != 'male':\n",
    "    print('测试失败!')\n",
    "else:\n",
    "    bart.set_gender('female')\n",
    "    if bart.get_gender() != 'female':\n",
    "        print('测试失败!')\n",
    "    else:\n",
    "        print('测试成功!')"
   ]
  },
  {
   "cell_type": "markdown",
   "id": "198e048a",
   "metadata": {},
   "source": [
    "## 多态\n",
    "父类的方法子类可以重写\n",
    "## 开闭原则\n",
    "### 对扩展开发：允许父类增加子类\n",
    "### 对修改封闭：不需要修改依赖父类某个方法的调用函数"
   ]
  },
  {
   "cell_type": "code",
   "execution_count": 6,
   "id": "d2e84dcd",
   "metadata": {},
   "outputs": [
    {
     "data": {
      "text/plain": [
       "True"
      ]
     },
     "execution_count": 6,
     "metadata": {},
     "output_type": "execute_result"
    }
   ],
   "source": [
    "type(123) == int"
   ]
  },
  {
   "cell_type": "code",
   "execution_count": 7,
   "id": "42ec25f6",
   "metadata": {},
   "outputs": [
    {
     "data": {
      "text/plain": [
       "True"
      ]
     },
     "execution_count": 7,
     "metadata": {},
     "output_type": "execute_result"
    }
   ],
   "source": [
    "isinstance(123,int)"
   ]
  },
  {
   "cell_type": "code",
   "execution_count": 9,
   "id": "5265174e",
   "metadata": {
    "collapsed": true
   },
   "outputs": [
    {
     "data": {
      "text/plain": [
       "['__add__',\n",
       " '__class__',\n",
       " '__contains__',\n",
       " '__delattr__',\n",
       " '__dir__',\n",
       " '__doc__',\n",
       " '__eq__',\n",
       " '__format__',\n",
       " '__ge__',\n",
       " '__getattribute__',\n",
       " '__getitem__',\n",
       " '__getnewargs__',\n",
       " '__gt__',\n",
       " '__hash__',\n",
       " '__init__',\n",
       " '__init_subclass__',\n",
       " '__iter__',\n",
       " '__le__',\n",
       " '__len__',\n",
       " '__lt__',\n",
       " '__mod__',\n",
       " '__mul__',\n",
       " '__ne__',\n",
       " '__new__',\n",
       " '__reduce__',\n",
       " '__reduce_ex__',\n",
       " '__repr__',\n",
       " '__rmod__',\n",
       " '__rmul__',\n",
       " '__setattr__',\n",
       " '__sizeof__',\n",
       " '__str__',\n",
       " '__subclasshook__',\n",
       " 'capitalize',\n",
       " 'casefold',\n",
       " 'center',\n",
       " 'count',\n",
       " 'encode',\n",
       " 'endswith',\n",
       " 'expandtabs',\n",
       " 'find',\n",
       " 'format',\n",
       " 'format_map',\n",
       " 'index',\n",
       " 'isalnum',\n",
       " 'isalpha',\n",
       " 'isascii',\n",
       " 'isdecimal',\n",
       " 'isdigit',\n",
       " 'isidentifier',\n",
       " 'islower',\n",
       " 'isnumeric',\n",
       " 'isprintable',\n",
       " 'isspace',\n",
       " 'istitle',\n",
       " 'isupper',\n",
       " 'join',\n",
       " 'ljust',\n",
       " 'lower',\n",
       " 'lstrip',\n",
       " 'maketrans',\n",
       " 'partition',\n",
       " 'removeprefix',\n",
       " 'removesuffix',\n",
       " 'replace',\n",
       " 'rfind',\n",
       " 'rindex',\n",
       " 'rjust',\n",
       " 'rpartition',\n",
       " 'rsplit',\n",
       " 'rstrip',\n",
       " 'split',\n",
       " 'splitlines',\n",
       " 'startswith',\n",
       " 'strip',\n",
       " 'swapcase',\n",
       " 'title',\n",
       " 'translate',\n",
       " 'upper',\n",
       " 'zfill']"
      ]
     },
     "execution_count": 9,
     "metadata": {},
     "output_type": "execute_result"
    }
   ],
   "source": [
    "dir('123')"
   ]
  },
  {
   "cell_type": "code",
   "execution_count": 10,
   "id": "bb338eb6",
   "metadata": {},
   "outputs": [],
   "source": [
    "class MyObject(object):\n",
    "    def __init__(self):\n",
    "        self.x = 9\n",
    "    def power(self):\n",
    "        return self.x * self.x"
   ]
  },
  {
   "cell_type": "code",
   "execution_count": 11,
   "id": "1e028eb9",
   "metadata": {},
   "outputs": [],
   "source": [
    "obj = MyObject()"
   ]
  },
  {
   "cell_type": "code",
   "execution_count": 12,
   "id": "e60fb521",
   "metadata": {},
   "outputs": [
    {
     "data": {
      "text/plain": [
       "True"
      ]
     },
     "execution_count": 12,
     "metadata": {},
     "output_type": "execute_result"
    }
   ],
   "source": [
    "hasattr(obj, 'x')"
   ]
  },
  {
   "cell_type": "code",
   "execution_count": 13,
   "id": "b3d1aa9d",
   "metadata": {},
   "outputs": [
    {
     "data": {
      "text/plain": [
       "False"
      ]
     },
     "execution_count": 13,
     "metadata": {},
     "output_type": "execute_result"
    }
   ],
   "source": [
    "hasattr(obj, 'y')"
   ]
  },
  {
   "cell_type": "code",
   "execution_count": 14,
   "id": "38cc404e",
   "metadata": {},
   "outputs": [],
   "source": [
    "setattr(obj, 'y', 19)"
   ]
  },
  {
   "cell_type": "code",
   "execution_count": 15,
   "id": "332e450e",
   "metadata": {},
   "outputs": [
    {
     "data": {
      "text/plain": [
       "True"
      ]
     },
     "execution_count": 15,
     "metadata": {},
     "output_type": "execute_result"
    }
   ],
   "source": [
    "hasattr(obj, 'y')"
   ]
  },
  {
   "cell_type": "code",
   "execution_count": 16,
   "id": "f4f2f011",
   "metadata": {},
   "outputs": [
    {
     "data": {
      "text/plain": [
       "19"
      ]
     },
     "execution_count": 16,
     "metadata": {},
     "output_type": "execute_result"
    }
   ],
   "source": [
    "getattr(obj, 'y')"
   ]
  },
  {
   "cell_type": "code",
   "execution_count": 18,
   "id": "d738bf02",
   "metadata": {},
   "outputs": [
    {
     "data": {
      "text/plain": [
       "404"
      ]
     },
     "execution_count": 18,
     "metadata": {},
     "output_type": "execute_result"
    }
   ],
   "source": [
    "getattr(obj, 'z', 404) # 获取属性'z'，如果不存在，返回默认值404"
   ]
  },
  {
   "cell_type": "code",
   "execution_count": 19,
   "id": "46d8296e",
   "metadata": {},
   "outputs": [
    {
     "data": {
      "text/plain": [
       "True"
      ]
     },
     "execution_count": 19,
     "metadata": {},
     "output_type": "execute_result"
    }
   ],
   "source": [
    "hasattr(obj, 'power') # 有属性'power'吗？"
   ]
  },
  {
   "cell_type": "code",
   "execution_count": 22,
   "id": "e75d23c4",
   "metadata": {},
   "outputs": [],
   "source": [
    "class Student(object):\n",
    "    count = 0\n",
    "    \n",
    "    def __init__(self, name):\n",
    "        self.name = name\n",
    "        Student.count += 1"
   ]
  },
  {
   "cell_type": "code",
   "execution_count": 23,
   "id": "2f4aa855",
   "metadata": {},
   "outputs": [
    {
     "name": "stdout",
     "output_type": "stream",
     "text": [
      "Students: 2\n",
      "测试通过!\n"
     ]
    }
   ],
   "source": [
    "if Student.count != 0:\n",
    "    print('测试失败!')\n",
    "else:\n",
    "    bart = Student('Bart')\n",
    "    if Student.count != 1:\n",
    "        print('测试失败!')\n",
    "    else:\n",
    "        lisa = Student('Bart')\n",
    "        if Student.count != 2:\n",
    "            print('测试失败!')\n",
    "        else:\n",
    "            print('Students:', Student.count)\n",
    "            print('测试通过!')"
   ]
  },
  {
   "cell_type": "code",
   "execution_count": 3,
   "id": "afdf690b",
   "metadata": {},
   "outputs": [],
   "source": [
    "class Screen(object):\n",
    "    \n",
    "    @property\n",
    "    def width(self):\n",
    "        return self._width\n",
    "    \n",
    "    @width.setter\n",
    "    def width(self, width):\n",
    "        if not isinstance(width, int):\n",
    "            raise ValueError('width must be an integer!')\n",
    "        self._width = width\n",
    "    \n",
    "    @property\n",
    "    def height(self):\n",
    "        return self._height\n",
    "    \n",
    "    @height.setter\n",
    "    def height(self, height):\n",
    "        if not isinstance(height, int):\n",
    "            raise ValueError('height must be an integer!')\n",
    "        self._height = height    \n",
    "    \n",
    "    @property\n",
    "    def resolution(self):\n",
    "        return self._width*self._height"
   ]
  },
  {
   "cell_type": "code",
   "execution_count": 4,
   "id": "4295dbab",
   "metadata": {},
   "outputs": [
    {
     "name": "stdout",
     "output_type": "stream",
     "text": [
      "resolution = 786432\n",
      "测试通过!\n"
     ]
    }
   ],
   "source": [
    "# 测试:\n",
    "s = Screen()\n",
    "s.width = 1024\n",
    "s.height = 768\n",
    "print('resolution =', s.resolution)\n",
    "if s.resolution == 786432:\n",
    "    print('测试通过!')\n",
    "else:\n",
    "    print('测试失败!')"
   ]
  },
  {
   "cell_type": "markdown",
   "id": "20805794",
   "metadata": {},
   "source": [
    "## __str__()方法  __repr__()"
   ]
  },
  {
   "cell_type": "code",
   "execution_count": 9,
   "id": "eabf64c5",
   "metadata": {},
   "outputs": [],
   "source": [
    "class Student():\n",
    "    def __init__(self, name):\n",
    "        self._name = name\n",
    "    def __str__(self):\n",
    "        return 'Student object (name: %s)'%self._name\n",
    "    __repr__ = __str__"
   ]
  },
  {
   "cell_type": "code",
   "execution_count": 10,
   "id": "0ce07eb9",
   "metadata": {},
   "outputs": [
    {
     "name": "stdout",
     "output_type": "stream",
     "text": [
      "Student object (name: Michael)\n"
     ]
    },
    {
     "data": {
      "text/plain": [
       "Student object (name: Michael)"
      ]
     },
     "execution_count": 10,
     "metadata": {},
     "output_type": "execute_result"
    }
   ],
   "source": [
    "print(Student('Michael'))\n",
    "Student('Michael')"
   ]
  },
  {
   "cell_type": "markdown",
   "id": "fe77c3ed",
   "metadata": {},
   "source": [
    "## 枚举类型"
   ]
  },
  {
   "cell_type": "code",
   "execution_count": 11,
   "id": "d1f530fd",
   "metadata": {},
   "outputs": [],
   "source": [
    "from enum import Enum\n",
    "\n",
    "Month = Enum('Month', ('Jan', 'Feb', 'Mar', 'Apr', 'May', 'Jun', 'Jul', 'Aug', 'Sep', 'Oct', 'Nov', 'Dec'))"
   ]
  },
  {
   "cell_type": "code",
   "execution_count": 12,
   "id": "a5f1d323",
   "metadata": {
    "scrolled": true
   },
   "outputs": [
    {
     "name": "stdout",
     "output_type": "stream",
     "text": [
      "Jan => Month.Jan , 1\n",
      "Feb => Month.Feb , 2\n",
      "Mar => Month.Mar , 3\n",
      "Apr => Month.Apr , 4\n",
      "May => Month.May , 5\n",
      "Jun => Month.Jun , 6\n",
      "Jul => Month.Jul , 7\n",
      "Aug => Month.Aug , 8\n",
      "Sep => Month.Sep , 9\n",
      "Oct => Month.Oct , 10\n",
      "Nov => Month.Nov , 11\n",
      "Dec => Month.Dec , 12\n"
     ]
    }
   ],
   "source": [
    "for name, member in Month.__members__.items():\n",
    "    print(name, '=>', member, ',', member.value)"
   ]
  },
  {
   "cell_type": "code",
   "execution_count": 16,
   "id": "c15ccc95",
   "metadata": {},
   "outputs": [
    {
     "data": {
      "text/plain": [
       "<Month.Apr: 4>"
      ]
     },
     "execution_count": 16,
     "metadata": {},
     "output_type": "execute_result"
    }
   ],
   "source": [
    "Month(4)"
   ]
  },
  {
   "cell_type": "code",
   "execution_count": 17,
   "id": "00bbe621",
   "metadata": {},
   "outputs": [],
   "source": [
    "class Gender(Enum):\n",
    "    Male = 0\n",
    "    Female = 1\n",
    "    \n",
    "class Student(object):\n",
    "    def __init__(self, name, gender):\n",
    "        self.name = name\n",
    "        self.gender = Gender(gender)"
   ]
  },
  {
   "cell_type": "code",
   "execution_count": 18,
   "id": "aa5edb7b",
   "metadata": {},
   "outputs": [
    {
     "name": "stdout",
     "output_type": "stream",
     "text": [
      "测试通过!\n"
     ]
    }
   ],
   "source": [
    "# 测试:\n",
    "bart = Student('Bart', Gender.Male)\n",
    "if bart.gender == Gender.Male:\n",
    "    print('测试通过!')\n",
    "else:\n",
    "    print('测试失败!')"
   ]
  },
  {
   "cell_type": "code",
   "execution_count": 21,
   "id": "0f4e46ad",
   "metadata": {},
   "outputs": [
    {
     "data": {
      "text/plain": [
       "<Gender.Female: 1>"
      ]
     },
     "execution_count": 21,
     "metadata": {},
     "output_type": "execute_result"
    }
   ],
   "source": [
    "lisa = Student('Lisa', 1)\n",
    "lisa.gender"
   ]
  },
  {
   "cell_type": "code",
   "execution_count": null,
   "id": "239afa0d",
   "metadata": {},
   "outputs": [],
   "source": []
  }
 ],
 "metadata": {
  "kernelspec": {
   "display_name": "Python 3 (ipykernel)",
   "language": "python",
   "name": "python3"
  },
  "language_info": {
   "codemirror_mode": {
    "name": "ipython",
    "version": 3
   },
   "file_extension": ".py",
   "mimetype": "text/x-python",
   "name": "python",
   "nbconvert_exporter": "python",
   "pygments_lexer": "ipython3",
   "version": "3.9.7"
  }
 },
 "nbformat": 4,
 "nbformat_minor": 5
}

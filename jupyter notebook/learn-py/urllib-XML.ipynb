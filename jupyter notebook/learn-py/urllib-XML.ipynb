{
 "cells": [
  {
   "cell_type": "markdown",
   "id": "d537e6a1",
   "metadata": {},
   "source": [
    "# urllib"
   ]
  },
  {
   "cell_type": "code",
   "execution_count": 10,
   "id": "bd07e0a2",
   "metadata": {
    "collapsed": true
   },
   "outputs": [
    {
     "ename": "HTTPError",
     "evalue": "HTTP Error 400: Bad Request",
     "output_type": "error",
     "traceback": [
      "\u001b[1;31m---------------------------------------------------------------------------\u001b[0m",
      "\u001b[1;31mHTTPError\u001b[0m                                 Traceback (most recent call last)",
      "\u001b[1;32m~\\AppData\\Local\\Temp/ipykernel_3032/3297998401.py\u001b[0m in \u001b[0;36m<module>\u001b[1;34m\u001b[0m\n\u001b[0;32m      1\u001b[0m \u001b[1;32mfrom\u001b[0m \u001b[0murllib\u001b[0m \u001b[1;32mimport\u001b[0m \u001b[0mrequest\u001b[0m\u001b[1;33m\u001b[0m\u001b[1;33m\u001b[0m\u001b[0m\n\u001b[0;32m      2\u001b[0m \u001b[1;33m\u001b[0m\u001b[0m\n\u001b[1;32m----> 3\u001b[1;33m \u001b[1;32mwith\u001b[0m \u001b[0mrequest\u001b[0m\u001b[1;33m.\u001b[0m\u001b[0murlopen\u001b[0m\u001b[1;33m(\u001b[0m\u001b[1;34m'https://api.douban.com/v2/book/2129650'\u001b[0m\u001b[1;33m)\u001b[0m \u001b[1;32mas\u001b[0m \u001b[0mf\u001b[0m\u001b[1;33m:\u001b[0m\u001b[1;33m\u001b[0m\u001b[1;33m\u001b[0m\u001b[0m\n\u001b[0m\u001b[0;32m      4\u001b[0m     \u001b[0mdata\u001b[0m \u001b[1;33m=\u001b[0m \u001b[0mf\u001b[0m\u001b[1;33m.\u001b[0m\u001b[0mread\u001b[0m\u001b[1;33m(\u001b[0m\u001b[1;33m)\u001b[0m\u001b[1;33m\u001b[0m\u001b[1;33m\u001b[0m\u001b[0m\n\u001b[0;32m      5\u001b[0m     \u001b[0mprint\u001b[0m\u001b[1;33m(\u001b[0m\u001b[1;34m'Status:'\u001b[0m\u001b[1;33m,\u001b[0m \u001b[0mf\u001b[0m\u001b[1;33m.\u001b[0m\u001b[0mstatus\u001b[0m\u001b[1;33m,\u001b[0m \u001b[0mf\u001b[0m\u001b[1;33m.\u001b[0m\u001b[0mreason\u001b[0m\u001b[1;33m)\u001b[0m\u001b[1;33m\u001b[0m\u001b[1;33m\u001b[0m\u001b[0m\n",
      "\u001b[1;32m~\\anaconda3\\lib\\urllib\\request.py\u001b[0m in \u001b[0;36murlopen\u001b[1;34m(url, data, timeout, cafile, capath, cadefault, context)\u001b[0m\n\u001b[0;32m    212\u001b[0m     \u001b[1;32melse\u001b[0m\u001b[1;33m:\u001b[0m\u001b[1;33m\u001b[0m\u001b[1;33m\u001b[0m\u001b[0m\n\u001b[0;32m    213\u001b[0m         \u001b[0mopener\u001b[0m \u001b[1;33m=\u001b[0m \u001b[0m_opener\u001b[0m\u001b[1;33m\u001b[0m\u001b[1;33m\u001b[0m\u001b[0m\n\u001b[1;32m--> 214\u001b[1;33m     \u001b[1;32mreturn\u001b[0m \u001b[0mopener\u001b[0m\u001b[1;33m.\u001b[0m\u001b[0mopen\u001b[0m\u001b[1;33m(\u001b[0m\u001b[0murl\u001b[0m\u001b[1;33m,\u001b[0m \u001b[0mdata\u001b[0m\u001b[1;33m,\u001b[0m \u001b[0mtimeout\u001b[0m\u001b[1;33m)\u001b[0m\u001b[1;33m\u001b[0m\u001b[1;33m\u001b[0m\u001b[0m\n\u001b[0m\u001b[0;32m    215\u001b[0m \u001b[1;33m\u001b[0m\u001b[0m\n\u001b[0;32m    216\u001b[0m \u001b[1;32mdef\u001b[0m \u001b[0minstall_opener\u001b[0m\u001b[1;33m(\u001b[0m\u001b[0mopener\u001b[0m\u001b[1;33m)\u001b[0m\u001b[1;33m:\u001b[0m\u001b[1;33m\u001b[0m\u001b[1;33m\u001b[0m\u001b[0m\n",
      "\u001b[1;32m~\\anaconda3\\lib\\urllib\\request.py\u001b[0m in \u001b[0;36mopen\u001b[1;34m(self, fullurl, data, timeout)\u001b[0m\n\u001b[0;32m    521\u001b[0m         \u001b[1;32mfor\u001b[0m \u001b[0mprocessor\u001b[0m \u001b[1;32min\u001b[0m \u001b[0mself\u001b[0m\u001b[1;33m.\u001b[0m\u001b[0mprocess_response\u001b[0m\u001b[1;33m.\u001b[0m\u001b[0mget\u001b[0m\u001b[1;33m(\u001b[0m\u001b[0mprotocol\u001b[0m\u001b[1;33m,\u001b[0m \u001b[1;33m[\u001b[0m\u001b[1;33m]\u001b[0m\u001b[1;33m)\u001b[0m\u001b[1;33m:\u001b[0m\u001b[1;33m\u001b[0m\u001b[1;33m\u001b[0m\u001b[0m\n\u001b[0;32m    522\u001b[0m             \u001b[0mmeth\u001b[0m \u001b[1;33m=\u001b[0m \u001b[0mgetattr\u001b[0m\u001b[1;33m(\u001b[0m\u001b[0mprocessor\u001b[0m\u001b[1;33m,\u001b[0m \u001b[0mmeth_name\u001b[0m\u001b[1;33m)\u001b[0m\u001b[1;33m\u001b[0m\u001b[1;33m\u001b[0m\u001b[0m\n\u001b[1;32m--> 523\u001b[1;33m             \u001b[0mresponse\u001b[0m \u001b[1;33m=\u001b[0m \u001b[0mmeth\u001b[0m\u001b[1;33m(\u001b[0m\u001b[0mreq\u001b[0m\u001b[1;33m,\u001b[0m \u001b[0mresponse\u001b[0m\u001b[1;33m)\u001b[0m\u001b[1;33m\u001b[0m\u001b[1;33m\u001b[0m\u001b[0m\n\u001b[0m\u001b[0;32m    524\u001b[0m \u001b[1;33m\u001b[0m\u001b[0m\n\u001b[0;32m    525\u001b[0m         \u001b[1;32mreturn\u001b[0m \u001b[0mresponse\u001b[0m\u001b[1;33m\u001b[0m\u001b[1;33m\u001b[0m\u001b[0m\n",
      "\u001b[1;32m~\\anaconda3\\lib\\urllib\\request.py\u001b[0m in \u001b[0;36mhttp_response\u001b[1;34m(self, request, response)\u001b[0m\n\u001b[0;32m    630\u001b[0m         \u001b[1;31m# request was successfully received, understood, and accepted.\u001b[0m\u001b[1;33m\u001b[0m\u001b[1;33m\u001b[0m\u001b[0m\n\u001b[0;32m    631\u001b[0m         \u001b[1;32mif\u001b[0m \u001b[1;32mnot\u001b[0m \u001b[1;33m(\u001b[0m\u001b[1;36m200\u001b[0m \u001b[1;33m<=\u001b[0m \u001b[0mcode\u001b[0m \u001b[1;33m<\u001b[0m \u001b[1;36m300\u001b[0m\u001b[1;33m)\u001b[0m\u001b[1;33m:\u001b[0m\u001b[1;33m\u001b[0m\u001b[1;33m\u001b[0m\u001b[0m\n\u001b[1;32m--> 632\u001b[1;33m             response = self.parent.error(\n\u001b[0m\u001b[0;32m    633\u001b[0m                 'http', request, response, code, msg, hdrs)\n\u001b[0;32m    634\u001b[0m \u001b[1;33m\u001b[0m\u001b[0m\n",
      "\u001b[1;32m~\\anaconda3\\lib\\urllib\\request.py\u001b[0m in \u001b[0;36merror\u001b[1;34m(self, proto, *args)\u001b[0m\n\u001b[0;32m    559\u001b[0m         \u001b[1;32mif\u001b[0m \u001b[0mhttp_err\u001b[0m\u001b[1;33m:\u001b[0m\u001b[1;33m\u001b[0m\u001b[1;33m\u001b[0m\u001b[0m\n\u001b[0;32m    560\u001b[0m             \u001b[0margs\u001b[0m \u001b[1;33m=\u001b[0m \u001b[1;33m(\u001b[0m\u001b[0mdict\u001b[0m\u001b[1;33m,\u001b[0m \u001b[1;34m'default'\u001b[0m\u001b[1;33m,\u001b[0m \u001b[1;34m'http_error_default'\u001b[0m\u001b[1;33m)\u001b[0m \u001b[1;33m+\u001b[0m \u001b[0morig_args\u001b[0m\u001b[1;33m\u001b[0m\u001b[1;33m\u001b[0m\u001b[0m\n\u001b[1;32m--> 561\u001b[1;33m             \u001b[1;32mreturn\u001b[0m \u001b[0mself\u001b[0m\u001b[1;33m.\u001b[0m\u001b[0m_call_chain\u001b[0m\u001b[1;33m(\u001b[0m\u001b[1;33m*\u001b[0m\u001b[0margs\u001b[0m\u001b[1;33m)\u001b[0m\u001b[1;33m\u001b[0m\u001b[1;33m\u001b[0m\u001b[0m\n\u001b[0m\u001b[0;32m    562\u001b[0m \u001b[1;33m\u001b[0m\u001b[0m\n\u001b[0;32m    563\u001b[0m \u001b[1;31m# XXX probably also want an abstract factory that knows when it makes\u001b[0m\u001b[1;33m\u001b[0m\u001b[1;33m\u001b[0m\u001b[0m\n",
      "\u001b[1;32m~\\anaconda3\\lib\\urllib\\request.py\u001b[0m in \u001b[0;36m_call_chain\u001b[1;34m(self, chain, kind, meth_name, *args)\u001b[0m\n\u001b[0;32m    492\u001b[0m         \u001b[1;32mfor\u001b[0m \u001b[0mhandler\u001b[0m \u001b[1;32min\u001b[0m \u001b[0mhandlers\u001b[0m\u001b[1;33m:\u001b[0m\u001b[1;33m\u001b[0m\u001b[1;33m\u001b[0m\u001b[0m\n\u001b[0;32m    493\u001b[0m             \u001b[0mfunc\u001b[0m \u001b[1;33m=\u001b[0m \u001b[0mgetattr\u001b[0m\u001b[1;33m(\u001b[0m\u001b[0mhandler\u001b[0m\u001b[1;33m,\u001b[0m \u001b[0mmeth_name\u001b[0m\u001b[1;33m)\u001b[0m\u001b[1;33m\u001b[0m\u001b[1;33m\u001b[0m\u001b[0m\n\u001b[1;32m--> 494\u001b[1;33m             \u001b[0mresult\u001b[0m \u001b[1;33m=\u001b[0m \u001b[0mfunc\u001b[0m\u001b[1;33m(\u001b[0m\u001b[1;33m*\u001b[0m\u001b[0margs\u001b[0m\u001b[1;33m)\u001b[0m\u001b[1;33m\u001b[0m\u001b[1;33m\u001b[0m\u001b[0m\n\u001b[0m\u001b[0;32m    495\u001b[0m             \u001b[1;32mif\u001b[0m \u001b[0mresult\u001b[0m \u001b[1;32mis\u001b[0m \u001b[1;32mnot\u001b[0m \u001b[1;32mNone\u001b[0m\u001b[1;33m:\u001b[0m\u001b[1;33m\u001b[0m\u001b[1;33m\u001b[0m\u001b[0m\n\u001b[0;32m    496\u001b[0m                 \u001b[1;32mreturn\u001b[0m \u001b[0mresult\u001b[0m\u001b[1;33m\u001b[0m\u001b[1;33m\u001b[0m\u001b[0m\n",
      "\u001b[1;32m~\\anaconda3\\lib\\urllib\\request.py\u001b[0m in \u001b[0;36mhttp_error_default\u001b[1;34m(self, req, fp, code, msg, hdrs)\u001b[0m\n\u001b[0;32m    639\u001b[0m \u001b[1;32mclass\u001b[0m \u001b[0mHTTPDefaultErrorHandler\u001b[0m\u001b[1;33m(\u001b[0m\u001b[0mBaseHandler\u001b[0m\u001b[1;33m)\u001b[0m\u001b[1;33m:\u001b[0m\u001b[1;33m\u001b[0m\u001b[1;33m\u001b[0m\u001b[0m\n\u001b[0;32m    640\u001b[0m     \u001b[1;32mdef\u001b[0m \u001b[0mhttp_error_default\u001b[0m\u001b[1;33m(\u001b[0m\u001b[0mself\u001b[0m\u001b[1;33m,\u001b[0m \u001b[0mreq\u001b[0m\u001b[1;33m,\u001b[0m \u001b[0mfp\u001b[0m\u001b[1;33m,\u001b[0m \u001b[0mcode\u001b[0m\u001b[1;33m,\u001b[0m \u001b[0mmsg\u001b[0m\u001b[1;33m,\u001b[0m \u001b[0mhdrs\u001b[0m\u001b[1;33m)\u001b[0m\u001b[1;33m:\u001b[0m\u001b[1;33m\u001b[0m\u001b[1;33m\u001b[0m\u001b[0m\n\u001b[1;32m--> 641\u001b[1;33m         \u001b[1;32mraise\u001b[0m \u001b[0mHTTPError\u001b[0m\u001b[1;33m(\u001b[0m\u001b[0mreq\u001b[0m\u001b[1;33m.\u001b[0m\u001b[0mfull_url\u001b[0m\u001b[1;33m,\u001b[0m \u001b[0mcode\u001b[0m\u001b[1;33m,\u001b[0m \u001b[0mmsg\u001b[0m\u001b[1;33m,\u001b[0m \u001b[0mhdrs\u001b[0m\u001b[1;33m,\u001b[0m \u001b[0mfp\u001b[0m\u001b[1;33m)\u001b[0m\u001b[1;33m\u001b[0m\u001b[1;33m\u001b[0m\u001b[0m\n\u001b[0m\u001b[0;32m    642\u001b[0m \u001b[1;33m\u001b[0m\u001b[0m\n\u001b[0;32m    643\u001b[0m \u001b[1;32mclass\u001b[0m \u001b[0mHTTPRedirectHandler\u001b[0m\u001b[1;33m(\u001b[0m\u001b[0mBaseHandler\u001b[0m\u001b[1;33m)\u001b[0m\u001b[1;33m:\u001b[0m\u001b[1;33m\u001b[0m\u001b[1;33m\u001b[0m\u001b[0m\n",
      "\u001b[1;31mHTTPError\u001b[0m: HTTP Error 400: Bad Request"
     ]
    }
   ],
   "source": [
    "from urllib import request\n",
    "\n",
    "with request.urlopen('https://api.douban.com/v2/book/2129650') as f:\n",
    "    data = f.read()\n",
    "    print('Status:', f.status, f.reason)\n",
    "    for k, v in f.getheaders():\n",
    "        print('%s: %s' % (k, v))\n",
    "    print('Data:', data.decode('utf-8'))"
   ]
  },
  {
   "cell_type": "markdown",
   "id": "bea1e3c4",
   "metadata": {},
   "source": [
    "## 模拟浏览器发送GET请求"
   ]
  },
  {
   "cell_type": "code",
   "execution_count": 11,
   "id": "ca94db52",
   "metadata": {
    "collapsed": true
   },
   "outputs": [
    {
     "name": "stdout",
     "output_type": "stream",
     "text": [
      "Status: 200 OK\n",
      "Date: Wed, 27 Jul 2022 06:51:13 GMT\n",
      "Content-Type: text/html; charset=utf-8\n",
      "Transfer-Encoding: chunked\n",
      "Connection: close\n",
      "X-Xss-Protection: 1; mode=block\n",
      "X-Douban-Mobileapp: 0\n",
      "Expires: Sun, 1 Jan 2006 01:00:00 GMT\n",
      "Pragma: no-cache\n",
      "Cache-Control: must-revalidate, no-cache, private\n",
      "X-DAE-App: talion\n",
      "X-DAE-Instance: default\n",
      "Set-Cookie: bid=cdMiazZbstk; Expires=Thu, 27-Jul-23 06:51:13 GMT; Domain=.douban.com; Path=/\n",
      "X-DOUBAN-NEWBID: cdMiazZbstk\n",
      "Server: dae\n",
      "Strict-Transport-Security: max-age=15552000\n",
      "X-Content-Type-Options: nosniff\n",
      "X-Frame-Options: SAMEORIGIN\n",
      "Data: \n",
      "\n",
      "<!DOCTYPE html>\n",
      "<html itemscope itemtype=\"http://schema.org/WebPage\" class=\"ua-safari ua-mobile \">\n",
      "  <head>\n",
      "      <meta charset=\"UTF-8\">\n",
      "      <title>豆瓣(手机版)</title>\n",
      "      <meta name=\"google-site-verification\" content=\"ok0wCgT20tBBgo9_zat2iAcimtN4Ftf5ccsh092Xeyw\" />\n",
      "      <meta name=\"viewport\" content=\"width=device-width, height=device-height, user-scalable=no, initial-scale=1.0, minimum-scale=1.0, maximum-scale=1.0\">\n",
      "      <meta name=\"format-detection\" content=\"telephone=no\">\n",
      "      <meta name=\"description\" content=\"读书、看电影、涨知识、学穿搭...，加入兴趣小组，获得达人们的高质量生活经验，找到有相同爱好的小伙伴。\">\n",
      "      <meta name=\"keywords\" content=\"豆瓣,手机豆瓣,豆瓣手机版,豆瓣电影,豆瓣读书,豆瓣同城\">\n",
      "      <link rel=\"canonical\" href=\"\n",
      "https://m.douban.com/\">\n",
      "      <link href=\"https://img3.doubanio.com/f/talion/4eddaaed2bec5a0baa663274d47d136c54a2c03c/css/card/base.css\" rel=\"stylesheet\">\n",
      "      \n",
      "<script>\n",
      "  var saveKey = '_t_splash'\n",
      "  var day = 3\n",
      "  if (Date.now() - window.localStorage.getItem(saveKey) < 1000 * 60 * 60 * 24 * day) {\n",
      "    window.location.replace('/home_guide')\n",
      "  } else {\n",
      "    window.addEventListener('click', function(e) {\n",
      "      if (e.target.id === 'home_guide') {\n",
      "        window.localStorage.setItem(saveKey, Date.now())\n",
      "      }\n",
      "    })\n",
      "  }\n",
      "</script>\n",
      "\n",
      "      <link rel=\"stylesheet\" href=\"https://img3.doubanio.com/misc/mixed_static/4f3062503e5a7c84.css\">\n",
      "      <link rel=\"shortcut  icon\" href=\"https://img3.doubanio.com/f/talion/2f3c0bc0f35b031d4535fd993ae3936f4e40e6c8/pics/icon/dou32.png\" type=\"image/x-icon\" />\n",
      "      <link rel=\"icon\" type=\"image/png\" sizes=\"16x16\" href=\"https://img3.doubanio.com/f/talion/c970bb0d720963a7392f7dd6c77068bb9925caaf/pics/icon/dou16.png\">\n",
      "      <link rel=\"icon\" type=\"image/png\" sizes=\"32x32\" href=\"https://img3.doubanio.com/f/talion/2f3c0bc0f35b031d4535fd993ae3936f4e40e6c8/pics/icon/dou32.png\">\n",
      "      <link rel=\"icon\" type=\"image/png\" sizes=\"48x48\" href=\"https://img3.doubanio.com/f/talion/10a4a913a5715f628e4b598f7f9f2c18621bdcb3/pics/icon/dou48.png\">\n",
      "      <!-- iOS touch icon -->\n",
      "      <link rel=\"apple-touch-icon-precomposed\" href=\"https://img3.doubanio.com/f/talion/997f2018d82979da970030a5eb84c77f0123ae5f/pics/icon/m_logo_76.png\">\n",
      "      <link rel=\"apple-touch-icon-precomposed\" sizes=\"76x76\" href=\"https://img3.doubanio.com/f/talion/997f2018d82979da970030a5eb84c77f0123ae5f/pics/icon/m_logo_76.png\">\n",
      "      <link rel=\"apple-touch-icon-precomposed\" sizes=\"120x120\" href=\"https://img3.doubanio.com/f/talion/18932a3e71a60ed7150ca2ca7ebf21ddadd7092e/pics/icon/m_logo_120.png\">\n",
      "      <link rel=\"apple-touch-icon-precomposed\" sizes=\"152x152\" href=\"https://img3.doubanio.com/f/talion/b99497ff8538c54b9ba6f40867da932396ab2562/pics/icon/m_logo_152.png\">\n",
      "      <link rel=\"apple-touch-icon-precomposed\" sizes=\"167x167\" href=\"https://img3.doubanio.com/f/talion/0c233ada957a95e632f81607e30230d16e8293e8/pics/icon/m_logo_167.png\">\n",
      "      <link rel=\"apple-touch-icon-precomposed\" sizes=\"180x180\" href=\"https://img3.doubanio.com/f/talion/8e7b9cbd097c02972c4191aa03fdb084524505c4/pics/icon/m_logo_180.png\">\n",
      "      <link rel=\"apple-touch-icon-precomposed\" sizes=\"200x200\" href=\"https://img3.doubanio.com/f/talion/7c6364aadf368dc0210173c940cfd0f64ceddc66/pics/icon/m_logo_200.png\">\n",
      "      <!-- For Android -->\n",
      "      <link rel=\"icon\" sizes=\"128x128\" href=\"https://img3.doubanio.com/f/talion/b99497ff8538c54b9ba6f40867da932396ab2562/pics/icon/m_logo_152.png\">\n",
      "      <link rel=\"icon\" sizes=\"192x192\" href=\"https://img3.doubanio.com/f/talion/7c6364aadf368dc0210173c940cfd0f64ceddc66/pics/icon/m_logo_200.png\">\n",
      "      <!-- For Web App Manifest -->\n",
      "      <link type=\"application/opensearchdescription+xml\" rel=\"search\" href=\"/opensearch\"/>\n",
      "          <!-- hm baidu -->\n",
      "          <script type=\"text/javascript\">\n",
      "          var _hmt = _hmt || [];\n",
      "          (function() {\n",
      "            var hm = document.createElement(\"script\");\n",
      "            hm.src = \"https://hm.baidu.com/hm.js?6d4a8cfea88fa457c3127e14fb5fabc2\";\n",
      "            var s = document.getElementsByTagName(\"script\")[0];\n",
      "            s.parentNode.insertBefore(hm, s);\n",
      "          })();\n",
      "          _hmt.logTruncate = function(type) {\n",
      "              _hmt.push(['_trackEvent', 'article', 'truncate', type, 1]);\n",
      "          }\n",
      "          </script>\n",
      "  </head>\n",
      "  <body ontouchstart=\"\">\n",
      "    \n",
      "    <div class=\"page\">\n",
      "        \n",
      "  \n",
      "  \n",
      "  <div class=\"splash\">\n",
      "    <div class=\"splash-content\">\n",
      "      <div class=\"splash-pic\">\n",
      "        <img src=\"https://img3.doubanio.com/f/talion/706ae8511b66f390ae0427daf85df7ddd93ab1b9/pics/card/splash/splash_bg.jpg\" />\n",
      "      </div>\n",
      "    </div>\n",
      "    <div class=\"splash-bottom\">\n",
      "      <div class=\"splash-text\">\n",
      "        <p class=\"splash-text-main\">来豆瓣，记录你的书影音生活</p>\n",
      "        <!-- <p>更多书影音讨论在豆瓣App</p> -->\n",
      "      </div>\n",
      "      <a class=\"splash-btn\" href=\"https://m.douban.com/to_app?copy_open=1&url=/recommend_feed&source=splash\">下载App</a>\n",
      "      <a class=\"splash-link\" id=\"home_guide\" href=\"/home_guide\">进入网页版 &gt;</a>\n",
      "    </div>\n",
      "  </div>\n",
      "\n",
      "    </div>\n",
      "    <script src=\"https://img3.doubanio.com/f/talion/ee8e0c54293aefb5709ececbdf082f8091ad5e49/js/card/zepto.min.js\"></script>\n",
      "    \n",
      "  </body>\n",
      "</html>\n",
      "\n",
      "\n",
      "\n",
      "\n",
      "\n",
      "\n",
      "\n",
      "\n"
     ]
    }
   ],
   "source": [
    "from urllib import request\n",
    "\n",
    "req = request.Request('http://www.douban.com/')\n",
    "req.add_header('User-Agent', 'Mozilla/6.0 (iPhone; CPU iPhone OS 8_0 like Mac OS X) AppleWebKit/536.26 (KHTML, like Gecko) Version/8.0 Mobile/10A5376e Safari/8536.25')\n",
    "with request.urlopen(req) as f:\n",
    "    print('Status:', f.status, f.reason)\n",
    "    for k, v in f.getheaders():\n",
    "        print('%s: %s' % (k, v))\n",
    "    print('Data:', f.read().decode('utf-8'))"
   ]
  },
  {
   "cell_type": "code",
   "execution_count": 13,
   "id": "277d433a",
   "metadata": {
    "collapsed": true
   },
   "outputs": [
    {
     "name": "stdout",
     "output_type": "stream",
     "text": [
      "Login to weibo.cn...\n",
      "Email:janineflagship@163.com\n",
      "Password: duoduo20201210@w\n",
      "Status: 200 OK\n",
      "Server: nginx\n",
      "Date: Wed, 27 Jul 2022 07:20:31 GMT\n",
      "Content-Type: text/html\n",
      "Transfer-Encoding: chunked\n",
      "Connection: close\n",
      "Vary: Accept-Encoding\n",
      "Cache-Control: no-cache, must-revalidate\n",
      "Expires: Sat, 26 Jul 1997 05:00:00 GMT\n",
      "Pragma: no-cache\n",
      "Access-Control-Allow-Origin: https://passport.weibo.cn\n",
      "Access-Control-Allow-Credentials: true\n",
      "X-Via-SSL: ssl.138.sinag1.yf.lb.sinanode.com\n",
      "Data: {\"retcode\":50050011,\"msg\":\"\\u8bf7\\u5b8c\\u6210\\u9a8c\\u8bc1\",\"data\":{\"username\":\"janineflagship@163.com\",\"errurl\":\"https:\\/\\/passport.weibo.cn\\/verify\\/index?id=2YjBi4Oc_AAMX7gWR5ssQN9Q7Beu8QABLBWxvZ2lu&showmenu=0&r=https%3A%2F%2Fpassport.weibo.cn%2Fsignin%2Fwelcome%3Fentry%3Dmweibo%26r%3Dhttp%253A%252F%252Fm.weibo.cn%252F\",\"errline\":15}}\n"
     ]
    }
   ],
   "source": [
    "from urllib import request, parse\n",
    "\n",
    "print('Login to weibo.cn...')\n",
    "email = input('Email:')\n",
    "passwd = input('Password: ')\n",
    "login_data = parse.urlencode([\n",
    "    ('username', email),\n",
    "    ('password', passwd),\n",
    "    ('entry', 'mweibo'),\n",
    "    ('client_id',''),\n",
    "    ('savestate', '1'),\n",
    "    ('ec',''),\n",
    "    ('pagerefer', 'https://passport.weibo.cn/signin/welcome?entry=mweibo&r=http%3A%2F%2Fm.weibo.cn%2F')\n",
    "])\n",
    "\n",
    "req = request.Request('https://passport.weibo.cn/sso/login')\n",
    "req.add_header('Origin', 'https://passport.weibo.cn')\n",
    "req.add_header('User-Agent', 'Mozilla/6.0 (iPhone; CPU iPhone OS 8_0 like Mac OS X) AppleWebKit/536.26 (KHTML, like Gecko) Version/8.0 Mobile/10A5376e Safari/8536.25')\n",
    "req.add_header('Referer', 'https://passport.weibo.cn/signin/login?entry=mweibo&res=wel&wm=3349&r=http%3A%2F%2Fm.weibo.cn%2F')\n",
    "\n",
    "with request.urlopen(req, data=login_data.encode('utf-8')) as f:\n",
    "    print('Status:', f.status, f.reason)\n",
    "    for k, v in f.getheaders():\n",
    "        print('%s: %s' % (k, v))\n",
    "    print('Data:', f.read().decode('utf-8'))"
   ]
  },
  {
   "cell_type": "code",
   "execution_count": 15,
   "id": "39eb3a26",
   "metadata": {},
   "outputs": [],
   "source": [
    "import urllib"
   ]
  },
  {
   "cell_type": "code",
   "execution_count": 16,
   "id": "154f5eca",
   "metadata": {
    "collapsed": true
   },
   "outputs": [
    {
     "ename": "URLError",
     "evalue": "<urlopen error [WinError 10060] 由于连接方在一段时间后没有正确答复或连接的主机没有反应，连接尝试失败。>",
     "output_type": "error",
     "traceback": [
      "\u001b[1;31m---------------------------------------------------------------------------\u001b[0m",
      "\u001b[1;31mTimeoutError\u001b[0m                              Traceback (most recent call last)",
      "\u001b[1;32m~\\anaconda3\\lib\\urllib\\request.py\u001b[0m in \u001b[0;36mdo_open\u001b[1;34m(self, http_class, req, **http_conn_args)\u001b[0m\n\u001b[0;32m   1345\u001b[0m             \u001b[1;32mtry\u001b[0m\u001b[1;33m:\u001b[0m\u001b[1;33m\u001b[0m\u001b[1;33m\u001b[0m\u001b[0m\n\u001b[1;32m-> 1346\u001b[1;33m                 h.request(req.get_method(), req.selector, req.data, headers,\n\u001b[0m\u001b[0;32m   1347\u001b[0m                           encode_chunked=req.has_header('Transfer-encoding'))\n",
      "\u001b[1;32m~\\anaconda3\\lib\\http\\client.py\u001b[0m in \u001b[0;36mrequest\u001b[1;34m(self, method, url, body, headers, encode_chunked)\u001b[0m\n\u001b[0;32m   1278\u001b[0m         \u001b[1;34m\"\"\"Send a complete request to the server.\"\"\"\u001b[0m\u001b[1;33m\u001b[0m\u001b[1;33m\u001b[0m\u001b[0m\n\u001b[1;32m-> 1279\u001b[1;33m         \u001b[0mself\u001b[0m\u001b[1;33m.\u001b[0m\u001b[0m_send_request\u001b[0m\u001b[1;33m(\u001b[0m\u001b[0mmethod\u001b[0m\u001b[1;33m,\u001b[0m \u001b[0murl\u001b[0m\u001b[1;33m,\u001b[0m \u001b[0mbody\u001b[0m\u001b[1;33m,\u001b[0m \u001b[0mheaders\u001b[0m\u001b[1;33m,\u001b[0m \u001b[0mencode_chunked\u001b[0m\u001b[1;33m)\u001b[0m\u001b[1;33m\u001b[0m\u001b[1;33m\u001b[0m\u001b[0m\n\u001b[0m\u001b[0;32m   1280\u001b[0m \u001b[1;33m\u001b[0m\u001b[0m\n",
      "\u001b[1;32m~\\anaconda3\\lib\\http\\client.py\u001b[0m in \u001b[0;36m_send_request\u001b[1;34m(self, method, url, body, headers, encode_chunked)\u001b[0m\n\u001b[0;32m   1324\u001b[0m             \u001b[0mbody\u001b[0m \u001b[1;33m=\u001b[0m \u001b[0m_encode\u001b[0m\u001b[1;33m(\u001b[0m\u001b[0mbody\u001b[0m\u001b[1;33m,\u001b[0m \u001b[1;34m'body'\u001b[0m\u001b[1;33m)\u001b[0m\u001b[1;33m\u001b[0m\u001b[1;33m\u001b[0m\u001b[0m\n\u001b[1;32m-> 1325\u001b[1;33m         \u001b[0mself\u001b[0m\u001b[1;33m.\u001b[0m\u001b[0mendheaders\u001b[0m\u001b[1;33m(\u001b[0m\u001b[0mbody\u001b[0m\u001b[1;33m,\u001b[0m \u001b[0mencode_chunked\u001b[0m\u001b[1;33m=\u001b[0m\u001b[0mencode_chunked\u001b[0m\u001b[1;33m)\u001b[0m\u001b[1;33m\u001b[0m\u001b[1;33m\u001b[0m\u001b[0m\n\u001b[0m\u001b[0;32m   1326\u001b[0m \u001b[1;33m\u001b[0m\u001b[0m\n",
      "\u001b[1;32m~\\anaconda3\\lib\\http\\client.py\u001b[0m in \u001b[0;36mendheaders\u001b[1;34m(self, message_body, encode_chunked)\u001b[0m\n\u001b[0;32m   1273\u001b[0m             \u001b[1;32mraise\u001b[0m \u001b[0mCannotSendHeader\u001b[0m\u001b[1;33m(\u001b[0m\u001b[1;33m)\u001b[0m\u001b[1;33m\u001b[0m\u001b[1;33m\u001b[0m\u001b[0m\n\u001b[1;32m-> 1274\u001b[1;33m         \u001b[0mself\u001b[0m\u001b[1;33m.\u001b[0m\u001b[0m_send_output\u001b[0m\u001b[1;33m(\u001b[0m\u001b[0mmessage_body\u001b[0m\u001b[1;33m,\u001b[0m \u001b[0mencode_chunked\u001b[0m\u001b[1;33m=\u001b[0m\u001b[0mencode_chunked\u001b[0m\u001b[1;33m)\u001b[0m\u001b[1;33m\u001b[0m\u001b[1;33m\u001b[0m\u001b[0m\n\u001b[0m\u001b[0;32m   1275\u001b[0m \u001b[1;33m\u001b[0m\u001b[0m\n",
      "\u001b[1;32m~\\anaconda3\\lib\\http\\client.py\u001b[0m in \u001b[0;36m_send_output\u001b[1;34m(self, message_body, encode_chunked)\u001b[0m\n\u001b[0;32m   1033\u001b[0m         \u001b[1;32mdel\u001b[0m \u001b[0mself\u001b[0m\u001b[1;33m.\u001b[0m\u001b[0m_buffer\u001b[0m\u001b[1;33m[\u001b[0m\u001b[1;33m:\u001b[0m\u001b[1;33m]\u001b[0m\u001b[1;33m\u001b[0m\u001b[1;33m\u001b[0m\u001b[0m\n\u001b[1;32m-> 1034\u001b[1;33m         \u001b[0mself\u001b[0m\u001b[1;33m.\u001b[0m\u001b[0msend\u001b[0m\u001b[1;33m(\u001b[0m\u001b[0mmsg\u001b[0m\u001b[1;33m)\u001b[0m\u001b[1;33m\u001b[0m\u001b[1;33m\u001b[0m\u001b[0m\n\u001b[0m\u001b[0;32m   1035\u001b[0m \u001b[1;33m\u001b[0m\u001b[0m\n",
      "\u001b[1;32m~\\anaconda3\\lib\\http\\client.py\u001b[0m in \u001b[0;36msend\u001b[1;34m(self, data)\u001b[0m\n\u001b[0;32m    973\u001b[0m             \u001b[1;32mif\u001b[0m \u001b[0mself\u001b[0m\u001b[1;33m.\u001b[0m\u001b[0mauto_open\u001b[0m\u001b[1;33m:\u001b[0m\u001b[1;33m\u001b[0m\u001b[1;33m\u001b[0m\u001b[0m\n\u001b[1;32m--> 974\u001b[1;33m                 \u001b[0mself\u001b[0m\u001b[1;33m.\u001b[0m\u001b[0mconnect\u001b[0m\u001b[1;33m(\u001b[0m\u001b[1;33m)\u001b[0m\u001b[1;33m\u001b[0m\u001b[1;33m\u001b[0m\u001b[0m\n\u001b[0m\u001b[0;32m    975\u001b[0m             \u001b[1;32melse\u001b[0m\u001b[1;33m:\u001b[0m\u001b[1;33m\u001b[0m\u001b[1;33m\u001b[0m\u001b[0m\n",
      "\u001b[1;32m~\\anaconda3\\lib\\http\\client.py\u001b[0m in \u001b[0;36mconnect\u001b[1;34m(self)\u001b[0m\n\u001b[0;32m    944\u001b[0m         \u001b[1;34m\"\"\"Connect to the host and port specified in __init__.\"\"\"\u001b[0m\u001b[1;33m\u001b[0m\u001b[1;33m\u001b[0m\u001b[0m\n\u001b[1;32m--> 945\u001b[1;33m         self.sock = self._create_connection(\n\u001b[0m\u001b[0;32m    946\u001b[0m             (self.host,self.port), self.timeout, self.source_address)\n",
      "\u001b[1;32m~\\anaconda3\\lib\\socket.py\u001b[0m in \u001b[0;36mcreate_connection\u001b[1;34m(address, timeout, source_address)\u001b[0m\n\u001b[0;32m    843\u001b[0m         \u001b[1;32mtry\u001b[0m\u001b[1;33m:\u001b[0m\u001b[1;33m\u001b[0m\u001b[1;33m\u001b[0m\u001b[0m\n\u001b[1;32m--> 844\u001b[1;33m             \u001b[1;32mraise\u001b[0m \u001b[0merr\u001b[0m\u001b[1;33m\u001b[0m\u001b[1;33m\u001b[0m\u001b[0m\n\u001b[0m\u001b[0;32m    845\u001b[0m         \u001b[1;32mfinally\u001b[0m\u001b[1;33m:\u001b[0m\u001b[1;33m\u001b[0m\u001b[1;33m\u001b[0m\u001b[0m\n",
      "\u001b[1;32m~\\anaconda3\\lib\\socket.py\u001b[0m in \u001b[0;36mcreate_connection\u001b[1;34m(address, timeout, source_address)\u001b[0m\n\u001b[0;32m    831\u001b[0m                 \u001b[0msock\u001b[0m\u001b[1;33m.\u001b[0m\u001b[0mbind\u001b[0m\u001b[1;33m(\u001b[0m\u001b[0msource_address\u001b[0m\u001b[1;33m)\u001b[0m\u001b[1;33m\u001b[0m\u001b[1;33m\u001b[0m\u001b[0m\n\u001b[1;32m--> 832\u001b[1;33m             \u001b[0msock\u001b[0m\u001b[1;33m.\u001b[0m\u001b[0mconnect\u001b[0m\u001b[1;33m(\u001b[0m\u001b[0msa\u001b[0m\u001b[1;33m)\u001b[0m\u001b[1;33m\u001b[0m\u001b[1;33m\u001b[0m\u001b[0m\n\u001b[0m\u001b[0;32m    833\u001b[0m             \u001b[1;31m# Break explicitly a reference cycle\u001b[0m\u001b[1;33m\u001b[0m\u001b[1;33m\u001b[0m\u001b[0m\n",
      "\u001b[1;31mTimeoutError\u001b[0m: [WinError 10060] 由于连接方在一段时间后没有正确答复或连接的主机没有反应，连接尝试失败。",
      "\nDuring handling of the above exception, another exception occurred:\n",
      "\u001b[1;31mURLError\u001b[0m                                  Traceback (most recent call last)",
      "\u001b[1;32m~\\AppData\\Local\\Temp/ipykernel_3032/1892975924.py\u001b[0m in \u001b[0;36m<module>\u001b[1;34m\u001b[0m\n\u001b[0;32m      3\u001b[0m \u001b[0mproxy_auth_handler\u001b[0m\u001b[1;33m.\u001b[0m\u001b[0madd_password\u001b[0m\u001b[1;33m(\u001b[0m\u001b[1;34m'realm'\u001b[0m\u001b[1;33m,\u001b[0m \u001b[1;34m'host'\u001b[0m\u001b[1;33m,\u001b[0m \u001b[1;34m'username'\u001b[0m\u001b[1;33m,\u001b[0m \u001b[1;34m'password'\u001b[0m\u001b[1;33m)\u001b[0m\u001b[1;33m\u001b[0m\u001b[1;33m\u001b[0m\u001b[0m\n\u001b[0;32m      4\u001b[0m \u001b[0mopener\u001b[0m \u001b[1;33m=\u001b[0m \u001b[0murllib\u001b[0m\u001b[1;33m.\u001b[0m\u001b[0mrequest\u001b[0m\u001b[1;33m.\u001b[0m\u001b[0mbuild_opener\u001b[0m\u001b[1;33m(\u001b[0m\u001b[0mproxy_handler\u001b[0m\u001b[1;33m,\u001b[0m \u001b[0mproxy_auth_handler\u001b[0m\u001b[1;33m)\u001b[0m\u001b[1;33m\u001b[0m\u001b[1;33m\u001b[0m\u001b[0m\n\u001b[1;32m----> 5\u001b[1;33m \u001b[1;32mwith\u001b[0m \u001b[0mopener\u001b[0m\u001b[1;33m.\u001b[0m\u001b[0mopen\u001b[0m\u001b[1;33m(\u001b[0m\u001b[1;34m'http://www.example.com/login.html'\u001b[0m\u001b[1;33m)\u001b[0m \u001b[1;32mas\u001b[0m \u001b[0mf\u001b[0m\u001b[1;33m:\u001b[0m\u001b[1;33m\u001b[0m\u001b[1;33m\u001b[0m\u001b[0m\n\u001b[0m\u001b[0;32m      6\u001b[0m     \u001b[1;32mpass\u001b[0m\u001b[1;33m\u001b[0m\u001b[1;33m\u001b[0m\u001b[0m\n",
      "\u001b[1;32m~\\anaconda3\\lib\\urllib\\request.py\u001b[0m in \u001b[0;36mopen\u001b[1;34m(self, fullurl, data, timeout)\u001b[0m\n\u001b[0;32m    515\u001b[0m \u001b[1;33m\u001b[0m\u001b[0m\n\u001b[0;32m    516\u001b[0m         \u001b[0msys\u001b[0m\u001b[1;33m.\u001b[0m\u001b[0maudit\u001b[0m\u001b[1;33m(\u001b[0m\u001b[1;34m'urllib.Request'\u001b[0m\u001b[1;33m,\u001b[0m \u001b[0mreq\u001b[0m\u001b[1;33m.\u001b[0m\u001b[0mfull_url\u001b[0m\u001b[1;33m,\u001b[0m \u001b[0mreq\u001b[0m\u001b[1;33m.\u001b[0m\u001b[0mdata\u001b[0m\u001b[1;33m,\u001b[0m \u001b[0mreq\u001b[0m\u001b[1;33m.\u001b[0m\u001b[0mheaders\u001b[0m\u001b[1;33m,\u001b[0m \u001b[0mreq\u001b[0m\u001b[1;33m.\u001b[0m\u001b[0mget_method\u001b[0m\u001b[1;33m(\u001b[0m\u001b[1;33m)\u001b[0m\u001b[1;33m)\u001b[0m\u001b[1;33m\u001b[0m\u001b[1;33m\u001b[0m\u001b[0m\n\u001b[1;32m--> 517\u001b[1;33m         \u001b[0mresponse\u001b[0m \u001b[1;33m=\u001b[0m \u001b[0mself\u001b[0m\u001b[1;33m.\u001b[0m\u001b[0m_open\u001b[0m\u001b[1;33m(\u001b[0m\u001b[0mreq\u001b[0m\u001b[1;33m,\u001b[0m \u001b[0mdata\u001b[0m\u001b[1;33m)\u001b[0m\u001b[1;33m\u001b[0m\u001b[1;33m\u001b[0m\u001b[0m\n\u001b[0m\u001b[0;32m    518\u001b[0m \u001b[1;33m\u001b[0m\u001b[0m\n\u001b[0;32m    519\u001b[0m         \u001b[1;31m# post-process response\u001b[0m\u001b[1;33m\u001b[0m\u001b[1;33m\u001b[0m\u001b[0m\n",
      "\u001b[1;32m~\\anaconda3\\lib\\urllib\\request.py\u001b[0m in \u001b[0;36m_open\u001b[1;34m(self, req, data)\u001b[0m\n\u001b[0;32m    532\u001b[0m \u001b[1;33m\u001b[0m\u001b[0m\n\u001b[0;32m    533\u001b[0m         \u001b[0mprotocol\u001b[0m \u001b[1;33m=\u001b[0m \u001b[0mreq\u001b[0m\u001b[1;33m.\u001b[0m\u001b[0mtype\u001b[0m\u001b[1;33m\u001b[0m\u001b[1;33m\u001b[0m\u001b[0m\n\u001b[1;32m--> 534\u001b[1;33m         result = self._call_chain(self.handle_open, protocol, protocol +\n\u001b[0m\u001b[0;32m    535\u001b[0m                                   '_open', req)\n\u001b[0;32m    536\u001b[0m         \u001b[1;32mif\u001b[0m \u001b[0mresult\u001b[0m\u001b[1;33m:\u001b[0m\u001b[1;33m\u001b[0m\u001b[1;33m\u001b[0m\u001b[0m\n",
      "\u001b[1;32m~\\anaconda3\\lib\\urllib\\request.py\u001b[0m in \u001b[0;36m_call_chain\u001b[1;34m(self, chain, kind, meth_name, *args)\u001b[0m\n\u001b[0;32m    492\u001b[0m         \u001b[1;32mfor\u001b[0m \u001b[0mhandler\u001b[0m \u001b[1;32min\u001b[0m \u001b[0mhandlers\u001b[0m\u001b[1;33m:\u001b[0m\u001b[1;33m\u001b[0m\u001b[1;33m\u001b[0m\u001b[0m\n\u001b[0;32m    493\u001b[0m             \u001b[0mfunc\u001b[0m \u001b[1;33m=\u001b[0m \u001b[0mgetattr\u001b[0m\u001b[1;33m(\u001b[0m\u001b[0mhandler\u001b[0m\u001b[1;33m,\u001b[0m \u001b[0mmeth_name\u001b[0m\u001b[1;33m)\u001b[0m\u001b[1;33m\u001b[0m\u001b[1;33m\u001b[0m\u001b[0m\n\u001b[1;32m--> 494\u001b[1;33m             \u001b[0mresult\u001b[0m \u001b[1;33m=\u001b[0m \u001b[0mfunc\u001b[0m\u001b[1;33m(\u001b[0m\u001b[1;33m*\u001b[0m\u001b[0margs\u001b[0m\u001b[1;33m)\u001b[0m\u001b[1;33m\u001b[0m\u001b[1;33m\u001b[0m\u001b[0m\n\u001b[0m\u001b[0;32m    495\u001b[0m             \u001b[1;32mif\u001b[0m \u001b[0mresult\u001b[0m \u001b[1;32mis\u001b[0m \u001b[1;32mnot\u001b[0m \u001b[1;32mNone\u001b[0m\u001b[1;33m:\u001b[0m\u001b[1;33m\u001b[0m\u001b[1;33m\u001b[0m\u001b[0m\n\u001b[0;32m    496\u001b[0m                 \u001b[1;32mreturn\u001b[0m \u001b[0mresult\u001b[0m\u001b[1;33m\u001b[0m\u001b[1;33m\u001b[0m\u001b[0m\n",
      "\u001b[1;32m~\\anaconda3\\lib\\urllib\\request.py\u001b[0m in \u001b[0;36mhttp_open\u001b[1;34m(self, req)\u001b[0m\n\u001b[0;32m   1373\u001b[0m \u001b[1;33m\u001b[0m\u001b[0m\n\u001b[0;32m   1374\u001b[0m     \u001b[1;32mdef\u001b[0m \u001b[0mhttp_open\u001b[0m\u001b[1;33m(\u001b[0m\u001b[0mself\u001b[0m\u001b[1;33m,\u001b[0m \u001b[0mreq\u001b[0m\u001b[1;33m)\u001b[0m\u001b[1;33m:\u001b[0m\u001b[1;33m\u001b[0m\u001b[1;33m\u001b[0m\u001b[0m\n\u001b[1;32m-> 1375\u001b[1;33m         \u001b[1;32mreturn\u001b[0m \u001b[0mself\u001b[0m\u001b[1;33m.\u001b[0m\u001b[0mdo_open\u001b[0m\u001b[1;33m(\u001b[0m\u001b[0mhttp\u001b[0m\u001b[1;33m.\u001b[0m\u001b[0mclient\u001b[0m\u001b[1;33m.\u001b[0m\u001b[0mHTTPConnection\u001b[0m\u001b[1;33m,\u001b[0m \u001b[0mreq\u001b[0m\u001b[1;33m)\u001b[0m\u001b[1;33m\u001b[0m\u001b[1;33m\u001b[0m\u001b[0m\n\u001b[0m\u001b[0;32m   1376\u001b[0m \u001b[1;33m\u001b[0m\u001b[0m\n\u001b[0;32m   1377\u001b[0m     \u001b[0mhttp_request\u001b[0m \u001b[1;33m=\u001b[0m \u001b[0mAbstractHTTPHandler\u001b[0m\u001b[1;33m.\u001b[0m\u001b[0mdo_request_\u001b[0m\u001b[1;33m\u001b[0m\u001b[1;33m\u001b[0m\u001b[0m\n",
      "\u001b[1;32m~\\anaconda3\\lib\\urllib\\request.py\u001b[0m in \u001b[0;36mdo_open\u001b[1;34m(self, http_class, req, **http_conn_args)\u001b[0m\n\u001b[0;32m   1347\u001b[0m                           encode_chunked=req.has_header('Transfer-encoding'))\n\u001b[0;32m   1348\u001b[0m             \u001b[1;32mexcept\u001b[0m \u001b[0mOSError\u001b[0m \u001b[1;32mas\u001b[0m \u001b[0merr\u001b[0m\u001b[1;33m:\u001b[0m \u001b[1;31m# timeout error\u001b[0m\u001b[1;33m\u001b[0m\u001b[1;33m\u001b[0m\u001b[0m\n\u001b[1;32m-> 1349\u001b[1;33m                 \u001b[1;32mraise\u001b[0m \u001b[0mURLError\u001b[0m\u001b[1;33m(\u001b[0m\u001b[0merr\u001b[0m\u001b[1;33m)\u001b[0m\u001b[1;33m\u001b[0m\u001b[1;33m\u001b[0m\u001b[0m\n\u001b[0m\u001b[0;32m   1350\u001b[0m             \u001b[0mr\u001b[0m \u001b[1;33m=\u001b[0m \u001b[0mh\u001b[0m\u001b[1;33m.\u001b[0m\u001b[0mgetresponse\u001b[0m\u001b[1;33m(\u001b[0m\u001b[1;33m)\u001b[0m\u001b[1;33m\u001b[0m\u001b[1;33m\u001b[0m\u001b[0m\n\u001b[0;32m   1351\u001b[0m         \u001b[1;32mexcept\u001b[0m\u001b[1;33m:\u001b[0m\u001b[1;33m\u001b[0m\u001b[1;33m\u001b[0m\u001b[0m\n",
      "\u001b[1;31mURLError\u001b[0m: <urlopen error [WinError 10060] 由于连接方在一段时间后没有正确答复或连接的主机没有反应，连接尝试失败。>"
     ]
    }
   ],
   "source": [
    "proxy_handler = urllib.request.ProxyHandler({'http': 'http://www.example.com:3128/'})\n",
    "proxy_auth_handler = urllib.request.ProxyBasicAuthHandler()\n",
    "proxy_auth_handler.add_password('realm', 'host', 'username', 'password')\n",
    "opener = urllib.request.build_opener(proxy_handler, proxy_auth_handler)\n",
    "with opener.open('http://www.example.com/login.html') as f:\n",
    "    pass"
   ]
  },
  {
   "cell_type": "markdown",
   "id": "e7e17719",
   "metadata": {},
   "source": [
    "# 利用urllib读取JSON，然后将JSON解析为Python对象"
   ]
  },
  {
   "cell_type": "code",
   "execution_count": 21,
   "id": "9da0902e",
   "metadata": {},
   "outputs": [],
   "source": [
    "# -*- coding: utf-8 -*-\n",
    "from urllib import request\n",
    "import json"
   ]
  },
  {
   "cell_type": "code",
   "execution_count": 26,
   "id": "2bcdd1c0",
   "metadata": {},
   "outputs": [],
   "source": [
    "# -*- coding: utf-8 -*-\n",
    "from urllib import request\n",
    "import json\n",
    "\n",
    "\n",
    "def fetch_data(url):\n",
    "    with request.urlopen(url) as f:\n",
    "        data = f.read()\n",
    "        pobj = json.loads(data.decode('utf-8'))\n",
    "\n",
    "    return pobj"
   ]
  },
  {
   "cell_type": "code",
   "execution_count": 27,
   "id": "0f19a046",
   "metadata": {},
   "outputs": [
    {
     "name": "stdout",
     "output_type": "stream",
     "text": [
      "{'answer': 'yes', 'forced': False, 'image': 'https://yesno.wtf/assets/yes/3-422e51268d64d78241720a7de52fe121.gif'}\n",
      "ok\n"
     ]
    }
   ],
   "source": [
    "# 测试\n",
    "URL = 'https://yesno.wtf/api'\n",
    "data = fetch_data(URL)\n",
    "print(data)\n",
    "assert data['answer']== 'yes' and (data['forced']== False)\n",
    "print('ok')"
   ]
  },
  {
   "cell_type": "markdown",
   "id": "65e8b962",
   "metadata": {},
   "source": [
    "# SAX"
   ]
  },
  {
   "cell_type": "code",
   "execution_count": 28,
   "id": "666ebd5c",
   "metadata": {},
   "outputs": [
    {
     "name": "stdout",
     "output_type": "stream",
     "text": [
      "sax:start_element: ol, attrs: {}\n",
      "sax:char_data: \n",
      "\n",
      "sax:char_data:     \n",
      "sax:start_element: li, attrs: {}\n",
      "sax:start_element: a, attrs: {'href': '/python'}\n",
      "sax:char_data: Python\n",
      "sax:end_element: a\n",
      "sax:end_element: li\n",
      "sax:char_data: \n",
      "\n",
      "sax:char_data:     \n",
      "sax:start_element: li, attrs: {}\n",
      "sax:start_element: a, attrs: {'href': '/ruby'}\n",
      "sax:char_data: Ruby\n",
      "sax:end_element: a\n",
      "sax:end_element: li\n",
      "sax:char_data: \n",
      "\n",
      "sax:end_element: ol\n"
     ]
    },
    {
     "data": {
      "text/plain": [
       "1"
      ]
     },
     "execution_count": 28,
     "metadata": {},
     "output_type": "execute_result"
    }
   ],
   "source": [
    "from xml.parsers.expat import ParserCreate\n",
    "\n",
    "class DefaultSaxHandler(object):\n",
    "    \n",
    "    def start_element(self, name, attrs):\n",
    "        print('sax:start_element: %s, attrs: %s' % (name, str(attrs)))\n",
    "\n",
    "    def end_element(self, name):\n",
    "        print('sax:end_element: %s' % name)\n",
    "\n",
    "    def char_data(self, text):\n",
    "        print('sax:char_data: %s' % text)\n",
    "        \n",
    "xml = r'''<?xml version=\"1.0\"?>\n",
    "<ol>\n",
    "    <li><a href=\"/python\">Python</a></li>\n",
    "    <li><a href=\"/ruby\">Ruby</a></li>\n",
    "</ol>\n",
    "'''\n",
    "\n",
    "handler = DefaultSaxHandler()\n",
    "parser = ParserCreate()\n",
    "parser.StartElementHandler = handler.start_element\n",
    "parser.EndElementHandler = handler.end_element\n",
    "parser.CharacterDataHandler = handler.char_data\n",
    "parser.Parse(xml)"
   ]
  },
  {
   "cell_type": "code",
   "execution_count": 30,
   "id": "b8230440",
   "metadata": {},
   "outputs": [],
   "source": [
    "xml = '''<response>\n",
    "    <status>1</status>\n",
    "    <count>1</count>\n",
    "    <info>OK</info>\n",
    "    <infocode>10000</infocode>\n",
    "    <lives type=\"list\">\n",
    "        <live>\n",
    "            <province>北京</province>\n",
    "            <city>北京市</city>\n",
    "            <adcode>110000</adcode>\n",
    "            <weather>多云</weather>\n",
    "            <temperature>21</temperature>\n",
    "            <winddirection>东</winddirection>\n",
    "            <windpower>≤3</windpower>\n",
    "            <humidity>72</humidity>\n",
    "            <reporttime>2021-05-14 19:33:56</reporttime>\n",
    "        </live>\n",
    "    </lives>\n",
    "</response>\n",
    "'''"
   ]
  },
  {
   "cell_type": "code",
   "execution_count": 31,
   "id": "15cef675",
   "metadata": {
    "collapsed": true
   },
   "outputs": [
    {
     "name": "stdout",
     "output_type": "stream",
     "text": [
      "sax:start_element: response, attrs: {}\n",
      "sax:char_data: \n",
      "\n",
      "sax:char_data:     \n",
      "sax:start_element: status, attrs: {}\n",
      "sax:char_data: 1\n",
      "sax:end_element: status\n",
      "sax:char_data: \n",
      "\n",
      "sax:char_data:     \n",
      "sax:start_element: count, attrs: {}\n",
      "sax:char_data: 1\n",
      "sax:end_element: count\n",
      "sax:char_data: \n",
      "\n",
      "sax:char_data:     \n",
      "sax:start_element: info, attrs: {}\n",
      "sax:char_data: OK\n",
      "sax:end_element: info\n",
      "sax:char_data: \n",
      "\n",
      "sax:char_data:     \n",
      "sax:start_element: infocode, attrs: {}\n",
      "sax:char_data: 10000\n",
      "sax:end_element: infocode\n",
      "sax:char_data: \n",
      "\n",
      "sax:char_data:     \n",
      "sax:start_element: lives, attrs: {'type': 'list'}\n",
      "sax:char_data: \n",
      "\n",
      "sax:char_data:         \n",
      "sax:start_element: live, attrs: {}\n",
      "sax:char_data: \n",
      "\n",
      "sax:char_data:             \n",
      "sax:start_element: province, attrs: {}\n",
      "sax:char_data: 北京\n",
      "sax:end_element: province\n",
      "sax:char_data: \n",
      "\n",
      "sax:char_data:             \n",
      "sax:start_element: city, attrs: {}\n",
      "sax:char_data: 北京市\n",
      "sax:end_element: city\n",
      "sax:char_data: \n",
      "\n",
      "sax:char_data:             \n",
      "sax:start_element: adcode, attrs: {}\n",
      "sax:char_data: 110000\n",
      "sax:end_element: adcode\n",
      "sax:char_data: \n",
      "\n",
      "sax:char_data:             \n",
      "sax:start_element: weather, attrs: {}\n",
      "sax:char_data: 多云\n",
      "sax:end_element: weather\n",
      "sax:char_data: \n",
      "\n",
      "sax:char_data:             \n",
      "sax:start_element: temperature, attrs: {}\n",
      "sax:char_data: 21\n",
      "sax:end_element: temperature\n",
      "sax:char_data: \n",
      "\n",
      "sax:char_data:             \n",
      "sax:start_element: winddirection, attrs: {}\n",
      "sax:char_data: 东\n",
      "sax:end_element: winddirection\n",
      "sax:char_data: \n",
      "\n",
      "sax:char_data:             \n",
      "sax:start_element: windpower, attrs: {}\n",
      "sax:char_data: ≤3\n",
      "sax:end_element: windpower\n",
      "sax:char_data: \n",
      "\n",
      "sax:char_data:             \n",
      "sax:start_element: humidity, attrs: {}\n",
      "sax:char_data: 72\n",
      "sax:end_element: humidity\n",
      "sax:char_data: \n",
      "\n",
      "sax:char_data:             \n",
      "sax:start_element: reporttime, attrs: {}\n",
      "sax:char_data: 2021-05-14 19:33:56\n",
      "sax:end_element: reporttime\n",
      "sax:char_data: \n",
      "\n",
      "sax:char_data:         \n",
      "sax:end_element: live\n",
      "sax:char_data: \n",
      "\n",
      "sax:char_data:     \n",
      "sax:end_element: lives\n",
      "sax:char_data: \n",
      "\n",
      "sax:end_element: response\n"
     ]
    },
    {
     "data": {
      "text/plain": [
       "1"
      ]
     },
     "execution_count": 31,
     "metadata": {},
     "output_type": "execute_result"
    }
   ],
   "source": [
    "handler = DefaultSaxHandler()\n",
    "parser = ParserCreate()\n",
    "parser.StartElementHandler = handler.start_element\n",
    "parser.EndElementHandler = handler.end_element\n",
    "parser.CharacterDataHandler = handler.char_data\n",
    "parser.Parse(xml)"
   ]
  },
  {
   "cell_type": "code",
   "execution_count": null,
   "id": "c46d8e2f",
   "metadata": {},
   "outputs": [],
   "source": [
    "def parseXml(xml_str):\n",
    "    handlder = DefaultSaxHandler()\n",
    "    parse = ParserCreate()\n",
    "    parser.StartElementHandler = handler.start_element\n",
    "    parse.EndElementHandler = handler.end_element\n",
    "    \n",
    "    data = handler .data\n",
    "    \n",
    "    return {\n",
    "        'city': '?',\n",
    "        'forecast': [\n",
    "            {\n",
    "                'date': '2017-11-17',\n",
    "                'high': 43,\n",
    "                'low' : 26\n",
    "            },\n",
    "            {\n",
    "                'date': '2017-11-18',\n",
    "                'high': 41,\n",
    "                'low' : 20\n",
    "            },\n",
    "            {\n",
    "                'date': '2017-11-19',\n",
    "                'high': 43,\n",
    "                'low' : 19\n",
    "            }\n",
    "        ]\n",
    "    }\n"
   ]
  }
 ],
 "metadata": {
  "kernelspec": {
   "display_name": "Python 3 (ipykernel)",
   "language": "python",
   "name": "python3"
  },
  "language_info": {
   "codemirror_mode": {
    "name": "ipython",
    "version": 3
   },
   "file_extension": ".py",
   "mimetype": "text/x-python",
   "name": "python",
   "nbconvert_exporter": "python",
   "pygments_lexer": "ipython3",
   "version": "3.9.7"
  }
 },
 "nbformat": 4,
 "nbformat_minor": 5
}

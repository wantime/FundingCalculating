{
 "cells": [
  {
   "cell_type": "markdown",
   "id": "87160a98",
   "metadata": {},
   "source": [
    "try...except...finally"
   ]
  },
  {
   "cell_type": "code",
   "execution_count": 2,
   "id": "a39f7d4f",
   "metadata": {},
   "outputs": [
    {
     "name": "stdout",
     "output_type": "stream",
     "text": [
      "100 + 200 + 345 = 645\n",
      "99 + 88 + 7 = 194\n"
     ]
    }
   ],
   "source": [
    "from functools import reduce\n",
    "\n",
    "def str2num(s):\n",
    "    return int(s)\n",
    "\n",
    "def calc(exp):\n",
    "    ss = exp.split('+')\n",
    "    ns = map(str2num, ss)\n",
    "    return reduce(lambda acc, x: acc + x, ns)\n",
    "\n",
    "def main():\n",
    "    r = calc('100 + 200 + 345')\n",
    "    print('100 + 200 + 345 =', r)\n",
    "    r = calc('99 + 88 + 7')\n",
    "    print('99 + 88 + 7 =', r)\n",
    "\n",
    "main()"
   ]
  },
  {
   "cell_type": "markdown",
   "id": "a2d5439d",
   "metadata": {},
   "source": [
    "# 调试\n",
    "## assert方式\n",
    "## log方式\n",
    "## pbd方式"
   ]
  },
  {
   "cell_type": "markdown",
   "id": "26036995",
   "metadata": {},
   "source": [
    "# 单元测试"
   ]
  },
  {
   "cell_type": "code",
   "execution_count": 3,
   "id": "d19c84b9",
   "metadata": {},
   "outputs": [],
   "source": [
    "class Dict(dict):\n",
    "    \n",
    "    def __init__(self, **kw):\n",
    "        super().__init__(**kw)\n",
    "        \n",
    "    def __getattr__(self, key):\n",
    "        try:\n",
    "            return self[key]\n",
    "        except KeyError:\n",
    "            raise AttributeError(r\"'Dict' object has no attribute '%s'\" % key)\n",
    "            \n",
    "    def __setattr__(self, key, value):\n",
    "        self[key] = value"
   ]
  },
  {
   "cell_type": "code",
   "execution_count": 6,
   "id": "f0532134",
   "metadata": {},
   "outputs": [],
   "source": [
    "import unittest"
   ]
  },
  {
   "cell_type": "code",
   "execution_count": 7,
   "id": "a44e5170",
   "metadata": {},
   "outputs": [],
   "source": [
    "class TestDict(unittest.TestCase):\n",
    "    \n",
    "    def test_init(self):\n",
    "        d = Dict(a=1, b='test')\n",
    "        self.assertEqual(d.a, 1)\n",
    "        self.assertEqual(d.b, 'test')\n",
    "        self.assertTrue(isinstance(d, dict))\n",
    "    \n",
    "    def test_key(self):\n",
    "        d = Dict()\n",
    "        d['key'] = 'value'\n",
    "        self.assertEqual(d.key, 'value')\n",
    "        \n",
    "    def test_attr(self):\n",
    "        d = Dict()\n",
    "        d.key = 'value'\n",
    "        self.assertTrue('key' in d)\n",
    "        self.assertEuqal(d['key'], 'value')\n",
    "        \n",
    "    def test_keyerror(self):\n",
    "        d = Dict()\n",
    "        with self.assertRaises(KeyError):\n",
    "            value = d.empty"
   ]
  },
  {
   "cell_type": "code",
   "execution_count": 10,
   "id": "0a3a3052",
   "metadata": {},
   "outputs": [
    {
     "name": "stderr",
     "output_type": "stream",
     "text": [
      "E\n",
      "======================================================================\n",
      "ERROR: C:\\Users\\lenovo\\AppData\\Roaming\\jupyter\\runtime\\kernel-52c2f599-8fe3-4294-be81-e0f1270f1d50 (unittest.loader._FailedTest)\n",
      "----------------------------------------------------------------------\n",
      "AttributeError: module '__main__' has no attribute 'C:\\Users\\lenovo\\AppData\\Roaming\\jupyter\\runtime\\kernel-52c2f599-8fe3-4294-be81-e0f1270f1d50'\n",
      "\n",
      "----------------------------------------------------------------------\n",
      "Ran 1 test in 0.002s\n",
      "\n",
      "FAILED (errors=1)\n"
     ]
    },
    {
     "ename": "SystemExit",
     "evalue": "True",
     "output_type": "error",
     "traceback": [
      "An exception has occurred, use %tb to see the full traceback.\n",
      "\u001b[1;31mSystemExit\u001b[0m\u001b[1;31m:\u001b[0m True\n"
     ]
    },
    {
     "name": "stderr",
     "output_type": "stream",
     "text": [
      "C:\\Users\\lenovo\\anaconda3\\lib\\site-packages\\IPython\\core\\interactiveshell.py:3452: UserWarning: To exit: use 'exit', 'quit', or Ctrl-D.\n",
      "  warn(\"To exit: use 'exit', 'quit', or Ctrl-D.\", stacklevel=1)\n"
     ]
    }
   ],
   "source": [
    "unittest.main()"
   ]
  },
  {
   "cell_type": "markdown",
   "id": "ee36c960",
   "metadata": {},
   "source": [
    "## setUp()方法与tearDown()方法"
   ]
  },
  {
   "cell_type": "code",
   "execution_count": 9,
   "id": "2bcfa28d",
   "metadata": {},
   "outputs": [],
   "source": [
    "class TestDict(unittest.TestCase):\n",
    "\n",
    "    def setUp(self):\n",
    "        print('setUp...')\n",
    "\n",
    "    def tearDown(self):\n",
    "        print('tearDown...')"
   ]
  },
  {
   "cell_type": "code",
   "execution_count": null,
   "id": "b39e2851",
   "metadata": {},
   "outputs": [],
   "source": []
  }
 ],
 "metadata": {
  "kernelspec": {
   "display_name": "Python 3 (ipykernel)",
   "language": "python",
   "name": "python3"
  },
  "language_info": {
   "codemirror_mode": {
    "name": "ipython",
    "version": 3
   },
   "file_extension": ".py",
   "mimetype": "text/x-python",
   "name": "python",
   "nbconvert_exporter": "python",
   "pygments_lexer": "ipython3",
   "version": "3.9.7"
  }
 },
 "nbformat": 4,
 "nbformat_minor": 5
}

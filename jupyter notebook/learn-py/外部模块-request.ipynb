{
 "cells": [
  {
   "cell_type": "code",
   "execution_count": 1,
   "id": "062fb348",
   "metadata": {},
   "outputs": [],
   "source": [
    "import requests\n",
    "r = requests.get('https://www.douban.com/') #豆瓣首页"
   ]
  },
  {
   "cell_type": "code",
   "execution_count": 2,
   "id": "c0fd5030",
   "metadata": {},
   "outputs": [
    {
     "data": {
      "text/plain": [
       "<Response [418]>"
      ]
     },
     "execution_count": 2,
     "metadata": {},
     "output_type": "execute_result"
    }
   ],
   "source": [
    "r"
   ]
  },
  {
   "cell_type": "code",
   "execution_count": 3,
   "id": "bb135668",
   "metadata": {},
   "outputs": [
    {
     "data": {
      "text/plain": [
       "418"
      ]
     },
     "execution_count": 3,
     "metadata": {},
     "output_type": "execute_result"
    }
   ],
   "source": [
    "r.status_code"
   ]
  },
  {
   "cell_type": "code",
   "execution_count": 4,
   "id": "1ee1718e",
   "metadata": {},
   "outputs": [
    {
     "data": {
      "text/plain": [
       "'https://www.douban.com/search?q=python&cat=1001'"
      ]
     },
     "execution_count": 4,
     "metadata": {},
     "output_type": "execute_result"
    }
   ],
   "source": [
    "r = requests.get('https://www.douban.com/search', params={'q':'python','cat':'1001'})\n",
    "r.url"
   ]
  },
  {
   "cell_type": "code",
   "execution_count": 6,
   "id": "216ab59e",
   "metadata": {},
   "outputs": [
    {
     "name": "stdout",
     "output_type": "stream",
     "text": [
      "None\n"
     ]
    }
   ],
   "source": [
    "print(r.encoding)"
   ]
  },
  {
   "cell_type": "code",
   "execution_count": 7,
   "id": "87471485",
   "metadata": {},
   "outputs": [
    {
     "data": {
      "text/plain": [
       "b''"
      ]
     },
     "execution_count": 7,
     "metadata": {},
     "output_type": "execute_result"
    }
   ],
   "source": [
    "r.content"
   ]
  },
  {
   "cell_type": "code",
   "execution_count": 9,
   "id": "fd196748",
   "metadata": {},
   "outputs": [],
   "source": [
    "r = requests.get('https://www.douban.com/', headers={'User-Agent': 'Mozilla/5.0 (iPhone; CPU iPhone OS 11_0 like Mac OS X) AppleWebKit'})"
   ]
  },
  {
   "cell_type": "code",
   "execution_count": 10,
   "id": "e1cbe166",
   "metadata": {
    "collapsed": true
   },
   "outputs": [
    {
     "data": {
      "text/plain": [
       "'\\n\\n<!DOCTYPE html>\\n<html itemscope itemtype=\"http://schema.org/WebPage\" class=\"ua-mobile \">\\n  <head>\\n      <meta charset=\"UTF-8\">\\n      <title>豆瓣(手机版)</title>\\n      <meta name=\"google-site-verification\" content=\"ok0wCgT20tBBgo9_zat2iAcimtN4Ftf5ccsh092Xeyw\" />\\n      <meta name=\"viewport\" content=\"width=device-width, height=device-height, user-scalable=no, initial-scale=1.0, minimum-scale=1.0, maximum-scale=1.0\">\\n      <meta name=\"format-detection\" content=\"telephone=no\">\\n      <meta name=\"description\" content=\"读书、看电影、涨知识、学穿搭...，加入兴趣小组，获得达人们的高质量生活经验，找到有相同爱好的小伙伴。\">\\n      <meta name=\"keywords\" content=\"豆瓣,手机豆瓣,豆瓣手机版,豆瓣电影,豆瓣读书,豆瓣同城\">\\n      <link rel=\"canonical\" href=\"\\nhttps://m.douban.com/\">\\n      <link href=\"https://img3.doubanio.com/f/talion/4eddaaed2bec5a0baa663274d47d136c54a2c03c/css/card/base.css\" rel=\"stylesheet\">\\n      \\n<script>\\n  var saveKey = \\'_t_splash\\'\\n  var day = 3\\n  if (Date.now() - window.localStorage.getItem(saveKey) < 1000 * 60 * 60 * 24 * day) {\\n    window.location.replace(\\'/home_guide\\')\\n  } else {\\n    window.addEventListener(\\'click\\', function(e) {\\n      if (e.target.id === \\'home_guide\\') {\\n        window.localStorage.setItem(saveKey, Date.now())\\n      }\\n    })\\n  }\\n</script>\\n\\n      <link rel=\"stylesheet\" href=\"https://img3.doubanio.com/misc/mixed_static/4f3062503e5a7c84.css\">\\n      <link rel=\"shortcut  icon\" href=\"https://img3.doubanio.com/f/talion/2f3c0bc0f35b031d4535fd993ae3936f4e40e6c8/pics/icon/dou32.png\" type=\"image/x-icon\" />\\n      <link rel=\"icon\" type=\"image/png\" sizes=\"16x16\" href=\"https://img3.doubanio.com/f/talion/c970bb0d720963a7392f7dd6c77068bb9925caaf/pics/icon/dou16.png\">\\n      <link rel=\"icon\" type=\"image/png\" sizes=\"32x32\" href=\"https://img3.doubanio.com/f/talion/2f3c0bc0f35b031d4535fd993ae3936f4e40e6c8/pics/icon/dou32.png\">\\n      <link rel=\"icon\" type=\"image/png\" sizes=\"48x48\" href=\"https://img3.doubanio.com/f/talion/10a4a913a5715f628e4b598f7f9f2c18621bdcb3/pics/icon/dou48.png\">\\n      <!-- iOS touch icon -->\\n      <link rel=\"apple-touch-icon-precomposed\" href=\"https://img3.doubanio.com/f/talion/997f2018d82979da970030a5eb84c77f0123ae5f/pics/icon/m_logo_76.png\">\\n      <link rel=\"apple-touch-icon-precomposed\" sizes=\"76x76\" href=\"https://img3.doubanio.com/f/talion/997f2018d82979da970030a5eb84c77f0123ae5f/pics/icon/m_logo_76.png\">\\n      <link rel=\"apple-touch-icon-precomposed\" sizes=\"120x120\" href=\"https://img3.doubanio.com/f/talion/18932a3e71a60ed7150ca2ca7ebf21ddadd7092e/pics/icon/m_logo_120.png\">\\n      <link rel=\"apple-touch-icon-precomposed\" sizes=\"152x152\" href=\"https://img3.doubanio.com/f/talion/b99497ff8538c54b9ba6f40867da932396ab2562/pics/icon/m_logo_152.png\">\\n      <link rel=\"apple-touch-icon-precomposed\" sizes=\"167x167\" href=\"https://img3.doubanio.com/f/talion/0c233ada957a95e632f81607e30230d16e8293e8/pics/icon/m_logo_167.png\">\\n      <link rel=\"apple-touch-icon-precomposed\" sizes=\"180x180\" href=\"https://img3.doubanio.com/f/talion/8e7b9cbd097c02972c4191aa03fdb084524505c4/pics/icon/m_logo_180.png\">\\n      <link rel=\"apple-touch-icon-precomposed\" sizes=\"200x200\" href=\"https://img3.doubanio.com/f/talion/7c6364aadf368dc0210173c940cfd0f64ceddc66/pics/icon/m_logo_200.png\">\\n      <!-- For Android -->\\n      <link rel=\"icon\" sizes=\"128x128\" href=\"https://img3.doubanio.com/f/talion/b99497ff8538c54b9ba6f40867da932396ab2562/pics/icon/m_logo_152.png\">\\n      <link rel=\"icon\" sizes=\"192x192\" href=\"https://img3.doubanio.com/f/talion/7c6364aadf368dc0210173c940cfd0f64ceddc66/pics/icon/m_logo_200.png\">\\n      <!-- For Web App Manifest -->\\n      <link type=\"application/opensearchdescription+xml\" rel=\"search\" href=\"/opensearch\"/>\\n          <!-- hm baidu -->\\n          <script type=\"text/javascript\">\\n          var _hmt = _hmt || [];\\n          (function() {\\n            var hm = document.createElement(\"script\");\\n            hm.src = \"https://hm.baidu.com/hm.js?6d4a8cfea88fa457c3127e14fb5fabc2\";\\n            var s = document.getElementsByTagName(\"script\")[0];\\n            s.parentNode.insertBefore(hm, s);\\n          })();\\n          _hmt.logTruncate = function(type) {\\n              _hmt.push([\\'_trackEvent\\', \\'article\\', \\'truncate\\', type, 1]);\\n          }\\n          </script>\\n  </head>\\n  <body ontouchstart=\"\">\\n    \\n    <div class=\"page\">\\n        \\n  \\n  \\n  <div class=\"splash\">\\n    <div class=\"splash-content\">\\n      <div class=\"splash-pic\">\\n        <img src=\"https://img3.doubanio.com/f/talion/706ae8511b66f390ae0427daf85df7ddd93ab1b9/pics/card/splash/splash_bg.jpg\" />\\n      </div>\\n    </div>\\n    <div class=\"splash-bottom\">\\n      <div class=\"splash-text\">\\n        <p class=\"splash-text-main\">来豆瓣，记录你的书影音生活</p>\\n        <!-- <p>更多书影音讨论在豆瓣App</p> -->\\n      </div>\\n      <a class=\"splash-btn\" href=\"https://m.douban.com/to_app?copy_open=1&url=/recommend_feed&source=splash\">下载App</a>\\n      <a class=\"splash-link\" id=\"home_guide\" href=\"/home_guide\">进入网页版 &gt;</a>\\n    </div>\\n  </div>\\n\\n    </div>\\n    <script src=\"https://img3.doubanio.com/f/talion/ee8e0c54293aefb5709ececbdf082f8091ad5e49/js/card/zepto.min.js\"></script>\\n    \\n  </body>\\n</html>\\n\\n\\n\\n\\n\\n\\n\\n'"
      ]
     },
     "execution_count": 10,
     "metadata": {},
     "output_type": "execute_result"
    }
   ],
   "source": [
    "r.text"
   ]
  },
  {
   "cell_type": "code",
   "execution_count": 11,
   "id": "3f3bb9e1",
   "metadata": {},
   "outputs": [],
   "source": [
    "r = requests.post('https://accounts.douban.com/login', data={'form_email': 'abc@example.com', 'form_password': '123456'})"
   ]
  },
  {
   "cell_type": "code",
   "execution_count": 12,
   "id": "38105707",
   "metadata": {},
   "outputs": [
    {
     "data": {
      "text/plain": [
       "''"
      ]
     },
     "execution_count": 12,
     "metadata": {},
     "output_type": "execute_result"
    }
   ],
   "source": [
    "r.text"
   ]
  },
  {
   "cell_type": "code",
   "execution_count": null,
   "id": "bc400952",
   "metadata": {},
   "outputs": [],
   "source": []
  }
 ],
 "metadata": {
  "kernelspec": {
   "display_name": "Python 3 (ipykernel)",
   "language": "python",
   "name": "python3"
  },
  "language_info": {
   "codemirror_mode": {
    "name": "ipython",
    "version": 3
   },
   "file_extension": ".py",
   "mimetype": "text/x-python",
   "name": "python",
   "nbconvert_exporter": "python",
   "pygments_lexer": "ipython3",
   "version": "3.9.7"
  }
 },
 "nbformat": 4,
 "nbformat_minor": 5
}

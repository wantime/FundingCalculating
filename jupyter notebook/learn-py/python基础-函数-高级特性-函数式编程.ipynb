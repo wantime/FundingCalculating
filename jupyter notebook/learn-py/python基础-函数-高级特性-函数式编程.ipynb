{
 "cells": [
  {
   "cell_type": "code",
   "execution_count": 1,
   "id": "e6b2e279",
   "metadata": {},
   "outputs": [],
   "source": [
    "n1 = 255\n",
    "n2 = 1000"
   ]
  },
  {
   "cell_type": "code",
   "execution_count": 2,
   "id": "ac202a91",
   "metadata": {},
   "outputs": [
    {
     "name": "stdout",
     "output_type": "stream",
     "text": [
      "0xff\n",
      "0x3e8\n"
     ]
    }
   ],
   "source": [
    "n1 = str(hex(n1))\n",
    "print(n1)\n",
    "\n",
    "n2 = str(hex(n2))\n",
    "print(n2)\n"
   ]
  },
  {
   "cell_type": "markdown",
   "id": "82fab98c",
   "metadata": {},
   "source": [
    "## 解一元二次方程"
   ]
  },
  {
   "cell_type": "code",
   "execution_count": 11,
   "id": "dc7c3949",
   "metadata": {},
   "outputs": [],
   "source": [
    "import math"
   ]
  },
  {
   "cell_type": "code",
   "execution_count": 13,
   "id": "874bfac2",
   "metadata": {},
   "outputs": [],
   "source": [
    "def quadratic(a, b, c):\n",
    "    if a != 0:\n",
    "        return (-b+math.sqrt((b**2)-(4*a*c)))/(2*a),(-b-math.sqrt((b**2)-(4*a*c)))/(2*a)\n",
    "    else:\n",
    "        return -c/b"
   ]
  },
  {
   "cell_type": "code",
   "execution_count": 20,
   "id": "407326ab",
   "metadata": {},
   "outputs": [],
   "source": [
    "answer = quadratic(1, 3, -4)"
   ]
  },
  {
   "cell_type": "code",
   "execution_count": 21,
   "id": "620bf1bc",
   "metadata": {},
   "outputs": [
    {
     "name": "stdout",
     "output_type": "stream",
     "text": [
      "(1.0, -4.0)\n"
     ]
    }
   ],
   "source": [
    "print(answer)"
   ]
  },
  {
   "cell_type": "code",
   "execution_count": 28,
   "id": "70fdfe40",
   "metadata": {},
   "outputs": [],
   "source": [
    "def add_end(L=None):\n",
    "    if L == None:\n",
    "        L = []\n",
    "    L.append('END')\n",
    "    return L"
   ]
  },
  {
   "cell_type": "markdown",
   "id": "e1b3ed3e",
   "metadata": {},
   "source": [
    "## 可变参数与关键字参数\n",
    "*args  *kw"
   ]
  },
  {
   "cell_type": "code",
   "execution_count": 43,
   "id": "90bbe8ac",
   "metadata": {},
   "outputs": [],
   "source": [
    "def mul(*args):\n",
    "    res = 1\n",
    "    for num in args:\n",
    "        res = res * num\n",
    "    return res"
   ]
  },
  {
   "cell_type": "code",
   "execution_count": 44,
   "id": "6c9a278a",
   "metadata": {},
   "outputs": [
    {
     "data": {
      "text/plain": [
       "5"
      ]
     },
     "execution_count": 44,
     "metadata": {},
     "output_type": "execute_result"
    }
   ],
   "source": [
    "mul(5)"
   ]
  },
  {
   "cell_type": "code",
   "execution_count": 45,
   "id": "b3ad197d",
   "metadata": {},
   "outputs": [
    {
     "data": {
      "text/plain": [
       "30"
      ]
     },
     "execution_count": 45,
     "metadata": {},
     "output_type": "execute_result"
    }
   ],
   "source": [
    "mul(5,6)"
   ]
  },
  {
   "cell_type": "code",
   "execution_count": 46,
   "id": "dc5c0dfa",
   "metadata": {},
   "outputs": [
    {
     "data": {
      "text/plain": [
       "210"
      ]
     },
     "execution_count": 46,
     "metadata": {},
     "output_type": "execute_result"
    }
   ],
   "source": [
    "mul(5,6,7)"
   ]
  },
  {
   "cell_type": "code",
   "execution_count": 47,
   "id": "72cec37f",
   "metadata": {},
   "outputs": [
    {
     "data": {
      "text/plain": [
       "1890"
      ]
     },
     "execution_count": 47,
     "metadata": {},
     "output_type": "execute_result"
    }
   ],
   "source": [
    "mul(5,6,7,9)"
   ]
  },
  {
   "cell_type": "code",
   "execution_count": 49,
   "id": "4045217a",
   "metadata": {},
   "outputs": [],
   "source": [
    "def fact(n):\n",
    "    if n == 1:\n",
    "        return 1\n",
    "    return n * fact(n-1)"
   ]
  },
  {
   "cell_type": "code",
   "execution_count": 50,
   "id": "b66793cb",
   "metadata": {},
   "outputs": [
    {
     "data": {
      "text/plain": [
       "3628800"
      ]
     },
     "execution_count": 50,
     "metadata": {},
     "output_type": "execute_result"
    }
   ],
   "source": [
    "fact(10)"
   ]
  },
  {
   "cell_type": "markdown",
   "id": "ed9a24e1",
   "metadata": {},
   "source": [
    "## 索引、切片"
   ]
  },
  {
   "cell_type": "code",
   "execution_count": 2,
   "id": "8187bc35",
   "metadata": {},
   "outputs": [
    {
     "data": {
      "text/plain": [
       "['Jack', 'M', 'K']"
      ]
     },
     "execution_count": 2,
     "metadata": {},
     "output_type": "execute_result"
    }
   ],
   "source": [
    "L = ['Jack', 'M', 'K']\n",
    "L1 = L[:3]\n",
    "L1"
   ]
  },
  {
   "cell_type": "code",
   "execution_count": 3,
   "id": "f24089ac",
   "metadata": {},
   "outputs": [
    {
     "data": {
      "text/plain": [
       "['M', 'K']"
      ]
     },
     "execution_count": 3,
     "metadata": {},
     "output_type": "execute_result"
    }
   ],
   "source": [
    "# 倒数切片\n",
    "L2 = L[-2:]\n",
    "L2"
   ]
  },
  {
   "cell_type": "markdown",
   "id": "b160d0d1",
   "metadata": {},
   "source": [
    "## 去除字符串前后可能存在的空格"
   ]
  },
  {
   "cell_type": "code",
   "execution_count": 21,
   "id": "4ad6810d",
   "metadata": {},
   "outputs": [],
   "source": [
    "def trim(string):\n",
    "    if(string == ''):\n",
    "        return ''\n",
    "    if(string[0] == ' '):\n",
    "        return trim(string[1:])\n",
    "    elif(string[-1] == ' '):\n",
    "        return trim(string[:-2])\n",
    "    else:\n",
    "        return string"
   ]
  },
  {
   "cell_type": "code",
   "execution_count": 23,
   "id": "1aeeac22",
   "metadata": {},
   "outputs": [
    {
     "name": "stdout",
     "output_type": "stream",
     "text": [
      "测试成功!\n"
     ]
    }
   ],
   "source": [
    "if trim('hello  ') != 'hello':\n",
    "    print('测试失败!')\n",
    "elif trim('  hello') != 'hello':\n",
    "    print('测试失败!')\n",
    "elif trim('  hello  ') != 'hello':\n",
    "    print('测试失败!')\n",
    "elif trim('  hello  world  ') != 'hello  world':\n",
    "    print('测试失败!')\n",
    "elif trim('') != '':\n",
    "    print('测试失败!')\n",
    "elif trim('    ') != '':\n",
    "    print('测试失败!')\n",
    "else:\n",
    "    print('测试成功!')"
   ]
  },
  {
   "cell_type": "markdown",
   "id": "e633c208",
   "metadata": {},
   "source": [
    "# 列表生成式"
   ]
  },
  {
   "cell_type": "code",
   "execution_count": 2,
   "id": "bfea92e9",
   "metadata": {},
   "outputs": [
    {
     "data": {
      "text/plain": [
       "[1, 4, 9, 16, 25, 36, 49, 64, 81, 100]"
      ]
     },
     "execution_count": 2,
     "metadata": {},
     "output_type": "execute_result"
    }
   ],
   "source": [
    "mylist = [x * x for x in range(1,11)]\n",
    "mylist"
   ]
  },
  {
   "cell_type": "code",
   "execution_count": 3,
   "id": "09cab3ed",
   "metadata": {},
   "outputs": [
    {
     "data": {
      "text/plain": [
       "[4, 16, 36, 64, 100]"
      ]
     },
     "execution_count": 3,
     "metadata": {},
     "output_type": "execute_result"
    }
   ],
   "source": [
    "mylist = [x * x for x in range(1,11) if x % 2 == 0]\n",
    "mylist"
   ]
  },
  {
   "cell_type": "code",
   "execution_count": 9,
   "id": "ee1cfa97",
   "metadata": {
    "collapsed": true
   },
   "outputs": [
    {
     "data": {
      "text/plain": [
       "['20100',\n",
       " '20101',\n",
       " '20100',\n",
       " '20100',\n",
       " '20101',\n",
       " '20100',\n",
       " '20101',\n",
       " '20101',\n",
       " '20110',\n",
       " '20111',\n",
       " '20110',\n",
       " '20110',\n",
       " '20111',\n",
       " '20110',\n",
       " '20111',\n",
       " '20111',\n",
       " '20120',\n",
       " '20121',\n",
       " '20120',\n",
       " '20120',\n",
       " '20121',\n",
       " '20120',\n",
       " '20121',\n",
       " '20121',\n",
       " '20130',\n",
       " '20131',\n",
       " '20130',\n",
       " '20130',\n",
       " '20131',\n",
       " '20130',\n",
       " '20131',\n",
       " '20131',\n",
       " '20140',\n",
       " '20141',\n",
       " '20140',\n",
       " '20140',\n",
       " '20141',\n",
       " '20140',\n",
       " '20141',\n",
       " '20141',\n",
       " '20150',\n",
       " '20151',\n",
       " '20150',\n",
       " '20150',\n",
       " '20151',\n",
       " '20150',\n",
       " '20151',\n",
       " '20151',\n",
       " '20160',\n",
       " '20161',\n",
       " '20160',\n",
       " '20160',\n",
       " '20161',\n",
       " '20160',\n",
       " '20161',\n",
       " '20161',\n",
       " '20170',\n",
       " '20171',\n",
       " '20170',\n",
       " '20170',\n",
       " '20171',\n",
       " '20170',\n",
       " '20171',\n",
       " '20171']"
      ]
     },
     "execution_count": 9,
     "metadata": {},
     "output_type": "execute_result"
    }
   ],
   "source": [
    "exchange = [0,1,0,0,1,0,1,1]\n",
    "date = ['2010','2011','2012','2013','2014','2015','2016','2017']\n",
    "buy = [i+str(j) for i in date for j in exchange ]\n",
    "buy"
   ]
  },
  {
   "cell_type": "code",
   "execution_count": 11,
   "id": "ad48327a",
   "metadata": {},
   "outputs": [
    {
     "data": {
      "text/plain": [
       "['hello', 'world', 'apple']"
      ]
     },
     "execution_count": 11,
     "metadata": {},
     "output_type": "execute_result"
    }
   ],
   "source": [
    "L1 = ['Hello', 'World', 18, 'Apple', None]\n",
    "L2 = [s.lower() for s in L1 if isinstance(s, str)]"
   ]
  },
  {
   "cell_type": "code",
   "execution_count": 12,
   "id": "bfa5c891",
   "metadata": {},
   "outputs": [
    {
     "name": "stdout",
     "output_type": "stream",
     "text": [
      "['hello', 'world', 'apple']\n",
      "测试通过!\n"
     ]
    }
   ],
   "source": [
    "print(L2)\n",
    "if L2 == ['hello', 'world', 'apple']:\n",
    "    print('测试通过!')\n",
    "else:\n",
    "    print('测试失败!')"
   ]
  },
  {
   "cell_type": "markdown",
   "id": "50d220de",
   "metadata": {},
   "source": [
    "# generator 生成器 \n",
    ".next()\n",
    "for 遍历"
   ]
  },
  {
   "cell_type": "code",
   "execution_count": 3,
   "id": "db8aeccc",
   "metadata": {},
   "outputs": [],
   "source": [
    "def triangles():\n",
    "    L = [1]\n",
    "    yield L\n",
    "    while True:\n",
    "        L = [1 if i == 0 else L[i-1]+L[i] for i in range(len(L))]\n",
    "        L.append(1)\n",
    "        yield L"
   ]
  },
  {
   "cell_type": "code",
   "execution_count": 5,
   "id": "90e7d7c5",
   "metadata": {},
   "outputs": [],
   "source": [
    "def generate(numRows):\n",
    "    row = 0\n",
    "    L = [1]\n",
    "    res = []\n",
    "    res.append(L)\n",
    "    while row < numRows:\n",
    "        L = [1 if i == 0 else L[i-1] + L[i] for i in range(len(L))]\n",
    "        L.append(1)\n",
    "        res.append(L)\n",
    "        row += 1\n",
    "    return res"
   ]
  },
  {
   "cell_type": "code",
   "execution_count": 6,
   "id": "ec628cba",
   "metadata": {},
   "outputs": [
    {
     "data": {
      "text/plain": [
       "[[1], [1, 1], [1, 2, 1], [1, 3, 3, 1], [1, 4, 6, 4, 1], [1, 5, 10, 10, 5, 1]]"
      ]
     },
     "execution_count": 6,
     "metadata": {},
     "output_type": "execute_result"
    }
   ],
   "source": [
    "x = generate(5)\n",
    "x"
   ]
  },
  {
   "cell_type": "code",
   "execution_count": 63,
   "id": "0542f3a3",
   "metadata": {
    "scrolled": true
   },
   "outputs": [
    {
     "name": "stdout",
     "output_type": "stream",
     "text": [
      "[1]\n",
      "[1, 1]\n",
      "[1, 2, 1]\n",
      "[1, 3, 3, 1]\n",
      "[1, 4, 6, 4, 1]\n",
      "[1, 5, 10, 10, 5, 1]\n"
     ]
    }
   ],
   "source": [
    "g = triangles()\n",
    "n = 0\n",
    "for i in g:\n",
    "    if n > 5:\n",
    "        break\n",
    "    n += 1\n",
    "    print(i)"
   ]
  },
  {
   "cell_type": "code",
   "execution_count": 4,
   "id": "7288530e",
   "metadata": {},
   "outputs": [
    {
     "name": "stdout",
     "output_type": "stream",
     "text": [
      "[1]\n",
      "[1, 1]\n",
      "[1, 2, 1]\n",
      "[1, 3, 3, 1]\n",
      "[1, 4, 6, 4, 1]\n",
      "[1, 5, 10, 10, 5, 1]\n",
      "[1, 6, 15, 20, 15, 6, 1]\n",
      "[1, 7, 21, 35, 35, 21, 7, 1]\n",
      "[1, 8, 28, 56, 70, 56, 28, 8, 1]\n",
      "[1, 9, 36, 84, 126, 126, 84, 36, 9, 1]\n",
      "测试通过!\n"
     ]
    }
   ],
   "source": [
    "n = 0\n",
    "results = []\n",
    "for t in triangles():\n",
    "    results.append(t)\n",
    "    n = n + 1\n",
    "    if n == 10:\n",
    "        break\n",
    "\n",
    "for t in results:\n",
    "    print(t)\n",
    "\n",
    "if results == [\n",
    "    [1],\n",
    "    [1, 1],\n",
    "    [1, 2, 1],\n",
    "    [1, 3, 3, 1],\n",
    "    [1, 4, 6, 4, 1],\n",
    "    [1, 5, 10, 10, 5, 1],\n",
    "    [1, 6, 15, 20, 15, 6, 1],\n",
    "    [1, 7, 21, 35, 35, 21, 7, 1],\n",
    "    [1, 8, 28, 56, 70, 56, 28, 8, 1],\n",
    "    [1, 9, 36, 84, 126, 126, 84, 36, 9, 1]\n",
    "]:\n",
    "    print('测试通过!')\n",
    "else:\n",
    "    print('测试失败!')"
   ]
  },
  {
   "cell_type": "markdown",
   "id": "62122ef4",
   "metadata": {},
   "source": [
    "## 函数式编程"
   ]
  },
  {
   "cell_type": "code",
   "execution_count": 1,
   "id": "229328d3",
   "metadata": {},
   "outputs": [],
   "source": [
    "def add(x, y, f):\n",
    "    return f(x) + f(y)"
   ]
  },
  {
   "cell_type": "code",
   "execution_count": 2,
   "id": "fcf5d516",
   "metadata": {},
   "outputs": [
    {
     "data": {
      "text/plain": [
       "20"
      ]
     },
     "execution_count": 2,
     "metadata": {},
     "output_type": "execute_result"
    }
   ],
   "source": [
    "add(10, -10, abs)"
   ]
  },
  {
   "cell_type": "markdown",
   "id": "45938603",
   "metadata": {},
   "source": [
    "## map reduce"
   ]
  },
  {
   "cell_type": "code",
   "execution_count": 3,
   "id": "2a55a230",
   "metadata": {},
   "outputs": [],
   "source": [
    "def normalize(name):\n",
    "    if name == '':\n",
    "        return\n",
    "    name = name.lower()\n",
    "    Cap = name[0].upper()\n",
    "    return Cap + name[1:]"
   ]
  },
  {
   "cell_type": "code",
   "execution_count": 4,
   "id": "821206b3",
   "metadata": {},
   "outputs": [
    {
     "name": "stdout",
     "output_type": "stream",
     "text": [
      "['Adam', 'Lisa', 'Bart']\n"
     ]
    }
   ],
   "source": [
    "# 测试:\n",
    "L1 = ['adam', 'LISA', 'barT']\n",
    "L2 = list(map(normalize, L1))\n",
    "print(L2)"
   ]
  },
  {
   "cell_type": "code",
   "execution_count": 7,
   "id": "a021d486",
   "metadata": {},
   "outputs": [],
   "source": [
    "from functools import reduce"
   ]
  },
  {
   "cell_type": "code",
   "execution_count": 8,
   "id": "79031ccc",
   "metadata": {},
   "outputs": [],
   "source": [
    "def prod(L):\n",
    "    def mul(x, y):\n",
    "        return x * y\n",
    "    return reduce(mul, L)"
   ]
  },
  {
   "cell_type": "code",
   "execution_count": 9,
   "id": "8811951d",
   "metadata": {},
   "outputs": [
    {
     "name": "stdout",
     "output_type": "stream",
     "text": [
      "3 * 5 * 7 * 9 = 945\n",
      "测试成功!\n"
     ]
    }
   ],
   "source": [
    "print('3 * 5 * 7 * 9 =', prod([3, 5, 7, 9]))\n",
    "if prod([3, 5, 7, 9]) == 945:\n",
    "    print('测试成功!')\n",
    "else:\n",
    "    print('测试失败!')"
   ]
  },
  {
   "cell_type": "code",
   "execution_count": 10,
   "id": "889f9e4a",
   "metadata": {},
   "outputs": [],
   "source": [
    "def char2num(s):\n",
    "    return int(s)"
   ]
  },
  {
   "cell_type": "code",
   "execution_count": 30,
   "id": "cbe1e28f",
   "metadata": {},
   "outputs": [],
   "source": [
    "def str2float(s):\n",
    "    index = s.index('.')\n",
    "    # s 分成两部分, 第一部分变换整数，*10 返回\n",
    "    x1 = reduce(add1, map(char2num, s[:index]))\n",
    "    x2 = reduce(add1, map(char2num, s[index+1:]))\n",
    "    n = len(s) - index - 1\n",
    "    x2 = x2 * 10** -n\n",
    "    return x1 + x2\n",
    "    \n",
    "def add1(x, y):\n",
    "    return x * 10 + y\n",
    "def char2num(s):\n",
    "    return int(s)"
   ]
  },
  {
   "cell_type": "code",
   "execution_count": 32,
   "id": "9135af32",
   "metadata": {},
   "outputs": [
    {
     "name": "stdout",
     "output_type": "stream",
     "text": [
      "str2float('123.456') = 123.456\n",
      "测试成功!\n"
     ]
    }
   ],
   "source": [
    "print('str2float(\\'123.456\\') =', str2float('123.456'))\n",
    "if abs(str2float('123.456') - 123.456) < 0.00001:\n",
    "    print('测试成功!')\n",
    "else:\n",
    "    print('测试失败!')"
   ]
  },
  {
   "cell_type": "markdown",
   "id": "1396e99a",
   "metadata": {},
   "source": [
    "## 高级函数2 filter"
   ]
  },
  {
   "cell_type": "code",
   "execution_count": 1,
   "id": "eb2d4284",
   "metadata": {},
   "outputs": [
    {
     "data": {
      "text/plain": [
       "[1, 3, 5, 7]"
      ]
     },
     "execution_count": 1,
     "metadata": {},
     "output_type": "execute_result"
    }
   ],
   "source": [
    "def is_odd(n):\n",
    "    return n % 2 == 1\n",
    "list(filter(is_odd, [1,2,3,4,5,6,7]))"
   ]
  },
  {
   "cell_type": "code",
   "execution_count": 2,
   "id": "d4ebaa39",
   "metadata": {},
   "outputs": [],
   "source": [
    "def _odd_iter():\n",
    "    n = 1\n",
    "    while True:\n",
    "        n = n + 2\n",
    "        yield n"
   ]
  },
  {
   "cell_type": "code",
   "execution_count": 3,
   "id": "640c0653",
   "metadata": {},
   "outputs": [],
   "source": [
    "def _not_divisible(n):\n",
    "    return lambda x:x % n > 0"
   ]
  },
  {
   "cell_type": "code",
   "execution_count": 8,
   "id": "1a67b98f",
   "metadata": {},
   "outputs": [],
   "source": [
    "def primes():\n",
    "    yield 2\n",
    "    # 从第三个开始，2和2的倍数都被去掉了\n",
    "    it = _odd_iter()\n",
    "    while True:\n",
    "        # 拿到it之后，把序列中的第一个数给n\n",
    "        n = next(it)\n",
    "        yield n\n",
    "        # 使用filter _not_divisible(n)将无法被n除尽的数组成的新序列返回给it\n",
    "        it = filter(_not_divisible(n), it)"
   ]
  },
  {
   "cell_type": "code",
   "execution_count": 7,
   "id": "259130f9",
   "metadata": {
    "collapsed": true
   },
   "outputs": [
    {
     "name": "stdout",
     "output_type": "stream",
     "text": [
      "2\n",
      "3\n",
      "5\n",
      "7\n",
      "11\n",
      "13\n",
      "17\n",
      "19\n",
      "23\n",
      "29\n",
      "31\n",
      "37\n",
      "41\n",
      "43\n",
      "47\n",
      "53\n",
      "59\n",
      "61\n",
      "67\n",
      "71\n",
      "73\n",
      "79\n",
      "83\n",
      "89\n",
      "97\n",
      "101\n",
      "103\n",
      "107\n",
      "109\n",
      "113\n",
      "127\n",
      "131\n",
      "137\n",
      "139\n",
      "149\n",
      "151\n",
      "157\n",
      "163\n",
      "167\n",
      "173\n",
      "179\n",
      "181\n",
      "191\n",
      "193\n",
      "197\n",
      "199\n",
      "211\n",
      "223\n",
      "227\n",
      "229\n",
      "233\n",
      "239\n",
      "241\n",
      "251\n",
      "257\n",
      "263\n",
      "269\n",
      "271\n",
      "277\n",
      "281\n",
      "283\n",
      "293\n",
      "307\n",
      "311\n",
      "313\n",
      "317\n",
      "331\n",
      "337\n",
      "347\n",
      "349\n",
      "353\n",
      "359\n",
      "367\n",
      "373\n",
      "379\n",
      "383\n",
      "389\n",
      "397\n",
      "401\n",
      "409\n",
      "419\n",
      "421\n",
      "431\n",
      "433\n",
      "439\n",
      "443\n",
      "449\n",
      "457\n",
      "461\n",
      "463\n",
      "467\n",
      "479\n",
      "487\n",
      "491\n",
      "499\n",
      "503\n",
      "509\n",
      "521\n",
      "523\n",
      "541\n",
      "547\n",
      "557\n",
      "563\n",
      "569\n",
      "571\n",
      "577\n",
      "587\n",
      "593\n",
      "599\n",
      "601\n",
      "607\n",
      "613\n",
      "617\n",
      "619\n",
      "631\n",
      "641\n",
      "643\n",
      "647\n",
      "653\n",
      "659\n",
      "661\n",
      "673\n",
      "677\n",
      "683\n",
      "691\n",
      "701\n",
      "709\n",
      "719\n",
      "727\n",
      "733\n",
      "739\n",
      "743\n",
      "751\n",
      "757\n",
      "761\n",
      "769\n",
      "773\n",
      "787\n",
      "797\n",
      "809\n",
      "811\n",
      "821\n",
      "823\n",
      "827\n",
      "829\n",
      "839\n",
      "853\n",
      "857\n",
      "859\n",
      "863\n",
      "877\n",
      "881\n",
      "883\n",
      "887\n",
      "907\n",
      "911\n",
      "919\n",
      "929\n",
      "937\n",
      "941\n",
      "947\n",
      "953\n",
      "967\n",
      "971\n",
      "977\n",
      "983\n",
      "991\n",
      "997\n"
     ]
    }
   ],
   "source": [
    "for n in primes():\n",
    "    if n < 1000:\n",
    "        print(n)\n",
    "    else:\n",
    "        break"
   ]
  },
  {
   "cell_type": "code",
   "execution_count": 16,
   "id": "7bd91836",
   "metadata": {},
   "outputs": [],
   "source": [
    "def is_palindrome(n):\n",
    "    s = str(n)\n",
    "    left = 0\n",
    "    right = len(s)-1\n",
    "    while left < right:\n",
    "        if s[left] != s[right]:\n",
    "            return False\n",
    "        left += 1\n",
    "        right -= 1\n",
    "    return True"
   ]
  },
  {
   "cell_type": "code",
   "execution_count": 17,
   "id": "44dac8fe",
   "metadata": {},
   "outputs": [
    {
     "name": "stdout",
     "output_type": "stream",
     "text": [
      "1~1000: [1, 2, 3, 4, 5, 6, 7, 8, 9, 11, 22, 33, 44, 55, 66, 77, 88, 99, 101, 111, 121, 131, 141, 151, 161, 171, 181, 191, 202, 212, 222, 232, 242, 252, 262, 272, 282, 292, 303, 313, 323, 333, 343, 353, 363, 373, 383, 393, 404, 414, 424, 434, 444, 454, 464, 474, 484, 494, 505, 515, 525, 535, 545, 555, 565, 575, 585, 595, 606, 616, 626, 636, 646, 656, 666, 676, 686, 696, 707, 717, 727, 737, 747, 757, 767, 777, 787, 797, 808, 818, 828, 838, 848, 858, 868, 878, 888, 898, 909, 919, 929, 939, 949, 959, 969, 979, 989, 999]\n",
      "测试成功!\n"
     ]
    }
   ],
   "source": [
    "# 测试:\n",
    "output = filter(is_palindrome, range(1, 1000))\n",
    "print('1~1000:', list(output))\n",
    "if list(filter(is_palindrome, range(1, 200))) == [1, 2, 3, 4, 5, 6, 7, 8, 9, 11, 22, 33, 44, 55, 66, 77, 88, 99, 101, 111, 121, 131, 141, 151, 161, 171, 181, 191]:\n",
    "    print('测试成功!')\n",
    "else:\n",
    "    print('测试失败!')"
   ]
  },
  {
   "cell_type": "markdown",
   "id": "ce50b4e1",
   "metadata": {},
   "source": [
    "## 高阶函数 sorted"
   ]
  },
  {
   "cell_type": "code",
   "execution_count": 18,
   "id": "9e381ea1",
   "metadata": {},
   "outputs": [],
   "source": [
    "def by_name(t):\n",
    "    return t[0]"
   ]
  },
  {
   "cell_type": "code",
   "execution_count": 19,
   "id": "346f0ba0",
   "metadata": {},
   "outputs": [
    {
     "data": {
      "text/plain": [
       "[('Adam', 92), ('Bart', 66), ('Bob', 75), ('Lisa', 88)]"
      ]
     },
     "execution_count": 19,
     "metadata": {},
     "output_type": "execute_result"
    }
   ],
   "source": [
    "L = [('Bob', 75), ('Adam', 92), ('Bart', 66), ('Lisa', 88)]\n",
    "L_sorted_by_name = sorted(L, key=by_name)\n",
    "L_sorted_by_name"
   ]
  },
  {
   "cell_type": "code",
   "execution_count": 20,
   "id": "d408dceb",
   "metadata": {},
   "outputs": [],
   "source": [
    "def by_score(t):\n",
    "    return t[1]"
   ]
  },
  {
   "cell_type": "code",
   "execution_count": 21,
   "id": "4cc539ce",
   "metadata": {},
   "outputs": [
    {
     "data": {
      "text/plain": [
       "[('Adam', 92), ('Lisa', 88), ('Bob', 75), ('Bart', 66)]"
      ]
     },
     "execution_count": 21,
     "metadata": {},
     "output_type": "execute_result"
    }
   ],
   "source": [
    "L_sorted_by_score_decending = sorted(L, key=by_score, reverse=True)\n",
    "L_sorted_by_score_decending"
   ]
  },
  {
   "cell_type": "markdown",
   "id": "a80f5d45",
   "metadata": {},
   "source": [
    "## 闭包：目前看来是函数里包含一个函数，这个内部函数可以使用大函数的参数和局部变量"
   ]
  },
  {
   "cell_type": "markdown",
   "id": "0ccdf99f",
   "metadata": {},
   "source": [
    "# 一点理解：第一次用f = inc()时，f就是fn()下面的这一部分，它执行也只是执行下面这一部分"
   ]
  },
  {
   "cell_type": "code",
   "execution_count": 23,
   "id": "87b6c27e",
   "metadata": {},
   "outputs": [
    {
     "name": "stdout",
     "output_type": "stream",
     "text": [
      "1\n",
      "2\n"
     ]
    }
   ],
   "source": [
    "def inc():\n",
    "    x = 0\n",
    "    def fn():\n",
    "        # nonlocal x\n",
    "        x = x + 1\n",
    "        return x\n",
    "    return fn\n",
    "\n",
    "f = inc()\n",
    "print(f()) # 1\n",
    "print(f()) # 2"
   ]
  },
  {
   "cell_type": "code",
   "execution_count": 26,
   "id": "f4548dff",
   "metadata": {},
   "outputs": [],
   "source": [
    "def createCounter():\n",
    "    x = 0\n",
    "    def counter():\n",
    "        nonlocal x\n",
    "        x = x + 1\n",
    "        return x\n",
    "    return counter"
   ]
  },
  {
   "cell_type": "code",
   "execution_count": 27,
   "id": "b8605dbf",
   "metadata": {},
   "outputs": [
    {
     "name": "stdout",
     "output_type": "stream",
     "text": [
      "1 2 3 4 5\n",
      "测试通过!\n"
     ]
    }
   ],
   "source": [
    "# 测试:\n",
    "counterA = createCounter()\n",
    "print(counterA(), counterA(), counterA(), counterA(), counterA()) # 1 2 3 4 5\n",
    "counterB = createCounter()\n",
    "if [counterB(), counterB(), counterB(), counterB()] == [1, 2, 3, 4]:\n",
    "    print('测试通过!')\n",
    "else:\n",
    "    print('测试失败!')"
   ]
  },
  {
   "cell_type": "markdown",
   "id": "ba895436",
   "metadata": {},
   "source": [
    "## 匿名函数 lambda"
   ]
  },
  {
   "cell_type": "code",
   "execution_count": 29,
   "id": "5b1f174a",
   "metadata": {},
   "outputs": [],
   "source": [
    "f = lambda x : x % 2 == 1"
   ]
  },
  {
   "cell_type": "code",
   "execution_count": 33,
   "id": "59fb1d33",
   "metadata": {},
   "outputs": [
    {
     "data": {
      "text/plain": [
       "False"
      ]
     },
     "execution_count": 33,
     "metadata": {},
     "output_type": "execute_result"
    }
   ],
   "source": [
    "f(2)"
   ]
  },
  {
   "cell_type": "code",
   "execution_count": 34,
   "id": "9972c22b",
   "metadata": {},
   "outputs": [
    {
     "data": {
      "text/plain": [
       "[1, 3, 5, 7, 9, 11, 13, 15, 17, 19]"
      ]
     },
     "execution_count": 34,
     "metadata": {},
     "output_type": "execute_result"
    }
   ],
   "source": [
    "L = list(filter(lambda x: x % 2 == 1, range(1, 20)))\n",
    "L"
   ]
  },
  {
   "cell_type": "code",
   "execution_count": null,
   "id": "1e2fb7a5",
   "metadata": {},
   "outputs": [],
   "source": []
  }
 ],
 "metadata": {
  "kernelspec": {
   "display_name": "Python 3 (ipykernel)",
   "language": "python",
   "name": "python3"
  },
  "language_info": {
   "codemirror_mode": {
    "name": "ipython",
    "version": 3
   },
   "file_extension": ".py",
   "mimetype": "text/x-python",
   "name": "python",
   "nbconvert_exporter": "python",
   "pygments_lexer": "ipython3",
   "version": "3.9.7"
  }
 },
 "nbformat": 4,
 "nbformat_minor": 5
}

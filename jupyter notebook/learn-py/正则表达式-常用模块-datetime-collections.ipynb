{
 "cells": [
  {
   "cell_type": "markdown",
   "id": "8a692b14",
   "metadata": {},
   "source": [
    "##  用正则表达式验证邮箱"
   ]
  },
  {
   "cell_type": "code",
   "execution_count": 2,
   "id": "49165934",
   "metadata": {},
   "outputs": [],
   "source": [
    "# -*- coding: utf-8 -*-\n",
    "import re"
   ]
  },
  {
   "cell_type": "code",
   "execution_count": 43,
   "id": "b18ece77",
   "metadata": {},
   "outputs": [],
   "source": [
    "def is_valid_email(addr):\n",
    "    email_re1 = r'(\\w+\\.)*(\\w+)@(\\w+)(\\.[a-zA-Z]{3})$'\n",
    "    if re.match(email_re1, addrs[1]):\n",
    "        return True\n",
    "    else:\n",
    "        return False"
   ]
  },
  {
   "cell_type": "code",
   "execution_count": 44,
   "id": "460a0d71",
   "metadata": {},
   "outputs": [
    {
     "name": "stdout",
     "output_type": "stream",
     "text": [
      "ok\n"
     ]
    }
   ],
   "source": [
    "assert is_valid_email('someone@gmail.com')\n",
    "assert is_valid_email('bill.gates@microsoft.com')\n",
    "assert not is_valid_email('bob#example.com')\n",
    "assert not is_valid_email('mr-bob@example.com')\n",
    "print('ok')"
   ]
  },
  {
   "cell_type": "code",
   "execution_count": 21,
   "id": "f1d9dd5f",
   "metadata": {},
   "outputs": [],
   "source": [
    "def name_of_email(addr):\n",
    "\n",
    "    m=re.match(r'^\\<?([a-zA-Z\\s]+)\\>?[a-zA-Z\\s]*\\@[a-zA-Z]+\\.[a-zA-Z]+$',addr)\n",
    "    print(m.group(1))\n",
    "    return m.group(1)"
   ]
  },
  {
   "cell_type": "code",
   "execution_count": 23,
   "id": "2919a6b6",
   "metadata": {
    "scrolled": true
   },
   "outputs": [
    {
     "name": "stdout",
     "output_type": "stream",
     "text": [
      "Tom Paris\n",
      "tom\n",
      "ok\n"
     ]
    }
   ],
   "source": [
    "# 测试:\n",
    "assert name_of_email('<Tom Paris> tom@voyager.org') == 'Tom Paris'\n",
    "assert name_of_email('tom@voyager.org') == 'tom'\n",
    "print('ok')"
   ]
  },
  {
   "cell_type": "code",
   "execution_count": 24,
   "id": "8b2dadbb",
   "metadata": {},
   "outputs": [
    {
     "name": "stdout",
     "output_type": "stream",
     "text": [
      "2022-07-22 22:37:30.190262\n"
     ]
    }
   ],
   "source": [
    "from datetime import datetime\n",
    "now = datetime.now()\n",
    "print(now)"
   ]
  },
  {
   "cell_type": "code",
   "execution_count": 25,
   "id": "0824fb25",
   "metadata": {},
   "outputs": [
    {
     "name": "stdout",
     "output_type": "stream",
     "text": [
      "<class 'datetime.datetime'>\n"
     ]
    }
   ],
   "source": [
    "print(type(now))"
   ]
  },
  {
   "cell_type": "code",
   "execution_count": 26,
   "id": "63fe4a29",
   "metadata": {},
   "outputs": [
    {
     "name": "stdout",
     "output_type": "stream",
     "text": [
      "2015-04-19 12:20:00\n"
     ]
    }
   ],
   "source": [
    "from datetime import datetime\n",
    "dt = datetime(2015, 4, 19, 12, 20)\n",
    "print(dt)"
   ]
  },
  {
   "cell_type": "code",
   "execution_count": 28,
   "id": "44850445",
   "metadata": {},
   "outputs": [
    {
     "name": "stdout",
     "output_type": "stream",
     "text": [
      "2015-04-19 12:20:00\n"
     ]
    }
   ],
   "source": [
    "from datetime import datetime\n",
    "t = 1429417200.0\n",
    "print(datetime.fromtimestamp(t))"
   ]
  },
  {
   "cell_type": "code",
   "execution_count": 30,
   "id": "bc860010",
   "metadata": {},
   "outputs": [
    {
     "name": "stdout",
     "output_type": "stream",
     "text": [
      "2015-04-19 12:20:00\n",
      "2015-04-19 04:20:00\n"
     ]
    }
   ],
   "source": [
    "from datetime import datetime\n",
    "t = 1429417200.0\n",
    "print(datetime.fromtimestamp(t)) # 本地时间\n",
    "print(datetime.utcfromtimestamp(t)) # UTC时间"
   ]
  },
  {
   "cell_type": "code",
   "execution_count": 32,
   "id": "e60f13b7",
   "metadata": {},
   "outputs": [
    {
     "name": "stdout",
     "output_type": "stream",
     "text": [
      "2015-06-01 18:19:59\n"
     ]
    }
   ],
   "source": [
    "cday = datetime.strptime('2015-6-1 18:19:59', '%Y-%m-%d %H:%M:%S')\n",
    "print(cday)"
   ]
  },
  {
   "cell_type": "code",
   "execution_count": 33,
   "id": "f84f7cd6",
   "metadata": {},
   "outputs": [
    {
     "name": "stdout",
     "output_type": "stream",
     "text": [
      "Fri, Jul 22 23:55\n"
     ]
    }
   ],
   "source": [
    "now = datetime.now()\n",
    "print(now.strftime('%a, %b %d %H:%M'))"
   ]
  },
  {
   "cell_type": "code",
   "execution_count": 34,
   "id": "0c7a7e11",
   "metadata": {},
   "outputs": [
    {
     "data": {
      "text/plain": [
       "datetime.datetime(2022, 7, 22, 23, 56, 23, 924717)"
      ]
     },
     "execution_count": 34,
     "metadata": {},
     "output_type": "execute_result"
    }
   ],
   "source": [
    "now = datetime.now()\n",
    "now"
   ]
  },
  {
   "cell_type": "markdown",
   "id": "7044dfaa",
   "metadata": {},
   "source": [
    "## 时间的加减"
   ]
  },
  {
   "cell_type": "code",
   "execution_count": 38,
   "id": "6df348de",
   "metadata": {},
   "outputs": [],
   "source": [
    "from datetime import datetime, timedelta"
   ]
  },
  {
   "cell_type": "code",
   "execution_count": 39,
   "id": "cfa76683",
   "metadata": {},
   "outputs": [
    {
     "data": {
      "text/plain": [
       "datetime.datetime(2022, 7, 23, 9, 56, 23, 924717)"
      ]
     },
     "execution_count": 39,
     "metadata": {},
     "output_type": "execute_result"
    }
   ],
   "source": [
    "now + timedelta(hours=10)"
   ]
  },
  {
   "cell_type": "code",
   "execution_count": 40,
   "id": "0ddc18f3",
   "metadata": {},
   "outputs": [
    {
     "data": {
      "text/plain": [
       "datetime.datetime(2022, 7, 21, 23, 56, 23, 924717)"
      ]
     },
     "execution_count": 40,
     "metadata": {},
     "output_type": "execute_result"
    }
   ],
   "source": [
    "now - timedelta(days=1)"
   ]
  },
  {
   "cell_type": "code",
   "execution_count": 41,
   "id": "abc03571",
   "metadata": {},
   "outputs": [
    {
     "data": {
      "text/plain": [
       "datetime.datetime(2022, 7, 25, 11, 56, 23, 924717)"
      ]
     },
     "execution_count": 41,
     "metadata": {},
     "output_type": "execute_result"
    }
   ],
   "source": [
    "now + timedelta(days=2, hours=12)"
   ]
  },
  {
   "cell_type": "markdown",
   "id": "1b6e135d",
   "metadata": {},
   "source": [
    "## 时区属性"
   ]
  },
  {
   "cell_type": "code",
   "execution_count": 23,
   "id": "f0feedb9",
   "metadata": {},
   "outputs": [],
   "source": [
    "from datetime import datetime, timedelta, timezone"
   ]
  },
  {
   "cell_type": "code",
   "execution_count": 24,
   "id": "9262960e",
   "metadata": {},
   "outputs": [
    {
     "data": {
      "text/plain": [
       "datetime.datetime(2022, 7, 23, 14, 25, 6, 136167)"
      ]
     },
     "execution_count": 24,
     "metadata": {},
     "output_type": "execute_result"
    }
   ],
   "source": [
    "tz_utc_8 = timezone(timedelta(hours=8))\n",
    "now = datetime.now()\n",
    "now"
   ]
  },
  {
   "cell_type": "code",
   "execution_count": 25,
   "id": "812aed84",
   "metadata": {},
   "outputs": [],
   "source": [
    "dt = now.replace(tzinfo=tz_utc_8)"
   ]
  },
  {
   "cell_type": "code",
   "execution_count": 26,
   "id": "949af048",
   "metadata": {},
   "outputs": [
    {
     "data": {
      "text/plain": [
       "datetime.datetime(2022, 7, 23, 14, 25, 6, 136167, tzinfo=datetime.timezone(datetime.timedelta(seconds=28800)))"
      ]
     },
     "execution_count": 26,
     "metadata": {},
     "output_type": "execute_result"
    }
   ],
   "source": [
    "dt"
   ]
  },
  {
   "cell_type": "code",
   "execution_count": 27,
   "id": "27302ee3",
   "metadata": {},
   "outputs": [],
   "source": [
    "utc_dt = datetime.utcnow().replace(tzinfo=timezone.utc)"
   ]
  },
  {
   "cell_type": "code",
   "execution_count": 28,
   "id": "5a1d02a6",
   "metadata": {},
   "outputs": [
    {
     "name": "stdout",
     "output_type": "stream",
     "text": [
      "2022-07-23 06:25:10.598812+00:00\n"
     ]
    }
   ],
   "source": [
    "print(utc_dt)"
   ]
  },
  {
   "cell_type": "code",
   "execution_count": 29,
   "id": "3a771e55",
   "metadata": {},
   "outputs": [
    {
     "name": "stdout",
     "output_type": "stream",
     "text": [
      "2022-07-23 14:25:10.598812+08:00\n"
     ]
    }
   ],
   "source": [
    "bj_dt = utc_dt.astimezone(timezone(timedelta(hours=8)))\n",
    "print(bj_dt)"
   ]
  },
  {
   "cell_type": "code",
   "execution_count": 49,
   "id": "5b11fd66",
   "metadata": {},
   "outputs": [
    {
     "name": "stdout",
     "output_type": "stream",
     "text": [
      "2022-07-23 01:02:20.591088+09:00\n"
     ]
    }
   ],
   "source": [
    "tokyo_dt=utc_dt.astimezone(timezone(timedelta(hours=9)))\n",
    "print(tokyo_dt)"
   ]
  },
  {
   "cell_type": "code",
   "execution_count": 50,
   "id": "50796e46",
   "metadata": {},
   "outputs": [
    {
     "name": "stdout",
     "output_type": "stream",
     "text": [
      "2022-07-23 01:02:20.591088+09:00\n"
     ]
    }
   ],
   "source": [
    "tokyo_dt2 = bj_dt.astimezone(timezone(timedelta(hours=9)))\n",
    "print(tokyo_dt2)"
   ]
  },
  {
   "cell_type": "code",
   "execution_count": 1,
   "id": "3e2066a1",
   "metadata": {},
   "outputs": [],
   "source": [
    "import re\n",
    "from datetime import datetime, timezone, timedelta"
   ]
  },
  {
   "cell_type": "code",
   "execution_count": 18,
   "id": "7a8dacec",
   "metadata": {
    "collapsed": true
   },
   "outputs": [
    {
     "ename": "TypeError",
     "evalue": "'builtin_function_or_method' object is not subscriptable",
     "output_type": "error",
     "traceback": [
      "\u001b[1;31m---------------------------------------------------------------------------\u001b[0m",
      "\u001b[1;31mTypeError\u001b[0m                                 Traceback (most recent call last)",
      "\u001b[1;32m~\\AppData\\Local\\Temp/ipykernel_1500/3309764236.py\u001b[0m in \u001b[0;36m<module>\u001b[1;34m\u001b[0m\n\u001b[0;32m      4\u001b[0m \u001b[1;32mfor\u001b[0m \u001b[0mi\u001b[0m \u001b[1;32min\u001b[0m \u001b[0mrange\u001b[0m\u001b[1;33m(\u001b[0m\u001b[1;36m3\u001b[0m\u001b[1;33m)\u001b[0m\u001b[1;33m:\u001b[0m\u001b[1;33m\u001b[0m\u001b[1;33m\u001b[0m\u001b[0m\n\u001b[0;32m      5\u001b[0m     \u001b[1;32mif\u001b[0m \u001b[0mm\u001b[0m\u001b[1;33m.\u001b[0m\u001b[0mgroup\u001b[0m\u001b[1;33m(\u001b[0m\u001b[0mi\u001b[0m\u001b[1;33m)\u001b[0m\u001b[1;33m:\u001b[0m\u001b[1;33m\u001b[0m\u001b[1;33m\u001b[0m\u001b[0m\n\u001b[1;32m----> 6\u001b[1;33m         \u001b[0mprint\u001b[0m\u001b[1;33m(\u001b[0m\u001b[0mm\u001b[0m\u001b[1;33m.\u001b[0m\u001b[0mgroup\u001b[0m\u001b[1;33m[\u001b[0m\u001b[0mi\u001b[0m\u001b[1;33m]\u001b[0m\u001b[1;33m)\u001b[0m\u001b[1;33m\u001b[0m\u001b[1;33m\u001b[0m\u001b[0m\n\u001b[0m",
      "\u001b[1;31mTypeError\u001b[0m: 'builtin_function_or_method' object is not subscriptable"
     ]
    }
   ],
   "source": [
    "re_utc = re.compile(r'^UTC(\\+|\\-)[0-9]{1,2}(\\:)[0-9]{2}')\n",
    "utc_str =  'UTC-09:00'\n",
    "m = re.match(re_utc, utc_str)\n"
   ]
  },
  {
   "cell_type": "markdown",
   "id": "05100188",
   "metadata": {},
   "source": [
    "## 练习题"
   ]
  },
  {
   "cell_type": "code",
   "execution_count": 51,
   "id": "0b6c7795",
   "metadata": {},
   "outputs": [],
   "source": [
    "def to_timestamp(dt_str, tz_str):\n",
    "    # 使用re判断是否是时间格式\n",
    "    cday = datetime.strptime(dt_str, '%Y-%m-%d %H:%M:%S')\n",
    "    print(cday)\n",
    "    re_utc = re.compile(r'^UTC(\\+|\\-)([0-9]{1,2})(\\:)([0-9]{2})')\n",
    "    utc = re.match(re_utc, utc_str)\n",
    "    \n",
    "    hour = int(utc.group(2))\n",
    "    \n",
    "    if utc.group(1) == '-':\n",
    "        hour = 0 - hour\n",
    "    print(hour)\n",
    "    \n",
    "    tz_utc = timezone(timedelta(hours=hour))\n",
    "    \n",
    "    ts = cday.replace(tzinfo=tz_utc)\n",
    "    res = ts.timestamp()\n",
    "    print(res)\n",
    "    return res"
   ]
  },
  {
   "cell_type": "code",
   "execution_count": 50,
   "id": "56fcc941",
   "metadata": {},
   "outputs": [
    {
     "name": "stdout",
     "output_type": "stream",
     "text": [
      "2015-06-01 08:10:30\n",
      "-9\n",
      "1433178630.0\n",
      "2015-05-31 16:10:30\n",
      "-9\n",
      "1433121030.0\n",
      "ok\n"
     ]
    }
   ],
   "source": [
    "# 测试:\n",
    "t1 = to_timestamp('2015-6-1 08:10:30', 'UTC+7:00')\n",
    "# assert t1 == 1433121030.0, t1\n",
    "\n",
    "t2 = to_timestamp('2015-5-31 16:10:30', 'UTC-09:00')\n",
    "#assert t2 == 1433121030.0, t2\n",
    "\n",
    "print('ok')"
   ]
  },
  {
   "cell_type": "markdown",
   "id": "9e131689",
   "metadata": {},
   "source": [
    "## collections"
   ]
  },
  {
   "cell_type": "code",
   "execution_count": 52,
   "id": "2b88fbb7",
   "metadata": {},
   "outputs": [],
   "source": [
    "p = (1, 2)"
   ]
  },
  {
   "cell_type": "code",
   "execution_count": 57,
   "id": "4fe869fb",
   "metadata": {},
   "outputs": [],
   "source": [
    "from collections import namedtuple\n",
    "Point = namedtuple('Point', ['x','y','z'])\n",
    "p = Point(1, 2,3)"
   ]
  },
  {
   "cell_type": "code",
   "execution_count": 54,
   "id": "56c1764c",
   "metadata": {},
   "outputs": [
    {
     "data": {
      "text/plain": [
       "1"
      ]
     },
     "execution_count": 54,
     "metadata": {},
     "output_type": "execute_result"
    }
   ],
   "source": [
    "p.x"
   ]
  },
  {
   "cell_type": "code",
   "execution_count": 55,
   "id": "0eb69ead",
   "metadata": {},
   "outputs": [
    {
     "data": {
      "text/plain": [
       "2"
      ]
     },
     "execution_count": 55,
     "metadata": {},
     "output_type": "execute_result"
    }
   ],
   "source": [
    "p.y"
   ]
  },
  {
   "cell_type": "code",
   "execution_count": 58,
   "id": "3e7d46fb",
   "metadata": {},
   "outputs": [
    {
     "data": {
      "text/plain": [
       "3"
      ]
     },
     "execution_count": 58,
     "metadata": {},
     "output_type": "execute_result"
    }
   ],
   "source": [
    "p.z"
   ]
  },
  {
   "cell_type": "code",
   "execution_count": 59,
   "id": "a929aa6f",
   "metadata": {},
   "outputs": [
    {
     "data": {
      "text/plain": [
       "True"
      ]
     },
     "execution_count": 59,
     "metadata": {},
     "output_type": "execute_result"
    }
   ],
   "source": [
    "isinstance(p, tuple)"
   ]
  },
  {
   "cell_type": "code",
   "execution_count": 60,
   "id": "dfe0be39",
   "metadata": {},
   "outputs": [],
   "source": [
    "Circle = namedtuple('Circle', ['x', 'y', 'r'])"
   ]
  },
  {
   "cell_type": "markdown",
   "id": "233164b7",
   "metadata": {},
   "source": [
    "## 有头尾指针的链表，方便快速从两段插入和删除"
   ]
  },
  {
   "cell_type": "code",
   "execution_count": 61,
   "id": "3b8bce02",
   "metadata": {},
   "outputs": [
    {
     "data": {
      "text/plain": [
       "deque(['y', 'a', 'b', 'c', 'x'])"
      ]
     },
     "execution_count": 61,
     "metadata": {},
     "output_type": "execute_result"
    }
   ],
   "source": [
    "from collections import deque\n",
    "q = deque(['a', 'b', 'c'])\n",
    "q.append('x')\n",
    "q.appendleft('y')\n",
    "q"
   ]
  },
  {
   "cell_type": "markdown",
   "id": "5d530786",
   "metadata": {},
   "source": [
    "## 对空key可以返回默认值的dict"
   ]
  },
  {
   "cell_type": "code",
   "execution_count": 62,
   "id": "9e2ece9f",
   "metadata": {},
   "outputs": [
    {
     "data": {
      "text/plain": [
       "'abc'"
      ]
     },
     "execution_count": 62,
     "metadata": {},
     "output_type": "execute_result"
    }
   ],
   "source": [
    "from collections import defaultdict\n",
    "dd = defaultdict(lambda: 'N/A')\n",
    "dd['key1'] = 'abc'\n",
    "dd['key1']"
   ]
  },
  {
   "cell_type": "code",
   "execution_count": 63,
   "id": "add4d8aa",
   "metadata": {},
   "outputs": [
    {
     "data": {
      "text/plain": [
       "'N/A'"
      ]
     },
     "execution_count": 63,
     "metadata": {},
     "output_type": "execute_result"
    }
   ],
   "source": [
    "dd['key2']"
   ]
  },
  {
   "cell_type": "markdown",
   "id": "743347e8",
   "metadata": {},
   "source": [
    "## 有顺序的dict  OrderedDict"
   ]
  },
  {
   "cell_type": "code",
   "execution_count": 64,
   "id": "ea4d9b58",
   "metadata": {},
   "outputs": [
    {
     "data": {
      "text/plain": [
       "{'a': 1, 'b': 2, 'c': 3}"
      ]
     },
     "execution_count": 64,
     "metadata": {},
     "output_type": "execute_result"
    }
   ],
   "source": [
    "from collections import OrderedDict\n",
    "d = dict([('a', 1), ('b', 2), ('c', 3)])\n",
    "d"
   ]
  },
  {
   "cell_type": "code",
   "execution_count": 65,
   "id": "ebd5659c",
   "metadata": {},
   "outputs": [
    {
     "data": {
      "text/plain": [
       "OrderedDict([('a', 1), ('b', 2), ('c', 3)])"
      ]
     },
     "execution_count": 65,
     "metadata": {},
     "output_type": "execute_result"
    }
   ],
   "source": [
    "od = OrderedDict([('a', 1), ('b', 2), ('c', 3)])\n",
    "od"
   ]
  },
  {
   "cell_type": "code",
   "execution_count": 66,
   "id": "c935aaa5",
   "metadata": {},
   "outputs": [],
   "source": [
    "od = OrderedDict()\n",
    "od['z'] = 1\n",
    "od['y'] = 2\n",
    "od['x'] = 3"
   ]
  },
  {
   "cell_type": "code",
   "execution_count": 67,
   "id": "11ec193b",
   "metadata": {},
   "outputs": [
    {
     "data": {
      "text/plain": [
       "['z', 'y', 'x']"
      ]
     },
     "execution_count": 67,
     "metadata": {},
     "output_type": "execute_result"
    }
   ],
   "source": [
    "list(od.keys())"
   ]
  },
  {
   "cell_type": "markdown",
   "id": "9cd1556a",
   "metadata": {},
   "source": [
    "## FIFO的dict"
   ]
  },
  {
   "cell_type": "code",
   "execution_count": 68,
   "id": "26e9b4a9",
   "metadata": {},
   "outputs": [],
   "source": [
    "from collections import OrderedDict\n",
    "\n",
    "class LastUpdateOrderedDict(OrderedDict):\n",
    "    \n",
    "    def __init__(self, capacity):\n",
    "        super(LastUpdatedOrderedDict, self).__init__()\n",
    "        self._capacity = capacity\n",
    "        \n",
    "    def __setitem__(self, key, value):\n",
    "        containsKey = 1 if key in self else 0\n",
    "        if len(self) - containsKey >= self._capacity:\n",
    "            last = self.popitem(last=False)\n",
    "            print('remove:', last)\n",
    "        if containsKey:\n",
    "            del self[key]\n",
    "            print('set:', (key, value))\n",
    "        else:\n",
    "            print('add:', (key, value))\n",
    "        OrderedDict.__setitem__(self, key, value)"
   ]
  },
  {
   "cell_type": "markdown",
   "id": "bd1e7cc9",
   "metadata": {},
   "source": [
    "## ChainMap"
   ]
  },
  {
   "cell_type": "code",
   "execution_count": null,
   "id": "db3e928b",
   "metadata": {},
   "outputs": [],
   "source": [
    "from collections import ChainMap\n",
    "import os, argparse\n",
    "\n",
    "# 构造缺省参数：\n",
    "defaults = {\n",
    "    'color': 'red',\n",
    "    'user': 'guest'\n",
    "}\n",
    "\n",
    "# 构造命令行参数\n",
    "parser = argparse.ArgumentParser()\n",
    "parser.add_argument('-u', '--user')\n",
    "parser.add_argument('-c', '--color')\n",
    "namespace = parser.parse_args()\n",
    "\n",
    "command_line_args = { k: v for k, v in vars(namespace).items() if v}\n",
    "\n",
    "# 组合成ChainMap:\n",
    "combined = ChainMap(command_line_args, os.environ, defaults)\n",
    "\n",
    "# 打印参数：\n",
    "print('color=%s' % combined['color'])\n",
    "print('user=%s' % combined['user'])"
   ]
  },
  {
   "cell_type": "markdown",
   "id": "e43b17e8",
   "metadata": {},
   "source": [
    "## Counter"
   ]
  },
  {
   "cell_type": "code",
   "execution_count": 1,
   "id": "05481834",
   "metadata": {},
   "outputs": [
    {
     "data": {
      "text/plain": [
       "Counter({'p': 1, 'r': 2, 'o': 1, 'g': 2, 'a': 1, 'm': 2, 'i': 1, 'n': 1})"
      ]
     },
     "execution_count": 1,
     "metadata": {},
     "output_type": "execute_result"
    }
   ],
   "source": [
    "from collections import Counter\n",
    "c = Counter()\n",
    "for ch in 'programming':\n",
    "    c[ch] = c[ch] + 1\n",
    "c"
   ]
  },
  {
   "cell_type": "code",
   "execution_count": 2,
   "id": "89883abf",
   "metadata": {},
   "outputs": [
    {
     "data": {
      "text/plain": [
       "Counter({'p': 1,\n",
       "         'r': 2,\n",
       "         'o': 2,\n",
       "         'g': 2,\n",
       "         'a': 1,\n",
       "         'm': 2,\n",
       "         'i': 1,\n",
       "         'n': 1,\n",
       "         'h': 1,\n",
       "         'e': 1,\n",
       "         'l': 2})"
      ]
     },
     "execution_count": 2,
     "metadata": {},
     "output_type": "execute_result"
    }
   ],
   "source": [
    "c.update('hello')\n",
    "c"
   ]
  },
  {
   "cell_type": "code",
   "execution_count": null,
   "id": "79acc90e",
   "metadata": {},
   "outputs": [],
   "source": []
  }
 ],
 "metadata": {
  "kernelspec": {
   "display_name": "Python 3 (ipykernel)",
   "language": "python",
   "name": "python3"
  },
  "language_info": {
   "codemirror_mode": {
    "name": "ipython",
    "version": 3
   },
   "file_extension": ".py",
   "mimetype": "text/x-python",
   "name": "python",
   "nbconvert_exporter": "python",
   "pygments_lexer": "ipython3",
   "version": "3.9.7"
  }
 },
 "nbformat": 4,
 "nbformat_minor": 5
}

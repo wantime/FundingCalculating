{
 "cells": [
  {
   "cell_type": "markdown",
   "id": "59094142",
   "metadata": {},
   "source": [
    "Base64是一种任意二进制到文本字符串的编码方法，常用于在URL、Cookie、网页中传输少量二进制数据。"
   ]
  },
  {
   "cell_type": "code",
   "execution_count": 2,
   "id": "39f67446",
   "metadata": {},
   "outputs": [
    {
     "data": {
      "text/plain": [
       "b'YmluYXJ5AHN0cmluZw=='"
      ]
     },
     "execution_count": 2,
     "metadata": {},
     "output_type": "execute_result"
    }
   ],
   "source": [
    "import base64\n",
    "\n",
    "base64.b64encode(b'binary\\x00string')"
   ]
  },
  {
   "cell_type": "code",
   "execution_count": 3,
   "id": "bfbaf72c",
   "metadata": {},
   "outputs": [
    {
     "data": {
      "text/plain": [
       "b'binary\\x00string'"
      ]
     },
     "execution_count": 3,
     "metadata": {},
     "output_type": "execute_result"
    }
   ],
   "source": [
    "base64.b64decode(b'YmluYXJ5AHN0cmluZw==')"
   ]
  },
  {
   "cell_type": "markdown",
   "id": "8d782d16",
   "metadata": {},
   "source": [
    "## url safe"
   ]
  },
  {
   "cell_type": "code",
   "execution_count": 9,
   "id": "b7cbc0ec",
   "metadata": {},
   "outputs": [
    {
     "data": {
      "text/plain": [
       "b'abcd++//'"
      ]
     },
     "execution_count": 9,
     "metadata": {},
     "output_type": "execute_result"
    }
   ],
   "source": [
    "base64.b64encode(b'i\\xb7\\x1d\\xfb\\xef\\xff')"
   ]
  },
  {
   "cell_type": "code",
   "execution_count": 11,
   "id": "dcb54a1d",
   "metadata": {},
   "outputs": [
    {
     "data": {
      "text/plain": [
       "b'abcd--__'"
      ]
     },
     "execution_count": 11,
     "metadata": {},
     "output_type": "execute_result"
    }
   ],
   "source": [
    "base64.urlsafe_b64encode(b'i\\xb7\\x1d\\xfb\\xef\\xff')"
   ]
  },
  {
   "cell_type": "code",
   "execution_count": 12,
   "id": "775845ac",
   "metadata": {},
   "outputs": [
    {
     "data": {
      "text/plain": [
       "b'i\\xb7\\x1d\\xfb\\xef\\xff'"
      ]
     },
     "execution_count": 12,
     "metadata": {},
     "output_type": "execute_result"
    }
   ],
   "source": [
    "base64.urlsafe_b64decode('abcd--__')"
   ]
  },
  {
   "cell_type": "markdown",
   "id": "e2e3a6d5",
   "metadata": {},
   "source": [
    "### 练习\n",
    "请写一个能处理去掉=的base64解码函数"
   ]
  },
  {
   "cell_type": "code",
   "execution_count": 35,
   "id": "c31edc8a",
   "metadata": {},
   "outputs": [],
   "source": [
    "def safe_base64_decode(s):\n",
    "    lack_str = '=' * 4\n",
    "    s = s + lack_str\n",
    "    basedecode = base64.urlsafe_b64decode(s)\n",
    "    return basedecode"
   ]
  },
  {
   "cell_type": "code",
   "execution_count": 36,
   "id": "665e38e8",
   "metadata": {},
   "outputs": [
    {
     "name": "stdout",
     "output_type": "stream",
     "text": [
      "ok\n"
     ]
    }
   ],
   "source": [
    "assert b'abcd' == safe_base64_decode('YWJjZA=='), safe_base64_decode('YWJjZA==')\n",
    "assert b'abcd' == safe_base64_decode('YWJjZA'), safe_base64_decode('YWJjZA')\n",
    "print('ok')"
   ]
  },
  {
   "cell_type": "markdown",
   "id": "ff871faf",
   "metadata": {},
   "source": [
    "# struct"
   ]
  },
  {
   "cell_type": "code",
   "execution_count": 5,
   "id": "83c0622d",
   "metadata": {},
   "outputs": [
    {
     "data": {
      "text/plain": [
       "b'\\x00\\x9c@c'"
      ]
     },
     "execution_count": 5,
     "metadata": {},
     "output_type": "execute_result"
    }
   ],
   "source": [
    "import struct\n",
    "struct.pack('>I', 10240099)"
   ]
  },
  {
   "cell_type": "code",
   "execution_count": 6,
   "id": "be64ee80",
   "metadata": {},
   "outputs": [
    {
     "data": {
      "text/plain": [
       "(4042322160, 32896)"
      ]
     },
     "execution_count": 6,
     "metadata": {},
     "output_type": "execute_result"
    }
   ],
   "source": [
    "struct.unpack('>IH', b'\\xf0\\xf0\\xf0\\xf0\\x80\\x80')"
   ]
  },
  {
   "cell_type": "code",
   "execution_count": 7,
   "id": "1b176409",
   "metadata": {},
   "outputs": [],
   "source": [
    "def bmp_info(data):\n",
    "    b = struct.unpack('<ccIIIIIIHH', data[:30])\n",
    "    if b[0] == b'B' and b[1] == b'M':\n",
    "        return {\n",
    "            'width': b[-4],\n",
    "            'height': b[-3],\n",
    "            'color': b[-1]\n",
    "        }"
   ]
  },
  {
   "cell_type": "code",
   "execution_count": 8,
   "id": "1e09aa95",
   "metadata": {},
   "outputs": [
    {
     "data": {
      "text/plain": [
       "95"
      ]
     },
     "execution_count": 8,
     "metadata": {},
     "output_type": "execute_result"
    }
   ],
   "source": [
    "x = open('10.2.bmp', 'rb')\n",
    "len(x.readline())"
   ]
  },
  {
   "cell_type": "code",
   "execution_count": 10,
   "id": "04f997de",
   "metadata": {
    "scrolled": true
   },
   "outputs": [
    {
     "name": "stdout",
     "output_type": "stream",
     "text": [
      "{'width': 5120, 'height': 5120, 'color': 8}\n"
     ]
    }
   ],
   "source": [
    "with open('10.2.bmp', 'rb') as f:\n",
    "    data = f.readline()\n",
    "    print(bmp_info(data))\n",
    "    "
   ]
  },
  {
   "cell_type": "code",
   "execution_count": null,
   "id": "0add1df6",
   "metadata": {},
   "outputs": [],
   "source": []
  }
 ],
 "metadata": {
  "kernelspec": {
   "display_name": "Python 3 (ipykernel)",
   "language": "python",
   "name": "python3"
  },
  "language_info": {
   "codemirror_mode": {
    "name": "ipython",
    "version": 3
   },
   "file_extension": ".py",
   "mimetype": "text/x-python",
   "name": "python",
   "nbconvert_exporter": "python",
   "pygments_lexer": "ipython3",
   "version": "3.9.7"
  }
 },
 "nbformat": 4,
 "nbformat_minor": 5
}

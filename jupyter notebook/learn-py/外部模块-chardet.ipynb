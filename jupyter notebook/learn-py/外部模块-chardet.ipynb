{
 "cells": [
  {
   "cell_type": "code",
   "execution_count": 1,
   "id": "5bc5bec1",
   "metadata": {},
   "outputs": [],
   "source": [
    "import chardet"
   ]
  },
  {
   "cell_type": "code",
   "execution_count": 3,
   "id": "95bb4b15",
   "metadata": {},
   "outputs": [
    {
     "data": {
      "text/plain": [
       "{'encoding': 'ascii', 'confidence': 1.0, 'language': ''}"
      ]
     },
     "execution_count": 3,
     "metadata": {},
     "output_type": "execute_result"
    }
   ],
   "source": [
    "chardet.detect(b'Hello, World!')\n"
   ]
  },
  {
   "cell_type": "code",
   "execution_count": 4,
   "id": "056a420d",
   "metadata": {},
   "outputs": [
    {
     "data": {
      "text/plain": [
       "{'encoding': 'GB2312', 'confidence': 0.7407407407407407, 'language': 'Chinese'}"
      ]
     },
     "execution_count": 4,
     "metadata": {},
     "output_type": "execute_result"
    }
   ],
   "source": [
    "data = '离离原上草，一岁一枯荣'.encode('gbk')\n",
    "chardet.detect(data)"
   ]
  },
  {
   "cell_type": "code",
   "execution_count": 6,
   "id": "4b9ae22a",
   "metadata": {},
   "outputs": [
    {
     "data": {
      "text/plain": [
       "{'encoding': 'utf-8', 'confidence': 0.99, 'language': ''}"
      ]
     },
     "execution_count": 6,
     "metadata": {},
     "output_type": "execute_result"
    }
   ],
   "source": [
    "data = '离离原上草，一岁以顾客'.encode('utf-8')\n",
    "chardet.detect(data)"
   ]
  },
  {
   "cell_type": "code",
   "execution_count": 7,
   "id": "d32448a4",
   "metadata": {},
   "outputs": [
    {
     "data": {
      "text/plain": [
       "{'encoding': 'EUC-JP', 'confidence': 0.99, 'language': 'Japanese'}"
      ]
     },
     "execution_count": 7,
     "metadata": {},
     "output_type": "execute_result"
    }
   ],
   "source": [
    "data = '最新の主要ニュース'.encode('euc-jp')\n",
    "chardet.detect(data)"
   ]
  },
  {
   "cell_type": "code",
   "execution_count": null,
   "id": "72839502",
   "metadata": {},
   "outputs": [],
   "source": []
  }
 ],
 "metadata": {
  "kernelspec": {
   "display_name": "Python 3 (ipykernel)",
   "language": "python",
   "name": "python3"
  },
  "language_info": {
   "codemirror_mode": {
    "name": "ipython",
    "version": 3
   },
   "file_extension": ".py",
   "mimetype": "text/x-python",
   "name": "python",
   "nbconvert_exporter": "python",
   "pygments_lexer": "ipython3",
   "version": "3.9.7"
  }
 },
 "nbformat": 4,
 "nbformat_minor": 5
}

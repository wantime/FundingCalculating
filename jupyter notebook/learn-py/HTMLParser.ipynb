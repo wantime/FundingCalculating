{
 "cells": [
  {
   "cell_type": "code",
   "execution_count": 6,
   "metadata": {},
   "outputs": [
    {
     "name": "stdout",
     "output_type": "stream",
     "text": [
      "\n",
      "    \n",
      "Some \n",
      "html\n",
      "HTML :tutorial...\n",
      "END\n"
     ]
    }
   ],
   "source": [
    "from html.parser import HTMLParser\n",
    "from html.entities import name2codepoint\n",
    "\n",
    "class MyHTMLParser(HTMLParser):\n",
    "    \n",
    "    #def handle_starttag(self, tag, attrs):\n",
    "     #   print('<%s>' % tag)\n",
    "    \n",
    "    #def handle_endtag(self, tag):\n",
    "     #   print('</%s>' % tag)\n",
    "    \n",
    "    #def handle_startendtag(self, tag, attrs):\n",
    "     #   print('<%s/>' % tag)\n",
    "        \n",
    "    def handle_data(self, data):\n",
    "        if data != '\\n':\n",
    "            print(data)\n",
    "        \n",
    "    #def handle_entityref(self, name):\n",
    "     #   print('&%s:' % name)\n",
    "    \n",
    "   # def handle_charref(self, name):\n",
    "    #    print('&#%s:' % name)\n",
    "        \n",
    "parser = MyHTMLParser()\n",
    "parser.feed('''<html>\n",
    "<head>\n",
    "<body>\n",
    "<!-- test html parser -->\n",
    "    <p>Some <a href=\\\"#\\\">html</a>HTML&nbsp:tutorial...<br>END</p>\n",
    "</body>\n",
    "</head>\n",
    "</html>''')"
   ]
  },
  {
   "cell_type": "code",
   "execution_count": null,
   "metadata": {},
   "outputs": [],
   "source": []
  },
  {
   "cell_type": "code",
   "execution_count": null,
   "metadata": {},
   "outputs": [],
   "source": []
  }
 ],
 "metadata": {
  "kernelspec": {
   "display_name": "Python 3",
   "language": "python",
   "name": "python3"
  },
  "language_info": {
   "codemirror_mode": {
    "name": "ipython",
    "version": 3
   },
   "file_extension": ".py",
   "mimetype": "text/x-python",
   "name": "python",
   "nbconvert_exporter": "python",
   "pygments_lexer": "ipython3",
   "version": "3.7.6"
  }
 },
 "nbformat": 4,
 "nbformat_minor": 4
}

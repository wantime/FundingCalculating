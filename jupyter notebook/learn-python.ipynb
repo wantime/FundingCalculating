{
 "cells": [
  {
   "cell_type": "code",
   "execution_count": 1,
   "id": "e6b2e279",
   "metadata": {},
   "outputs": [],
   "source": [
    "n1 = 255\n",
    "n2 = 1000"
   ]
  },
  {
   "cell_type": "code",
   "execution_count": 2,
   "id": "ac202a91",
   "metadata": {},
   "outputs": [
    {
     "name": "stdout",
     "output_type": "stream",
     "text": [
      "0xff\n",
      "0x3e8\n"
     ]
    }
   ],
   "source": [
    "n1 = str(hex(n1))\n",
    "print(n1)\n",
    "\n",
    "n2 = str(hex(n2))\n",
    "print(n2)\n"
   ]
  },
  {
   "cell_type": "markdown",
   "id": "82fab98c",
   "metadata": {},
   "source": [
    "## 解一元二次方程"
   ]
  },
  {
   "cell_type": "code",
   "execution_count": 11,
   "id": "dc7c3949",
   "metadata": {},
   "outputs": [],
   "source": [
    "import math"
   ]
  },
  {
   "cell_type": "code",
   "execution_count": 13,
   "id": "874bfac2",
   "metadata": {},
   "outputs": [],
   "source": [
    "def quadratic(a, b, c):\n",
    "    if a != 0:\n",
    "        return (-b+math.sqrt((b**2)-(4*a*c)))/(2*a),(-b-math.sqrt((b**2)-(4*a*c)))/(2*a)\n",
    "    else:\n",
    "        return -c/b"
   ]
  },
  {
   "cell_type": "code",
   "execution_count": 20,
   "id": "407326ab",
   "metadata": {},
   "outputs": [],
   "source": [
    "answer = quadratic(1, 3, -4)"
   ]
  },
  {
   "cell_type": "code",
   "execution_count": 21,
   "id": "620bf1bc",
   "metadata": {},
   "outputs": [
    {
     "name": "stdout",
     "output_type": "stream",
     "text": [
      "(1.0, -4.0)\n"
     ]
    }
   ],
   "source": [
    "print(answer)"
   ]
  },
  {
   "cell_type": "code",
   "execution_count": 28,
   "id": "70fdfe40",
   "metadata": {},
   "outputs": [],
   "source": [
    "def add_end(L=None):\n",
    "    if L == None:\n",
    "        L = []\n",
    "    L.append('END')\n",
    "    return L"
   ]
  },
  {
   "cell_type": "markdown",
   "id": "e1b3ed3e",
   "metadata": {},
   "source": [
    "## 可变参数与关键字参数\n",
    "*args  *kw"
   ]
  },
  {
   "cell_type": "code",
   "execution_count": 43,
   "id": "90bbe8ac",
   "metadata": {},
   "outputs": [],
   "source": [
    "def mul(*args):\n",
    "    res = 1\n",
    "    for num in args:\n",
    "        res = res * num\n",
    "    return res"
   ]
  },
  {
   "cell_type": "code",
   "execution_count": 44,
   "id": "6c9a278a",
   "metadata": {},
   "outputs": [
    {
     "data": {
      "text/plain": [
       "5"
      ]
     },
     "execution_count": 44,
     "metadata": {},
     "output_type": "execute_result"
    }
   ],
   "source": [
    "mul(5)"
   ]
  },
  {
   "cell_type": "code",
   "execution_count": 45,
   "id": "b3ad197d",
   "metadata": {},
   "outputs": [
    {
     "data": {
      "text/plain": [
       "30"
      ]
     },
     "execution_count": 45,
     "metadata": {},
     "output_type": "execute_result"
    }
   ],
   "source": [
    "mul(5,6)"
   ]
  },
  {
   "cell_type": "code",
   "execution_count": 46,
   "id": "dc5c0dfa",
   "metadata": {},
   "outputs": [
    {
     "data": {
      "text/plain": [
       "210"
      ]
     },
     "execution_count": 46,
     "metadata": {},
     "output_type": "execute_result"
    }
   ],
   "source": [
    "mul(5,6,7)"
   ]
  },
  {
   "cell_type": "code",
   "execution_count": 47,
   "id": "72cec37f",
   "metadata": {},
   "outputs": [
    {
     "data": {
      "text/plain": [
       "1890"
      ]
     },
     "execution_count": 47,
     "metadata": {},
     "output_type": "execute_result"
    }
   ],
   "source": [
    "mul(5,6,7,9)"
   ]
  },
  {
   "cell_type": "code",
   "execution_count": 49,
   "id": "4045217a",
   "metadata": {},
   "outputs": [],
   "source": [
    "def fact(n):\n",
    "    if n == 1:\n",
    "        return 1\n",
    "    return n * fact(n-1)"
   ]
  },
  {
   "cell_type": "code",
   "execution_count": 50,
   "id": "b66793cb",
   "metadata": {},
   "outputs": [
    {
     "data": {
      "text/plain": [
       "3628800"
      ]
     },
     "execution_count": 50,
     "metadata": {},
     "output_type": "execute_result"
    }
   ],
   "source": [
    "fact(10)"
   ]
  },
  {
   "cell_type": "code",
   "execution_count": null,
   "id": "00376046",
   "metadata": {},
   "outputs": [],
   "source": []
  }
 ],
 "metadata": {
  "kernelspec": {
   "display_name": "Python 3 (ipykernel)",
   "language": "python",
   "name": "python3"
  },
  "language_info": {
   "codemirror_mode": {
    "name": "ipython",
    "version": 3
   },
   "file_extension": ".py",
   "mimetype": "text/x-python",
   "name": "python",
   "nbconvert_exporter": "python",
   "pygments_lexer": "ipython3",
   "version": "3.9.7"
  }
 },
 "nbformat": 4,
 "nbformat_minor": 5
}

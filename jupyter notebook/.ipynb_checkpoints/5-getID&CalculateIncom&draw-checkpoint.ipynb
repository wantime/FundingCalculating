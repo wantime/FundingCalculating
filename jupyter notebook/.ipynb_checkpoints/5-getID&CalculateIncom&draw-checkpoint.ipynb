{
 "cells": [
  {
   "cell_type": "code",
   "execution_count": 1,
   "id": "c1266503",
   "metadata": {},
   "outputs": [],
   "source": [
    "import pandas as pd\n",
    "import matplotlib.pyplot as plt\n",
    "import matplotlib\n",
    "import numpy as np\n",
    "from matplotlib.pyplot import MultipleLocator\n",
    "#指定默认字体\n",
    "matplotlib.rcParams['font.sans-serif'] = ['SimHei']\n",
    "matplotlib.rcParams['font.family']='sans-serif'\n",
    "#解决负号'-'显示为方块的问题\n",
    "matplotlib.rcParams['axes.unicode_minus'] = False"
   ]
  },
  {
   "cell_type": "code",
   "execution_count": 13,
   "id": "23c1c628",
   "metadata": {},
   "outputs": [],
   "source": [
    "def Income(data, bucks=2000, buy=-0.05, sell=0.3, tax=0):\n",
    "    times = 0\n",
    "    cost = 0\n",
    "    cash = 100000\n",
    "    chunk = 0\n",
    "    maxCost = 0\n",
    "    # 日期，收益，收益率，空0买1卖2\n",
    "    res = [[], [], [], []]\n",
    "\n",
    "    for i in range(len(data[:, 0])):\n",
    "        # 记录日期\n",
    "        res[0].append(data[i, 0])\n",
    "        # 计算收益情况\n",
    "        cur = data[i, 1]\n",
    "        income = chunk * cur - cost\n",
    "        # 记录收益\n",
    "        res[1].append(income)\n",
    "        # 计算收益比例\n",
    "        incomePercent = 0 if (cost == 0) else income / cost\n",
    "        res[2].append(incomePercent)\n",
    "        if incomePercent > sell:\n",
    "            # sell\n",
    "            cost -= bucks\n",
    "            cash += bucks\n",
    "            curChunk = (bucks - (tax * bucks)) / cur\n",
    "            chunk -= curChunk\n",
    "            times += 1\n",
    "            res[3].append(2)\n",
    "        elif incomePercent < buy or incomePercent == 0:\n",
    "            # buy\n",
    "            curChunk = (bucks - (tax * bucks)) / cur\n",
    "            cost += bucks\n",
    "            cash -= bucks\n",
    "            if maxCost < cost:\n",
    "                maxCost = cost\n",
    "            chunk += curChunk\n",
    "            times += 1\n",
    "            res[3].append(1)\n",
    "        else:\n",
    "            res[3].append(0)\n",
    "\n",
    "    total = int(cash + chunk * cur)\n",
    "    return res, total, maxCost, times"
   ]
  },
  {
   "cell_type": "code",
   "execution_count": 3,
   "id": "ff225d6c",
   "metadata": {},
   "outputs": [],
   "source": [
    "def selectByType(data, query, column='type'):\n",
    "    selectData = data.loc[data[column].str.contains(query)]\n",
    "    return selectData"
   ]
  },
  {
   "cell_type": "code",
   "execution_count": 4,
   "id": "173da14e",
   "metadata": {},
   "outputs": [],
   "source": [
    "def selectByName(data, query, column='name'):\n",
    "    selectData = data.loc[data[column].str.contains(query)]\n",
    "    return selectData"
   ]
  },
  {
   "cell_type": "code",
   "execution_count": 5,
   "id": "821c754b",
   "metadata": {},
   "outputs": [],
   "source": [
    "# 对一个传入的data来说，中文名，ID，日期和对应的价格\n",
    "data = pd.read_csv('fundinfo.csv', converters={'id':str})"
   ]
  },
  {
   "cell_type": "code",
   "execution_count": 6,
   "id": "3a902ed2",
   "metadata": {},
   "outputs": [],
   "source": [
    "selectedData = selectByName(data, '博时上证超大盘ETF')"
   ]
  },
  {
   "cell_type": "code",
   "execution_count": 7,
   "id": "2930650a",
   "metadata": {},
   "outputs": [],
   "source": [
    "testdata = np.array( selectedData.values)\n",
    "a = [0,2]\n",
    "id_name = testdata[:, a].astype(str)\n",
    "for i in range(len(id_name[:,0])):\n",
    "    curID = id_name[i,0]\n",
    "    while len(curID) < 6:\n",
    "        curID = '0' + curID\n",
    "    id_name[i,0] = curID"
   ]
  },
  {
   "cell_type": "code",
   "execution_count": 8,
   "id": "1964c775",
   "metadata": {},
   "outputs": [
    {
     "name": "stdout",
     "output_type": "stream",
     "text": [
      "['050013' '博时上证超大盘ETF联接']\n",
      "['510020' '博时上证超大盘ETF']\n"
     ]
    }
   ],
   "source": [
    "code = id_name[0]\n",
    "name = id_name[1]\n",
    "print(code)\n",
    "print(name)"
   ]
  },
  {
   "cell_type": "code",
   "execution_count": 14,
   "id": "1b61f374",
   "metadata": {
    "collapsed": true
   },
   "outputs": [
    {
     "name": "stdout",
     "output_type": "stream",
     "text": [
      "save fig successfully!\n",
      "save fig successfully!\n",
      "save fig successfully!\n",
      "save fig successfully!\n",
      "save fig successfully!\n",
      "save fig successfully!\n",
      "save fig successfully!\n",
      "save fig successfully!\n",
      "save fig successfully!\n",
      "save fig successfully!\n",
      "save fig successfully!\n",
      "save fig successfully!\n",
      "save fig successfully!\n",
      "save fig successfully!\n",
      "save fig successfully!\n",
      "save fig successfully!\n",
      "save fig successfully!\n",
      "save fig successfully!\n",
      "save fig successfully!\n",
      "save fig successfully!\n",
      "save fig successfully!\n",
      "save fig successfully!\n",
      "save fig successfully!\n",
      "save fig successfully!\n",
      "save fig successfully!\n",
      "save fig successfully!\n",
      "save fig successfully!\n",
      "save fig successfully!\n",
      "save fig successfully!\n",
      "save fig successfully!\n",
      "save fig successfully!\n",
      "save fig successfully!\n",
      "save fig successfully!\n",
      "save fig successfully!\n",
      "save fig successfully!\n",
      "save fig successfully!\n",
      "save fig successfully!\n",
      "save fig successfully!\n",
      "save fig successfully!\n",
      "save fig successfully!\n",
      "save fig successfully!\n",
      "save fig successfully!\n",
      "save fig successfully!\n",
      "save fig successfully!\n",
      "save fig successfully!\n",
      "save fig successfully!\n",
      "save fig successfully!\n",
      "save fig successfully!\n",
      "save fig successfully!\n",
      "save fig successfully!\n",
      "save fig successfully!\n",
      "save fig successfully!\n",
      "save fig successfully!\n",
      "save fig successfully!\n",
      "save fig successfully!\n",
      "save fig successfully!\n",
      "save fig successfully!\n",
      "save fig successfully!\n",
      "save fig successfully!\n",
      "save fig successfully!\n",
      "save fig successfully!\n",
      "save fig successfully!\n",
      "save fig successfully!\n",
      "save fig successfully!\n",
      "save fig successfully!\n",
      "save fig successfully!\n",
      "save fig successfully!\n",
      "save fig successfully!\n",
      "save fig successfully!\n",
      "save fig successfully!\n",
      "save fig successfully!\n",
      "save fig successfully!\n",
      "save fig successfully!\n",
      "save fig successfully!\n",
      "save fig successfully!\n",
      "save fig successfully!\n",
      "save fig successfully!\n",
      "save fig successfully!\n",
      "save fig successfully!\n",
      "save fig successfully!\n",
      "save fig successfully!\n",
      "save fig successfully!\n",
      "save fig successfully!\n",
      "save fig successfully!\n",
      "save fig successfully!\n",
      "save fig successfully!\n",
      "save fig successfully!\n",
      "save fig successfully!\n",
      "save fig successfully!\n",
      "save fig successfully!\n",
      "save fig successfully!\n",
      "save fig successfully!\n",
      "save fig successfully!\n",
      "save fig successfully!\n",
      "save fig successfully!\n",
      "save fig successfully!\n",
      "save fig successfully!\n",
      "save fig successfully!\n",
      "save fig successfully!\n",
      "save fig successfully!\n"
     ]
    }
   ],
   "source": [
    "for code_name in id_name:\n",
    "    code = code_name[0]\n",
    "    name = code_name[1]\n",
    "#     try:\n",
    "    pf = pd.read_csv('../data/'+code +'.csv')\n",
    "    outdata = pf.values\n",
    "    outdata = outdata[:,1:3]\n",
    "    buck = 100\n",
    "    while buck < 5100:\n",
    "        res, total, maxCost, times = Income(outdata, bucks=buck)\n",
    "        plt.figure()\n",
    "        x = MultipleLocator(500)\n",
    "        ax = plt.gca()\n",
    "        ax.xaxis.set_major_locator(x)\n",
    "\n",
    "        plt.plot(res[0], res[1])\n",
    "        title = str(total)+'-'+str(buck)+'-'+name+'-'+str(maxCost)+'-'+str(times)\n",
    "        plt.title(title)\n",
    "        plt.savefig('../jpg/'+title+'.jpg', dpi=450)\n",
    "        print('save fig successfully!')\n",
    "        plt.close()\n",
    "        buck += 100"
   ]
  },
  {
   "cell_type": "code",
   "execution_count": 21,
   "id": "27c729cb",
   "metadata": {},
   "outputs": [
    {
     "ename": "TypeError",
     "evalue": "unsupported operand type(s) for -: 'numpy.str_' and 'str'",
     "output_type": "error",
     "traceback": [
      "\u001b[1;31m---------------------------------------------------------------------------\u001b[0m",
      "\u001b[1;31mTypeError\u001b[0m                                 Traceback (most recent call last)",
      "\u001b[1;32m~\\AppData\\Local\\Temp/ipykernel_14184/180562066.py\u001b[0m in \u001b[0;36m<module>\u001b[1;34m\u001b[0m\n\u001b[0;32m      7\u001b[0m     \u001b[0moutdata\u001b[0m \u001b[1;33m=\u001b[0m \u001b[0moutdata\u001b[0m\u001b[1;33m[\u001b[0m\u001b[1;33m:\u001b[0m\u001b[1;33m,\u001b[0m\u001b[1;36m1\u001b[0m\u001b[1;33m:\u001b[0m\u001b[1;36m3\u001b[0m\u001b[1;33m]\u001b[0m\u001b[1;33m\u001b[0m\u001b[1;33m\u001b[0m\u001b[0m\n\u001b[0;32m      8\u001b[0m     \u001b[1;32mfor\u001b[0m \u001b[0mbucks\u001b[0m \u001b[1;32min\u001b[0m \u001b[0mrange\u001b[0m\u001b[1;33m(\u001b[0m\u001b[1;36m100\u001b[0m\u001b[1;33m,\u001b[0m \u001b[1;36m5000\u001b[0m\u001b[1;33m,\u001b[0m \u001b[1;36m100\u001b[0m\u001b[1;33m)\u001b[0m\u001b[1;33m:\u001b[0m\u001b[1;33m\u001b[0m\u001b[1;33m\u001b[0m\u001b[0m\n\u001b[1;32m----> 9\u001b[1;33m         \u001b[0mres\u001b[0m\u001b[1;33m,\u001b[0m \u001b[0mtotal\u001b[0m\u001b[1;33m,\u001b[0m \u001b[0mmaxCost\u001b[0m\u001b[1;33m,\u001b[0m \u001b[0mtimes\u001b[0m \u001b[1;33m=\u001b[0m \u001b[0mIncome\u001b[0m\u001b[1;33m(\u001b[0m\u001b[0moutdata\u001b[0m\u001b[1;33m,\u001b[0m \u001b[0mname\u001b[0m\u001b[1;33m,\u001b[0m \u001b[0mbucks\u001b[0m\u001b[1;33m)\u001b[0m\u001b[1;33m\u001b[0m\u001b[1;33m\u001b[0m\u001b[0m\n\u001b[0m\u001b[0;32m     10\u001b[0m         \u001b[1;32mif\u001b[0m \u001b[0mtotal\u001b[0m \u001b[1;33m>\u001b[0m \u001b[1;36m120000\u001b[0m\u001b[1;33m:\u001b[0m\u001b[1;33m\u001b[0m\u001b[1;33m\u001b[0m\u001b[0m\n\u001b[0;32m     11\u001b[0m             \u001b[0mplt\u001b[0m\u001b[1;33m.\u001b[0m\u001b[0mfigure\u001b[0m\u001b[1;33m(\u001b[0m\u001b[1;33m)\u001b[0m\u001b[1;33m\u001b[0m\u001b[1;33m\u001b[0m\u001b[0m\n",
      "\u001b[1;32m~\\AppData\\Local\\Temp/ipykernel_14184/142003758.py\u001b[0m in \u001b[0;36mIncome\u001b[1;34m(data, bucks, buy, sell, tax)\u001b[0m\n\u001b[0;32m     29\u001b[0m         \u001b[1;32melif\u001b[0m \u001b[0mincomePercent\u001b[0m \u001b[1;33m<\u001b[0m \u001b[0mbuy\u001b[0m \u001b[1;32mor\u001b[0m \u001b[0mincomePercent\u001b[0m \u001b[1;33m==\u001b[0m \u001b[1;36m0\u001b[0m\u001b[1;33m:\u001b[0m\u001b[1;33m\u001b[0m\u001b[1;33m\u001b[0m\u001b[0m\n\u001b[0;32m     30\u001b[0m             \u001b[1;31m# buy\u001b[0m\u001b[1;33m\u001b[0m\u001b[1;33m\u001b[0m\u001b[0m\n\u001b[1;32m---> 31\u001b[1;33m             \u001b[0mcurChunk\u001b[0m \u001b[1;33m=\u001b[0m \u001b[1;33m(\u001b[0m\u001b[0mbucks\u001b[0m \u001b[1;33m-\u001b[0m \u001b[1;33m(\u001b[0m\u001b[0mtax\u001b[0m \u001b[1;33m*\u001b[0m \u001b[0mbucks\u001b[0m\u001b[1;33m)\u001b[0m\u001b[1;33m)\u001b[0m \u001b[1;33m/\u001b[0m \u001b[0mcur\u001b[0m\u001b[1;33m\u001b[0m\u001b[1;33m\u001b[0m\u001b[0m\n\u001b[0m\u001b[0;32m     32\u001b[0m             \u001b[0mcost\u001b[0m \u001b[1;33m+=\u001b[0m \u001b[0mbucks\u001b[0m\u001b[1;33m\u001b[0m\u001b[1;33m\u001b[0m\u001b[0m\n\u001b[0;32m     33\u001b[0m             \u001b[0mcash\u001b[0m \u001b[1;33m-=\u001b[0m \u001b[0mbucks\u001b[0m\u001b[1;33m\u001b[0m\u001b[1;33m\u001b[0m\u001b[0m\n",
      "\u001b[1;31mTypeError\u001b[0m: unsupported operand type(s) for -: 'numpy.str_' and 'str'"
     ]
    }
   ],
   "source": [
    "for code_name in id_name:\n",
    "    code = code_name[0]\n",
    "    name = code_name[1]\n",
    "#     try:\n",
    "    pf = pd.read_csv('../data/'+code +'.csv')\n",
    "    outdata = pf.values\n",
    "    outdata = outdata[:,1:3]\n",
    "    for buck in range(100, 5000, 100):\n",
    "        res, total, maxCost, times = Income(outdata, bucks=buck)\n",
    "        if total > 120000:\n",
    "            plt.figure()\n",
    "            x = MultipleLocator(500)\n",
    "            ax = plt.gca()\n",
    "            ax.xaxis.set_major_locator(x)\n",
    "\n",
    "            plt.plot(res[0], res[1])\n",
    "            title = str(total)+'-'+str(buck)+'-'+name+'-'+str(maxCost)+'-'+str(times)\n",
    "            plt.title(title)\n",
    "            plt.savefig('../jpg/'+title+'.jpg', dpi=450)\n",
    "            print('save fig successfully!')\n",
    "            plt.close()\n",
    "#     except:\n",
    "#         continue"
   ]
  },
  {
   "cell_type": "code",
   "execution_count": null,
   "id": "89103a21",
   "metadata": {},
   "outputs": [],
   "source": []
  }
 ],
 "metadata": {
  "kernelspec": {
   "display_name": "Python 3 (ipykernel)",
   "language": "python",
   "name": "python3"
  },
  "language_info": {
   "codemirror_mode": {
    "name": "ipython",
    "version": 3
   },
   "file_extension": ".py",
   "mimetype": "text/x-python",
   "name": "python",
   "nbconvert_exporter": "python",
   "pygments_lexer": "ipython3",
   "version": "3.9.7"
  }
 },
 "nbformat": 4,
 "nbformat_minor": 5
}

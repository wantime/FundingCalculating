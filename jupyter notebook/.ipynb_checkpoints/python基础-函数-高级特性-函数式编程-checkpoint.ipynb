{
 "cells": [
  {
   "cell_type": "code",
   "execution_count": 1,
   "id": "e6b2e279",
   "metadata": {},
   "outputs": [],
   "source": [
    "n1 = 255\n",
    "n2 = 1000"
   ]
  },
  {
   "cell_type": "code",
   "execution_count": 2,
   "id": "ac202a91",
   "metadata": {},
   "outputs": [
    {
     "name": "stdout",
     "output_type": "stream",
     "text": [
      "0xff\n",
      "0x3e8\n"
     ]
    }
   ],
   "source": [
    "n1 = str(hex(n1))\n",
    "print(n1)\n",
    "\n",
    "n2 = str(hex(n2))\n",
    "print(n2)\n"
   ]
  },
  {
   "cell_type": "markdown",
   "id": "82fab98c",
   "metadata": {},
   "source": [
    "## 解一元二次方程"
   ]
  },
  {
   "cell_type": "code",
   "execution_count": 11,
   "id": "dc7c3949",
   "metadata": {},
   "outputs": [],
   "source": [
    "import math"
   ]
  },
  {
   "cell_type": "code",
   "execution_count": 13,
   "id": "874bfac2",
   "metadata": {},
   "outputs": [],
   "source": [
    "def quadratic(a, b, c):\n",
    "    if a != 0:\n",
    "        return (-b+math.sqrt((b**2)-(4*a*c)))/(2*a),(-b-math.sqrt((b**2)-(4*a*c)))/(2*a)\n",
    "    else:\n",
    "        return -c/b"
   ]
  },
  {
   "cell_type": "code",
   "execution_count": 20,
   "id": "407326ab",
   "metadata": {},
   "outputs": [],
   "source": [
    "answer = quadratic(1, 3, -4)"
   ]
  },
  {
   "cell_type": "code",
   "execution_count": 21,
   "id": "620bf1bc",
   "metadata": {},
   "outputs": [
    {
     "name": "stdout",
     "output_type": "stream",
     "text": [
      "(1.0, -4.0)\n"
     ]
    }
   ],
   "source": [
    "print(answer)"
   ]
  },
  {
   "cell_type": "code",
   "execution_count": 28,
   "id": "70fdfe40",
   "metadata": {},
   "outputs": [],
   "source": [
    "def add_end(L=None):\n",
    "    if L == None:\n",
    "        L = []\n",
    "    L.append('END')\n",
    "    return L"
   ]
  },
  {
   "cell_type": "markdown",
   "id": "e1b3ed3e",
   "metadata": {},
   "source": [
    "## 可变参数与关键字参数\n",
    "*args  *kw"
   ]
  },
  {
   "cell_type": "code",
   "execution_count": 43,
   "id": "90bbe8ac",
   "metadata": {},
   "outputs": [],
   "source": [
    "def mul(*args):\n",
    "    res = 1\n",
    "    for num in args:\n",
    "        res = res * num\n",
    "    return res"
   ]
  },
  {
   "cell_type": "code",
   "execution_count": 44,
   "id": "6c9a278a",
   "metadata": {},
   "outputs": [
    {
     "data": {
      "text/plain": [
       "5"
      ]
     },
     "execution_count": 44,
     "metadata": {},
     "output_type": "execute_result"
    }
   ],
   "source": [
    "mul(5)"
   ]
  },
  {
   "cell_type": "code",
   "execution_count": 45,
   "id": "b3ad197d",
   "metadata": {},
   "outputs": [
    {
     "data": {
      "text/plain": [
       "30"
      ]
     },
     "execution_count": 45,
     "metadata": {},
     "output_type": "execute_result"
    }
   ],
   "source": [
    "mul(5,6)"
   ]
  },
  {
   "cell_type": "code",
   "execution_count": 46,
   "id": "dc5c0dfa",
   "metadata": {},
   "outputs": [
    {
     "data": {
      "text/plain": [
       "210"
      ]
     },
     "execution_count": 46,
     "metadata": {},
     "output_type": "execute_result"
    }
   ],
   "source": [
    "mul(5,6,7)"
   ]
  },
  {
   "cell_type": "code",
   "execution_count": 47,
   "id": "72cec37f",
   "metadata": {},
   "outputs": [
    {
     "data": {
      "text/plain": [
       "1890"
      ]
     },
     "execution_count": 47,
     "metadata": {},
     "output_type": "execute_result"
    }
   ],
   "source": [
    "mul(5,6,7,9)"
   ]
  },
  {
   "cell_type": "code",
   "execution_count": 49,
   "id": "4045217a",
   "metadata": {},
   "outputs": [],
   "source": [
    "def fact(n):\n",
    "    if n == 1:\n",
    "        return 1\n",
    "    return n * fact(n-1)"
   ]
  },
  {
   "cell_type": "code",
   "execution_count": 50,
   "id": "b66793cb",
   "metadata": {},
   "outputs": [
    {
     "data": {
      "text/plain": [
       "3628800"
      ]
     },
     "execution_count": 50,
     "metadata": {},
     "output_type": "execute_result"
    }
   ],
   "source": [
    "fact(10)"
   ]
  },
  {
   "cell_type": "markdown",
   "id": "ed9a24e1",
   "metadata": {},
   "source": [
    "## 索引、切片"
   ]
  },
  {
   "cell_type": "code",
   "execution_count": 2,
   "id": "8187bc35",
   "metadata": {},
   "outputs": [
    {
     "data": {
      "text/plain": [
       "['Jack', 'M', 'K']"
      ]
     },
     "execution_count": 2,
     "metadata": {},
     "output_type": "execute_result"
    }
   ],
   "source": [
    "L = ['Jack', 'M', 'K']\n",
    "L1 = L[:3]\n",
    "L1"
   ]
  },
  {
   "cell_type": "code",
   "execution_count": 3,
   "id": "f24089ac",
   "metadata": {},
   "outputs": [
    {
     "data": {
      "text/plain": [
       "['M', 'K']"
      ]
     },
     "execution_count": 3,
     "metadata": {},
     "output_type": "execute_result"
    }
   ],
   "source": [
    "# 倒数切片\n",
    "L2 = L[-2:]\n",
    "L2"
   ]
  },
  {
   "cell_type": "markdown",
   "id": "b160d0d1",
   "metadata": {},
   "source": [
    "## 去除字符串前后可能存在的空格"
   ]
  },
  {
   "cell_type": "code",
   "execution_count": 21,
   "id": "4ad6810d",
   "metadata": {},
   "outputs": [],
   "source": [
    "def trim(string):\n",
    "    if(string == ''):\n",
    "        return ''\n",
    "    if(string[0] == ' '):\n",
    "        return trim(string[1:])\n",
    "    elif(string[-1] == ' '):\n",
    "        return trim(string[:-2])\n",
    "    else:\n",
    "        return string"
   ]
  },
  {
   "cell_type": "code",
   "execution_count": 23,
   "id": "1aeeac22",
   "metadata": {},
   "outputs": [
    {
     "name": "stdout",
     "output_type": "stream",
     "text": [
      "测试成功!\n"
     ]
    }
   ],
   "source": [
    "if trim('hello  ') != 'hello':\n",
    "    print('测试失败!')\n",
    "elif trim('  hello') != 'hello':\n",
    "    print('测试失败!')\n",
    "elif trim('  hello  ') != 'hello':\n",
    "    print('测试失败!')\n",
    "elif trim('  hello  world  ') != 'hello  world':\n",
    "    print('测试失败!')\n",
    "elif trim('') != '':\n",
    "    print('测试失败!')\n",
    "elif trim('    ') != '':\n",
    "    print('测试失败!')\n",
    "else:\n",
    "    print('测试成功!')"
   ]
  },
  {
   "cell_type": "markdown",
   "id": "e633c208",
   "metadata": {},
   "source": [
    "# 列表生成式"
   ]
  },
  {
   "cell_type": "code",
   "execution_count": 2,
   "id": "bfea92e9",
   "metadata": {},
   "outputs": [
    {
     "data": {
      "text/plain": [
       "[1, 4, 9, 16, 25, 36, 49, 64, 81, 100]"
      ]
     },
     "execution_count": 2,
     "metadata": {},
     "output_type": "execute_result"
    }
   ],
   "source": [
    "mylist = [x * x for x in range(1,11)]\n",
    "mylist"
   ]
  },
  {
   "cell_type": "code",
   "execution_count": 3,
   "id": "09cab3ed",
   "metadata": {},
   "outputs": [
    {
     "data": {
      "text/plain": [
       "[4, 16, 36, 64, 100]"
      ]
     },
     "execution_count": 3,
     "metadata": {},
     "output_type": "execute_result"
    }
   ],
   "source": [
    "mylist = [x * x for x in range(1,11) if x % 2 == 0]\n",
    "mylist"
   ]
  },
  {
   "cell_type": "code",
   "execution_count": 9,
   "id": "ee1cfa97",
   "metadata": {
    "collapsed": true
   },
   "outputs": [
    {
     "data": {
      "text/plain": [
       "['20100',\n",
       " '20101',\n",
       " '20100',\n",
       " '20100',\n",
       " '20101',\n",
       " '20100',\n",
       " '20101',\n",
       " '20101',\n",
       " '20110',\n",
       " '20111',\n",
       " '20110',\n",
       " '20110',\n",
       " '20111',\n",
       " '20110',\n",
       " '20111',\n",
       " '20111',\n",
       " '20120',\n",
       " '20121',\n",
       " '20120',\n",
       " '20120',\n",
       " '20121',\n",
       " '20120',\n",
       " '20121',\n",
       " '20121',\n",
       " '20130',\n",
       " '20131',\n",
       " '20130',\n",
       " '20130',\n",
       " '20131',\n",
       " '20130',\n",
       " '20131',\n",
       " '20131',\n",
       " '20140',\n",
       " '20141',\n",
       " '20140',\n",
       " '20140',\n",
       " '20141',\n",
       " '20140',\n",
       " '20141',\n",
       " '20141',\n",
       " '20150',\n",
       " '20151',\n",
       " '20150',\n",
       " '20150',\n",
       " '20151',\n",
       " '20150',\n",
       " '20151',\n",
       " '20151',\n",
       " '20160',\n",
       " '20161',\n",
       " '20160',\n",
       " '20160',\n",
       " '20161',\n",
       " '20160',\n",
       " '20161',\n",
       " '20161',\n",
       " '20170',\n",
       " '20171',\n",
       " '20170',\n",
       " '20170',\n",
       " '20171',\n",
       " '20170',\n",
       " '20171',\n",
       " '20171']"
      ]
     },
     "execution_count": 9,
     "metadata": {},
     "output_type": "execute_result"
    }
   ],
   "source": [
    "exchange = [0,1,0,0,1,0,1,1]\n",
    "date = ['2010','2011','2012','2013','2014','2015','2016','2017']\n",
    "buy = [i+str(j) for i in date for j in exchange ]\n",
    "buy"
   ]
  },
  {
   "cell_type": "code",
   "execution_count": 11,
   "id": "ad48327a",
   "metadata": {},
   "outputs": [
    {
     "data": {
      "text/plain": [
       "['hello', 'world', 'apple']"
      ]
     },
     "execution_count": 11,
     "metadata": {},
     "output_type": "execute_result"
    }
   ],
   "source": [
    "L1 = ['Hello', 'World', 18, 'Apple', None]\n",
    "L2 = [s.lower() for s in L1 if isinstance(s, str)]"
   ]
  },
  {
   "cell_type": "code",
   "execution_count": 12,
   "id": "bfa5c891",
   "metadata": {},
   "outputs": [
    {
     "name": "stdout",
     "output_type": "stream",
     "text": [
      "['hello', 'world', 'apple']\n",
      "测试通过!\n"
     ]
    }
   ],
   "source": [
    "print(L2)\n",
    "if L2 == ['hello', 'world', 'apple']:\n",
    "    print('测试通过!')\n",
    "else:\n",
    "    print('测试失败!')"
   ]
  },
  {
   "cell_type": "markdown",
   "id": "50d220de",
   "metadata": {},
   "source": [
    "# generator 生成器 \n",
    ".next()\n",
    "for 遍历"
   ]
  },
  {
   "cell_type": "code",
   "execution_count": 3,
   "id": "db8aeccc",
   "metadata": {},
   "outputs": [],
   "source": [
    "def triangles():\n",
    "    L = [1]\n",
    "    yield L\n",
    "    while True:\n",
    "        L = [1 if i == 0 else L[i-1]+L[i] for i in range(len(L))]\n",
    "        L.append(1)\n",
    "        yield L"
   ]
  },
  {
   "cell_type": "code",
   "execution_count": 5,
   "id": "90e7d7c5",
   "metadata": {},
   "outputs": [],
   "source": [
    "def generate(numRows):\n",
    "    row = 0\n",
    "    L = [1]\n",
    "    res = []\n",
    "    res.append(L)\n",
    "    while row < numRows:\n",
    "        L = [1 if i == 0 else L[i-1] + L[i] for i in range(len(L))]\n",
    "        L.append(1)\n",
    "        res.append(L)\n",
    "        row += 1\n",
    "    return res"
   ]
  },
  {
   "cell_type": "code",
   "execution_count": 6,
   "id": "ec628cba",
   "metadata": {},
   "outputs": [
    {
     "data": {
      "text/plain": [
       "[[1], [1, 1], [1, 2, 1], [1, 3, 3, 1], [1, 4, 6, 4, 1], [1, 5, 10, 10, 5, 1]]"
      ]
     },
     "execution_count": 6,
     "metadata": {},
     "output_type": "execute_result"
    }
   ],
   "source": [
    "x = generate(5)\n",
    "x"
   ]
  },
  {
   "cell_type": "code",
   "execution_count": 63,
   "id": "0542f3a3",
   "metadata": {
    "scrolled": true
   },
   "outputs": [
    {
     "name": "stdout",
     "output_type": "stream",
     "text": [
      "[1]\n",
      "[1, 1]\n",
      "[1, 2, 1]\n",
      "[1, 3, 3, 1]\n",
      "[1, 4, 6, 4, 1]\n",
      "[1, 5, 10, 10, 5, 1]\n"
     ]
    }
   ],
   "source": [
    "g = triangles()\n",
    "n = 0\n",
    "for i in g:\n",
    "    if n > 5:\n",
    "        break\n",
    "    n += 1\n",
    "    print(i)"
   ]
  },
  {
   "cell_type": "code",
   "execution_count": 4,
   "id": "7288530e",
   "metadata": {},
   "outputs": [
    {
     "name": "stdout",
     "output_type": "stream",
     "text": [
      "[1]\n",
      "[1, 1]\n",
      "[1, 2, 1]\n",
      "[1, 3, 3, 1]\n",
      "[1, 4, 6, 4, 1]\n",
      "[1, 5, 10, 10, 5, 1]\n",
      "[1, 6, 15, 20, 15, 6, 1]\n",
      "[1, 7, 21, 35, 35, 21, 7, 1]\n",
      "[1, 8, 28, 56, 70, 56, 28, 8, 1]\n",
      "[1, 9, 36, 84, 126, 126, 84, 36, 9, 1]\n",
      "测试通过!\n"
     ]
    }
   ],
   "source": [
    "n = 0\n",
    "results = []\n",
    "for t in triangles():\n",
    "    results.append(t)\n",
    "    n = n + 1\n",
    "    if n == 10:\n",
    "        break\n",
    "\n",
    "for t in results:\n",
    "    print(t)\n",
    "\n",
    "if results == [\n",
    "    [1],\n",
    "    [1, 1],\n",
    "    [1, 2, 1],\n",
    "    [1, 3, 3, 1],\n",
    "    [1, 4, 6, 4, 1],\n",
    "    [1, 5, 10, 10, 5, 1],\n",
    "    [1, 6, 15, 20, 15, 6, 1],\n",
    "    [1, 7, 21, 35, 35, 21, 7, 1],\n",
    "    [1, 8, 28, 56, 70, 56, 28, 8, 1],\n",
    "    [1, 9, 36, 84, 126, 126, 84, 36, 9, 1]\n",
    "]:\n",
    "    print('测试通过!')\n",
    "else:\n",
    "    print('测试失败!')"
   ]
  },
  {
   "cell_type": "markdown",
   "id": "62122ef4",
   "metadata": {},
   "source": [
    "## 函数式编程"
   ]
  },
  {
   "cell_type": "code",
   "execution_count": 1,
   "id": "229328d3",
   "metadata": {},
   "outputs": [],
   "source": [
    "def add(x, y, f):\n",
    "    return f(x) + f(y)"
   ]
  },
  {
   "cell_type": "code",
   "execution_count": 2,
   "id": "fcf5d516",
   "metadata": {},
   "outputs": [
    {
     "data": {
      "text/plain": [
       "20"
      ]
     },
     "execution_count": 2,
     "metadata": {},
     "output_type": "execute_result"
    }
   ],
   "source": [
    "add(10, -10, abs)"
   ]
  },
  {
   "cell_type": "markdown",
   "id": "45938603",
   "metadata": {},
   "source": [
    "## map reduce"
   ]
  },
  {
   "cell_type": "code",
   "execution_count": 3,
   "id": "2a55a230",
   "metadata": {},
   "outputs": [],
   "source": [
    "def normalize(name):\n",
    "    if name == '':\n",
    "        return\n",
    "    name = name.lower()\n",
    "    Cap = name[0].upper()\n",
    "    return Cap + name[1:]"
   ]
  },
  {
   "cell_type": "code",
   "execution_count": 4,
   "id": "821206b3",
   "metadata": {},
   "outputs": [
    {
     "name": "stdout",
     "output_type": "stream",
     "text": [
      "['Adam', 'Lisa', 'Bart']\n"
     ]
    }
   ],
   "source": [
    "# 测试:\n",
    "L1 = ['adam', 'LISA', 'barT']\n",
    "L2 = list(map(normalize, L1))\n",
    "print(L2)"
   ]
  },
  {
   "cell_type": "code",
   "execution_count": 7,
   "id": "a021d486",
   "metadata": {},
   "outputs": [],
   "source": [
    "from functools import reduce"
   ]
  },
  {
   "cell_type": "code",
   "execution_count": 8,
   "id": "79031ccc",
   "metadata": {},
   "outputs": [],
   "source": [
    "def prod(L):\n",
    "    def mul(x, y):\n",
    "        return x * y\n",
    "    return reduce(mul, L)"
   ]
  },
  {
   "cell_type": "code",
   "execution_count": 9,
   "id": "8811951d",
   "metadata": {},
   "outputs": [
    {
     "name": "stdout",
     "output_type": "stream",
     "text": [
      "3 * 5 * 7 * 9 = 945\n",
      "测试成功!\n"
     ]
    }
   ],
   "source": [
    "print('3 * 5 * 7 * 9 =', prod([3, 5, 7, 9]))\n",
    "if prod([3, 5, 7, 9]) == 945:\n",
    "    print('测试成功!')\n",
    "else:\n",
    "    print('测试失败!')"
   ]
  },
  {
   "cell_type": "code",
   "execution_count": 10,
   "id": "889f9e4a",
   "metadata": {},
   "outputs": [],
   "source": [
    "def char2num(s):\n",
    "    return int(s)"
   ]
  },
  {
   "cell_type": "code",
   "execution_count": 30,
   "id": "cbe1e28f",
   "metadata": {},
   "outputs": [],
   "source": [
    "def str2float(s):\n",
    "    index = s.index('.')\n",
    "    # s 分成两部分, 第一部分变换整数，*10 返回\n",
    "    x1 = reduce(add1, map(char2num, s[:index]))\n",
    "    x2 = reduce(add1, map(char2num, s[index+1:]))\n",
    "    n = len(s) - index - 1\n",
    "    x2 = x2 * 10** -n\n",
    "    return x1 + x2\n",
    "    \n",
    "def add1(x, y):\n",
    "    return x * 10 + y\n",
    "def char2num(s):\n",
    "    return int(s)"
   ]
  },
  {
   "cell_type": "code",
   "execution_count": 32,
   "id": "9135af32",
   "metadata": {},
   "outputs": [
    {
     "name": "stdout",
     "output_type": "stream",
     "text": [
      "str2float('123.456') = 123.456\n",
      "测试成功!\n"
     ]
    }
   ],
   "source": [
    "print('str2float(\\'123.456\\') =', str2float('123.456'))\n",
    "if abs(str2float('123.456') - 123.456) < 0.00001:\n",
    "    print('测试成功!')\n",
    "else:\n",
    "    print('测试失败!')"
   ]
  },
  {
   "cell_type": "code",
   "execution_count": null,
   "id": "459ccfea",
   "metadata": {},
   "outputs": [],
   "source": []
  }
 ],
 "metadata": {
  "kernelspec": {
   "display_name": "Python 3 (ipykernel)",
   "language": "python",
   "name": "python3"
  },
  "language_info": {
   "codemirror_mode": {
    "name": "ipython",
    "version": 3
   },
   "file_extension": ".py",
   "mimetype": "text/x-python",
   "name": "python",
   "nbconvert_exporter": "python",
   "pygments_lexer": "ipython3",
   "version": "3.9.7"
  }
 },
 "nbformat": 4,
 "nbformat_minor": 5
}

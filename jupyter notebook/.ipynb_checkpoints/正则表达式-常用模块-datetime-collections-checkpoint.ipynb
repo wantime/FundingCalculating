{
 "cells": [
  {
   "cell_type": "markdown",
   "id": "8a692b14",
   "metadata": {},
   "source": [
    "##  用正则表达式验证邮箱"
   ]
  },
  {
   "cell_type": "code",
   "execution_count": 1,
   "id": "49165934",
   "metadata": {},
   "outputs": [],
   "source": [
    "# -*- coding: utf-8 -*-\n",
    "import re"
   ]
  },
  {
   "cell_type": "code",
   "execution_count": 43,
   "id": "b18ece77",
   "metadata": {},
   "outputs": [],
   "source": [
    "def is_valid_email(addr):\n",
    "    email_re1 = r'(\\w+\\.)*(\\w+)@(\\w+)(\\.[a-zA-Z]{3})$'\n",
    "    if re.match(email_re1, addrs[1]):\n",
    "        return True\n",
    "    else:\n",
    "        return False"
   ]
  },
  {
   "cell_type": "code",
   "execution_count": 44,
   "id": "460a0d71",
   "metadata": {},
   "outputs": [
    {
     "name": "stdout",
     "output_type": "stream",
     "text": [
      "ok\n"
     ]
    }
   ],
   "source": [
    "assert is_valid_email('someone@gmail.com')\n",
    "assert is_valid_email('bill.gates@microsoft.com')\n",
    "assert not is_valid_email('bob#example.com')\n",
    "assert not is_valid_email('mr-bob@example.com')\n",
    "print('ok')"
   ]
  },
  {
   "cell_type": "code",
   "execution_count": 52,
   "id": "f1d9dd5f",
   "metadata": {},
   "outputs": [],
   "source": [
    "def name_of_email(addr):\n",
    "    email_re2 = r'\\<\\w+\\>'\n",
    "    addrs = re.split(r'\\>', addr)\n",
    "    if not is_valid_email(addr):\n",
    "        return None\n",
    "    return re.split('@', addr)[0]"
   ]
  },
  {
   "cell_type": "code",
   "execution_count": 57,
   "id": "cb538690",
   "metadata": {},
   "outputs": [],
   "source": [
    "addr = '<Tom Paris> tom@voyager.org'\n",
    "email_re = r'\\<\\w+\\>*'\n",
    "re.match(addr, email_re)"
   ]
  },
  {
   "cell_type": "code",
   "execution_count": 53,
   "id": "2919a6b6",
   "metadata": {
    "scrolled": true
   },
   "outputs": [
    {
     "name": "stdout",
     "output_type": "stream",
     "text": [
      "ok\n"
     ]
    }
   ],
   "source": [
    "# 测试:\n",
    "#assert name_of_email('<Tom Paris> tom@voyager.org') == 'Tom Paris'\n",
    "assert name_of_email('tom@voyager.org') == 'tom'\n",
    "print('ok')"
   ]
  },
  {
   "cell_type": "code",
   "execution_count": null,
   "id": "d15a01b7",
   "metadata": {},
   "outputs": [],
   "source": []
  }
 ],
 "metadata": {
  "kernelspec": {
   "display_name": "Python 3 (ipykernel)",
   "language": "python",
   "name": "python3"
  },
  "language_info": {
   "codemirror_mode": {
    "name": "ipython",
    "version": 3
   },
   "file_extension": ".py",
   "mimetype": "text/x-python",
   "name": "python",
   "nbconvert_exporter": "python",
   "pygments_lexer": "ipython3",
   "version": "3.9.7"
  }
 },
 "nbformat": 4,
 "nbformat_minor": 5
}

{
 "cells": [
  {
   "cell_type": "code",
   "execution_count": 1,
   "id": "19f6be85",
   "metadata": {},
   "outputs": [
    {
     "name": "stdout",
     "output_type": "stream",
     "text": [
      "**********************************************************************\n",
      "File \"__main__\", line 9, in __main__.fact\n",
      "Failed example:\n",
      "    fact(10)\n",
      "Expected:\n",
      "    3628800\n",
      "    >> fact(-1)\n",
      "    ValueError\n",
      "Got:\n",
      "    3628800\n",
      "**********************************************************************\n",
      "1 items had failures:\n",
      "   1 of   2 in __main__.fact\n",
      "***Test Failed*** 1 failures.\n"
     ]
    }
   ],
   "source": [
    "import doctest\n",
    "\n",
    "def fact(n):\n",
    "\t'''\n",
    "\tCalculate 1*2...*n\n",
    "\n",
    "\t>>> fact(1)\n",
    "\t1\n",
    "\t>>> fact(10)\n",
    "\t3628800\n",
    "\t>> fact(-1)\n",
    "\tValueError\n",
    "\t'''\n",
    "\n",
    "\tif n < 1:\n",
    "\t\traise ValueError()\n",
    "\tif n == 1:\n",
    "\t\treturn 1\n",
    "\treturn n * fact(n - 1)\n",
    "\n",
    "\n",
    "if __name__ == '__main__':\n",
    "    \n",
    "    doctest.testmod()"
   ]
  },
  {
   "cell_type": "code",
   "execution_count": null,
   "id": "487b1bd4",
   "metadata": {},
   "outputs": [],
   "source": []
  }
 ],
 "metadata": {
  "kernelspec": {
   "display_name": "Python 3 (ipykernel)",
   "language": "python",
   "name": "python3"
  },
  "language_info": {
   "codemirror_mode": {
    "name": "ipython",
    "version": 3
   },
   "file_extension": ".py",
   "mimetype": "text/x-python",
   "name": "python",
   "nbconvert_exporter": "python",
   "pygments_lexer": "ipython3",
   "version": "3.9.7"
  }
 },
 "nbformat": 4,
 "nbformat_minor": 5
}
